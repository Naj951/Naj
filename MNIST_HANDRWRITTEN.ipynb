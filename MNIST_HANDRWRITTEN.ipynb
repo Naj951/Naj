{
  "nbformat": 4,
  "nbformat_minor": 0,
  "metadata": {
    "colab": {
      "provenance": [],
      "authorship_tag": "ABX9TyMr413jToOEXwRnjAVexLJp",
      "include_colab_link": true
    },
    "kernelspec": {
      "name": "python3",
      "display_name": "Python 3"
    },
    "language_info": {
      "name": "python"
    }
  },
  "cells": [
    {
      "cell_type": "markdown",
      "metadata": {
        "id": "view-in-github",
        "colab_type": "text"
      },
      "source": [
        "<a href=\"https://colab.research.google.com/github/Naj951/Naj/blob/main/MNIST_HANDRWRITTEN.ipynb\" target=\"_parent\"><img src=\"https://colab.research.google.com/assets/colab-badge.svg\" alt=\"Open In Colab\"/></a>"
      ]
    },
    {
      "cell_type": "code",
      "execution_count": null,
      "metadata": {
        "id": "2X_Mgnj852yW"
      },
      "outputs": [],
      "source": [
        "import numpy as np\n",
        "import matplotlib.pyplot as plt\n",
        "import seaborn as sns\n",
        "import cv2\n",
        "from google.colab.patches import cv2_imshow\n",
        "from PIL import Image\n",
        "import tensorflow as tf\n",
        "tf.random.set_seed(3)\n",
        "from tensorflow import keras\n",
        "from keras.datasets import mnist\n",
        "from tensorflow.math import confusion_matrix\n"
      ]
    },
    {
      "cell_type": "code",
      "source": [
        "#loading the mnist datas from keras\n",
        "(X_train,Y_train),(X_test,Y_test)= mnist.load_data()"
      ],
      "metadata": {
        "id": "NHy0ij5P7vJb",
        "colab": {
          "base_uri": "https://localhost:8080/"
        },
        "outputId": "0817d7f1-6406-4605-d683-4915eeec1e11"
      },
      "execution_count": null,
      "outputs": [
        {
          "output_type": "stream",
          "name": "stdout",
          "text": [
            "Downloading data from https://storage.googleapis.com/tensorflow/tf-keras-datasets/mnist.npz\n",
            "\u001b[1m11490434/11490434\u001b[0m \u001b[32m━━━━━━━━━━━━━━━━━━━━\u001b[0m\u001b[37m\u001b[0m \u001b[1m1s\u001b[0m 0us/step\n"
          ]
        }
      ]
    },
    {
      "cell_type": "code",
      "source": [
        "type(X_train)"
      ],
      "metadata": {
        "colab": {
          "base_uri": "https://localhost:8080/"
        },
        "id": "86W6DyBJ88C9",
        "outputId": "b4545bbf-9ac0-4897-e3d0-77a63879a311"
      },
      "execution_count": null,
      "outputs": [
        {
          "output_type": "execute_result",
          "data": {
            "text/plain": [
              "numpy.ndarray"
            ]
          },
          "metadata": {},
          "execution_count": 4
        }
      ]
    },
    {
      "cell_type": "code",
      "source": [
        "#shape of the numpy array\n",
        "print(X_train.shape,Y_train.shape,X_test.shape,Y_test.shape)"
      ],
      "metadata": {
        "colab": {
          "base_uri": "https://localhost:8080/"
        },
        "id": "nKSQdg7Q9BKL",
        "outputId": "16c501a9-6599-4427-e31d-2cd591ec3584"
      },
      "execution_count": null,
      "outputs": [
        {
          "output_type": "stream",
          "name": "stdout",
          "text": [
            "(60000, 28, 28) (60000,) (10000, 28, 28) (10000,)\n"
          ]
        }
      ]
    },
    {
      "cell_type": "code",
      "source": [
        "#Training data  = 60,000 Images\n",
        "#test data = 10,000 ImageSummary\n",
        "# grayscale image 1 channel\n",
        "# image dimension"
      ],
      "metadata": {
        "id": "1BzKCWyY9uFO"
      },
      "execution_count": null,
      "outputs": []
    },
    {
      "cell_type": "code",
      "source": [
        "#printing the 10 image\n",
        "print(X_train[10])"
      ],
      "metadata": {
        "colab": {
          "base_uri": "https://localhost:8080/"
        },
        "id": "DgGT-hT6_fzw",
        "outputId": "27e4eec2-4b47-4b5b-b3cd-18b0452429d0"
      },
      "execution_count": null,
      "outputs": [
        {
          "output_type": "stream",
          "name": "stdout",
          "text": [
            "[[  0   0   0   0   0   0   0   0   0   0   0   0   0   0   0   0   0   0\n",
            "    0   0   0   0   0   0   0   0   0   0]\n",
            " [  0   0   0   0   0   0   0   0   0   0   0   0   0   0   0   0   0   0\n",
            "    0   0   0   0   0   0   0   0   0   0]\n",
            " [  0   0   0   0   0   0   0   0   0   0   0   0   0   0   0   0   0   0\n",
            "    0   0   0   0   0   0   0   0   0   0]\n",
            " [  0   0   0   0   0   0   0   0   0   0   0   0   0   0   0   0   0   0\n",
            "    0   0   0   0   0   0   0   0   0   0]\n",
            " [  0   0   0   0   0   0   0   0   0   0   0  42 118 219 166 118 118   6\n",
            "    0   0   0   0   0   0   0   0   0   0]\n",
            " [  0   0   0   0   0   0   0   0   0   0 103 242 254 254 254 254 254  66\n",
            "    0   0   0   0   0   0   0   0   0   0]\n",
            " [  0   0   0   0   0   0   0   0   0   0  18 232 254 254 254 254 254 238\n",
            "   70   0   0   0   0   0   0   0   0   0]\n",
            " [  0   0   0   0   0   0   0   0   0   0   0 104 244 254 224 254 254 254\n",
            "  141   0   0   0   0   0   0   0   0   0]\n",
            " [  0   0   0   0   0   0   0   0   0   0   0   0 207 254 210 254 254 254\n",
            "   34   0   0   0   0   0   0   0   0   0]\n",
            " [  0   0   0   0   0   0   0   0   0   0   0   0  84 206 254 254 254 254\n",
            "   41   0   0   0   0   0   0   0   0   0]\n",
            " [  0   0   0   0   0   0   0   0   0   0   0   0   0  24 209 254 254 254\n",
            "  171   0   0   0   0   0   0   0   0   0]\n",
            " [  0   0   0   0   0   0   0   0   0   0   0   0  91 137 253 254 254 254\n",
            "  112   0   0   0   0   0   0   0   0   0]\n",
            " [  0   0   0   0   0   0   0   0   0   0  40 214 250 254 254 254 254 254\n",
            "   34   0   0   0   0   0   0   0   0   0]\n",
            " [  0   0   0   0   0   0   0   0   0   0  81 247 254 254 254 254 254 254\n",
            "  146   0   0   0   0   0   0   0   0   0]\n",
            " [  0   0   0   0   0   0   0   0   0   0   0 110 246 254 254 254 254 254\n",
            "  171   0   0   0   0   0   0   0   0   0]\n",
            " [  0   0   0   0   0   0   0   0   0   0   0   0  73  89  89  93 240 254\n",
            "  171   0   0   0   0   0   0   0   0   0]\n",
            " [  0   0   0   0   0   0   0   0   0   0   0   0   0   0   0   1 128 254\n",
            "  219  31   0   0   0   0   0   0   0   0]\n",
            " [  0   0   0   0   0   0   0   0   0   0   0   0   0   0   0   7 254 254\n",
            "  214  28   0   0   0   0   0   0   0   0]\n",
            " [  0   0   0   0   0   0   0   0   0   0   0   0   0   0   0 138 254 254\n",
            "  116   0   0   0   0   0   0   0   0   0]\n",
            " [  0   0   0   0   0   0  19 177  90   0   0   0   0   0  25 240 254 254\n",
            "   34   0   0   0   0   0   0   0   0   0]\n",
            " [  0   0   0   0   0   0 164 254 215  63  36   0  51  89 206 254 254 139\n",
            "    8   0   0   0   0   0   0   0   0   0]\n",
            " [  0   0   0   0   0   0  57 197 254 254 222 180 241 254 254 253 213  11\n",
            "    0   0   0   0   0   0   0   0   0   0]\n",
            " [  0   0   0   0   0   0   0 140 105 254 254 254 254 254 254 236   0   0\n",
            "    0   0   0   0   0   0   0   0   0   0]\n",
            " [  0   0   0   0   0   0   0   0   7 117 117 165 254 254 239  50   0   0\n",
            "    0   0   0   0   0   0   0   0   0   0]\n",
            " [  0   0   0   0   0   0   0   0   0   0   0   0   0   0   0   0   0   0\n",
            "    0   0   0   0   0   0   0   0   0   0]\n",
            " [  0   0   0   0   0   0   0   0   0   0   0   0   0   0   0   0   0   0\n",
            "    0   0   0   0   0   0   0   0   0   0]\n",
            " [  0   0   0   0   0   0   0   0   0   0   0   0   0   0   0   0   0   0\n",
            "    0   0   0   0   0   0   0   0   0   0]\n",
            " [  0   0   0   0   0   0   0   0   0   0   0   0   0   0   0   0   0   0\n",
            "    0   0   0   0   0   0   0   0   0   0]]\n"
          ]
        }
      ]
    },
    {
      "cell_type": "code",
      "source": [
        "print(X_train[10].shape)"
      ],
      "metadata": {
        "colab": {
          "base_uri": "https://localhost:8080/"
        },
        "id": "yphtEIIY_upz",
        "outputId": "bdf0e723-c50d-47aa-8ec6-4bc3ad7a05af"
      },
      "execution_count": null,
      "outputs": [
        {
          "output_type": "stream",
          "name": "stdout",
          "text": [
            "(28, 28)\n"
          ]
        }
      ]
    },
    {
      "cell_type": "code",
      "source": [
        "#displaing the image\n",
        "plt.imshow(X_train[50])\n",
        "plt.show()\n",
        "#print the corresponding label\n",
        "\n",
        "print(Y_train[50])\n"
      ],
      "metadata": {
        "colab": {
          "base_uri": "https://localhost:8080/",
          "height": 447
        },
        "id": "WduvTxDw_6jB",
        "outputId": "2637161a-a612-4fde-8359-7ad6e4ceb3fb"
      },
      "execution_count": null,
      "outputs": [
        {
          "output_type": "display_data",
          "data": {
            "text/plain": [
              "<Figure size 640x480 with 1 Axes>"
            ],
            "image/png": "[encoded data removed]"
          },
          "metadata": {}
        },
        {
          "output_type": "stream",
          "name": "stdout",
          "text": [
            "3\n"
          ]
        }
      ]
    },
    {
      "cell_type": "code",
      "source": [
        "print(Y_train.shape,Y_test.shape)"
      ],
      "metadata": {
        "colab": {
          "base_uri": "https://localhost:8080/"
        },
        "id": "NqwOF0kfChVU",
        "outputId": "0e42e86f-96d4-4895-eace-9fe16706ef89"
      },
      "execution_count": null,
      "outputs": [
        {
          "output_type": "stream",
          "name": "stdout",
          "text": [
            "(60000,) (10000,)\n"
          ]
        }
      ]
    },
    {
      "cell_type": "code",
      "source": [
        "#unique values"
      ],
      "metadata": {
        "id": "qdiL26lRChtG"
      },
      "execution_count": null,
      "outputs": []
    },
    {
      "cell_type": "code",
      "source": [],
      "metadata": {
        "id": "_xj-gQmSCjDs"
      },
      "execution_count": null,
      "outputs": []
    },
    {
      "cell_type": "code",
      "source": [
        "#image labels\n",
        "print(np.unique(Y_train))\n",
        "#unique values on y test\n",
        "print(np.unique(Y_test))"
      ],
      "metadata": {
        "id": "Nj4PPOntCT5z",
        "colab": {
          "base_uri": "https://localhost:8080/"
        },
        "outputId": "c24bc090-dadc-45c5-ea15-0978879b7ff0"
      },
      "execution_count": null,
      "outputs": [
        {
          "output_type": "stream",
          "name": "stdout",
          "text": [
            "[0 1 2 3 4 5 6 7 8 9]\n",
            "[0 1 2 3 4 5 6 7 8 9]\n"
          ]
        }
      ]
    },
    {
      "cell_type": "code",
      "source": [
        "#we can use these labels as such or we can also aply ONE HOT Encoding\n",
        "#All images have the same dimensions in thhiis dataset,if not,  we have to resize all the image to a common dimension\n"
      ],
      "metadata": {
        "id": "QB1VPsnkAGQx"
      },
      "execution_count": null,
      "outputs": []
    },
    {
      "cell_type": "code",
      "source": [
        "#scaling the value\n",
        "X_train = X_train/255\n",
        "X_test = X_test/255"
      ],
      "metadata": {
        "id": "2YprBVJD9QpO"
      },
      "execution_count": null,
      "outputs": []
    },
    {
      "cell_type": "code",
      "source": [
        "#printing the 10th image\n",
        "print(X_train[10\n",
        "              ])"
      ],
      "metadata": {
        "colab": {
          "base_uri": "https://localhost:8080/"
        },
        "id": "1w1GGwWH9k-c",
        "outputId": "af4c5723-aa29-41d6-b036-5ca7ef132f31"
      },
      "execution_count": null,
      "outputs": [
        {
          "output_type": "stream",
          "name": "stdout",
          "text": [
            "[[0.         0.         0.         0.         0.         0.\n",
            "  0.         0.         0.         0.         0.         0.\n",
            "  0.         0.         0.         0.         0.         0.\n",
            "  0.         0.         0.         0.         0.         0.\n",
            "  0.         0.         0.         0.        ]\n",
            " [0.         0.         0.         0.         0.         0.\n",
            "  0.         0.         0.         0.         0.         0.\n",
            "  0.         0.         0.         0.         0.         0.\n",
            "  0.         0.         0.         0.         0.         0.\n",
            "  0.         0.         0.         0.        ]\n",
            " [0.         0.         0.         0.         0.         0.\n",
            "  0.         0.         0.         0.         0.         0.\n",
            "  0.         0.         0.         0.         0.         0.\n",
            "  0.         0.         0.         0.         0.         0.\n",
            "  0.         0.         0.         0.        ]\n",
            " [0.         0.         0.         0.         0.         0.\n",
            "  0.         0.         0.         0.         0.         0.\n",
            "  0.         0.         0.         0.         0.         0.\n",
            "  0.         0.         0.         0.         0.         0.\n",
            "  0.         0.         0.         0.        ]\n",
            " [0.         0.         0.         0.         0.         0.\n",
            "  0.         0.         0.         0.         0.         0.16470588\n",
            "  0.4627451  0.85882353 0.65098039 0.4627451  0.4627451  0.02352941\n",
            "  0.         0.         0.         0.         0.         0.\n",
            "  0.         0.         0.         0.        ]\n",
            " [0.         0.         0.         0.         0.         0.\n",
            "  0.         0.         0.         0.         0.40392157 0.94901961\n",
            "  0.99607843 0.99607843 0.99607843 0.99607843 0.99607843 0.25882353\n",
            "  0.         0.         0.         0.         0.         0.\n",
            "  0.         0.         0.         0.        ]\n",
            " [0.         0.         0.         0.         0.         0.\n",
            "  0.         0.         0.         0.         0.07058824 0.90980392\n",
            "  0.99607843 0.99607843 0.99607843 0.99607843 0.99607843 0.93333333\n",
            "  0.2745098  0.         0.         0.         0.         0.\n",
            "  0.         0.         0.         0.        ]\n",
            " [0.         0.         0.         0.         0.         0.\n",
            "  0.         0.         0.         0.         0.         0.40784314\n",
            "  0.95686275 0.99607843 0.87843137 0.99607843 0.99607843 0.99607843\n",
            "  0.55294118 0.         0.         0.         0.         0.\n",
            "  0.         0.         0.         0.        ]\n",
            " [0.         0.         0.         0.         0.         0.\n",
            "  0.         0.         0.         0.         0.         0.\n",
            "  0.81176471 0.99607843 0.82352941 0.99607843 0.99607843 0.99607843\n",
            "  0.13333333 0.         0.         0.         0.         0.\n",
            "  0.         0.         0.         0.        ]\n",
            " [0.         0.         0.         0.         0.         0.\n",
            "  0.         0.         0.         0.         0.         0.\n",
            "  0.32941176 0.80784314 0.99607843 0.99607843 0.99607843 0.99607843\n",
            "  0.16078431 0.         0.         0.         0.         0.\n",
            "  0.         0.         0.         0.        ]\n",
            " [0.         0.         0.         0.         0.         0.\n",
            "  0.         0.         0.         0.         0.         0.\n",
            "  0.         0.09411765 0.81960784 0.99607843 0.99607843 0.99607843\n",
            "  0.67058824 0.         0.         0.         0.         0.\n",
            "  0.         0.         0.         0.        ]\n",
            " [0.         0.         0.         0.         0.         0.\n",
            "  0.         0.         0.         0.         0.         0.\n",
            "  0.35686275 0.5372549  0.99215686 0.99607843 0.99607843 0.99607843\n",
            "  0.43921569 0.         0.         0.         0.         0.\n",
            "  0.         0.         0.         0.        ]\n",
            " [0.         0.         0.         0.         0.         0.\n",
            "  0.         0.         0.         0.         0.15686275 0.83921569\n",
            "  0.98039216 0.99607843 0.99607843 0.99607843 0.99607843 0.99607843\n",
            "  0.13333333 0.         0.         0.         0.         0.\n",
            "  0.         0.         0.         0.        ]\n",
            " [0.         0.         0.         0.         0.         0.\n",
            "  0.         0.         0.         0.         0.31764706 0.96862745\n",
            "  0.99607843 0.99607843 0.99607843 0.99607843 0.99607843 0.99607843\n",
            "  0.57254902 0.         0.         0.         0.         0.\n",
            "  0.         0.         0.         0.        ]\n",
            " [0.         0.         0.         0.         0.         0.\n",
            "  0.         0.         0.         0.         0.         0.43137255\n",
            "  0.96470588 0.99607843 0.99607843 0.99607843 0.99607843 0.99607843\n",
            "  0.67058824 0.         0.         0.         0.         0.\n",
            "  0.         0.         0.         0.        ]\n",
            " [0.         0.         0.         0.         0.         0.\n",
            "  0.         0.         0.         0.         0.         0.\n",
            "  0.28627451 0.34901961 0.34901961 0.36470588 0.94117647 0.99607843\n",
            "  0.67058824 0.         0.         0.         0.         0.\n",
            "  0.         0.         0.         0.        ]\n",
            " [0.         0.         0.         0.         0.         0.\n",
            "  0.         0.         0.         0.         0.         0.\n",
            "  0.         0.         0.         0.00392157 0.50196078 0.99607843\n",
            "  0.85882353 0.12156863 0.         0.         0.         0.\n",
            "  0.         0.         0.         0.        ]\n",
            " [0.         0.         0.         0.         0.         0.\n",
            "  0.         0.         0.         0.         0.         0.\n",
            "  0.         0.         0.         0.02745098 0.99607843 0.99607843\n",
            "  0.83921569 0.10980392 0.         0.         0.         0.\n",
            "  0.         0.         0.         0.        ]\n",
            " [0.         0.         0.         0.         0.         0.\n",
            "  0.         0.         0.         0.         0.         0.\n",
            "  0.         0.         0.         0.54117647 0.99607843 0.99607843\n",
            "  0.45490196 0.         0.         0.         0.         0.\n",
            "  0.         0.         0.         0.        ]\n",
            " [0.         0.         0.         0.         0.         0.\n",
            "  0.0745098  0.69411765 0.35294118 0.         0.         0.\n",
            "  0.         0.         0.09803922 0.94117647 0.99607843 0.99607843\n",
            "  0.13333333 0.         0.         0.         0.         0.\n",
            "  0.         0.         0.         0.        ]\n",
            " [0.         0.         0.         0.         0.         0.\n",
            "  0.64313725 0.99607843 0.84313725 0.24705882 0.14117647 0.\n",
            "  0.2        0.34901961 0.80784314 0.99607843 0.99607843 0.54509804\n",
            "  0.03137255 0.         0.         0.         0.         0.\n",
            "  0.         0.         0.         0.        ]\n",
            " [0.         0.         0.         0.         0.         0.\n",
            "  0.22352941 0.77254902 0.99607843 0.99607843 0.87058824 0.70588235\n",
            "  0.94509804 0.99607843 0.99607843 0.99215686 0.83529412 0.04313725\n",
            "  0.         0.         0.         0.         0.         0.\n",
            "  0.         0.         0.         0.        ]\n",
            " [0.         0.         0.         0.         0.         0.\n",
            "  0.         0.54901961 0.41176471 0.99607843 0.99607843 0.99607843\n",
            "  0.99607843 0.99607843 0.99607843 0.9254902  0.         0.\n",
            "  0.         0.         0.         0.         0.         0.\n",
            "  0.         0.         0.         0.        ]\n",
            " [0.         0.         0.         0.         0.         0.\n",
            "  0.         0.         0.02745098 0.45882353 0.45882353 0.64705882\n",
            "  0.99607843 0.99607843 0.9372549  0.19607843 0.         0.\n",
            "  0.         0.         0.         0.         0.         0.\n",
            "  0.         0.         0.         0.        ]\n",
            " [0.         0.         0.         0.         0.         0.\n",
            "  0.         0.         0.         0.         0.         0.\n",
            "  0.         0.         0.         0.         0.         0.\n",
            "  0.         0.         0.         0.         0.         0.\n",
            "  0.         0.         0.         0.        ]\n",
            " [0.         0.         0.         0.         0.         0.\n",
            "  0.         0.         0.         0.         0.         0.\n",
            "  0.         0.         0.         0.         0.         0.\n",
            "  0.         0.         0.         0.         0.         0.\n",
            "  0.         0.         0.         0.        ]\n",
            " [0.         0.         0.         0.         0.         0.\n",
            "  0.         0.         0.         0.         0.         0.\n",
            "  0.         0.         0.         0.         0.         0.\n",
            "  0.         0.         0.         0.         0.         0.\n",
            "  0.         0.         0.         0.        ]\n",
            " [0.         0.         0.         0.         0.         0.\n",
            "  0.         0.         0.         0.         0.         0.\n",
            "  0.         0.         0.         0.         0.         0.\n",
            "  0.         0.         0.         0.         0.         0.\n",
            "  0.         0.         0.         0.        ]]\n"
          ]
        }
      ]
    },
    {
      "cell_type": "markdown",
      "source": [
        "Building the neural network\n"
      ],
      "metadata": {
        "id": "MUm3DNYw-RRT"
      }
    },
    {
      "cell_type": "code",
      "source": [
        "#setting up layers of the neural network\n",
        "model= keras.Sequential([ keras.layers.Flatten(input_shape =(28,28)),\n",
        "                         keras.layers.Dense(50,activation='relu'),\n",
        "                        keras.layers.Dense(50,activation='relu'),\n",
        "                        keras.layers.Dense(10,activation='sigmoid')])"
      ],
      "metadata": {
        "id": "u1RzhddJ-XWZ"
      },
      "execution_count": null,
      "outputs": []
    },
    {
      "cell_type": "code",
      "source": [
        "# settiing up the layers of Neural network\n",
        "model.compile(optimizer='adam',\n",
        "              loss = 'sparse_categorical_crossentropy',\n",
        "              metrics =['accuracy'])"
      ],
      "metadata": {
        "id": "5HcLm-Mw_RVK"
      },
      "execution_count": null,
      "outputs": []
    },
    {
      "cell_type": "code",
      "source": [
        "#training the neural network\n",
        "model.fit(X_train,Y_train,epochs=10)"
      ],
      "metadata": {
        "colab": {
          "base_uri": "https://localhost:8080/"
        },
        "id": "b5n_BXap_Q11",
        "outputId": "e45b578e-d7af-4be2-ae7d-847bb54f5dd6"
      },
      "execution_count": null,
      "outputs": [
        {
          "output_type": "stream",
          "name": "stdout",
          "text": [
            "Epoch 1/10\n",
            "\u001b[1m1875/1875\u001b[0m \u001b[32m━━━━━━━━━━━━━━━━━━━━\u001b[0m\u001b[37m\u001b[0m \u001b[1m8s\u001b[0m 3ms/step - accuracy: 0.8498 - loss: 0.5175\n",
            "Epoch 2/10\n",
            "\u001b[1m1875/1875\u001b[0m \u001b[32m━━━━━━━━━━━━━━━━━━━━\u001b[0m\u001b[37m\u001b[0m \u001b[1m5s\u001b[0m 3ms/step - accuracy: 0.9555 - loss: 0.1506\n",
            "Epoch 3/10\n",
            "\u001b[1m1875/1875\u001b[0m \u001b[32m━━━━━━━━━━━━━━━━━━━━\u001b[0m\u001b[37m\u001b[0m \u001b[1m10s\u001b[0m 3ms/step - accuracy: 0.9675 - loss: 0.1094\n",
            "Epoch 4/10\n",
            "\u001b[1m1875/1875\u001b[0m \u001b[32m━━━━━━━━━━━━━━━━━━━━\u001b[0m\u001b[37m\u001b[0m \u001b[1m6s\u001b[0m 3ms/step - accuracy: 0.9734 - loss: 0.0874\n",
            "Epoch 5/10\n",
            "\u001b[1m1875/1875\u001b[0m \u001b[32m━━━━━━━━━━━━━━━━━━━━\u001b[0m\u001b[37m\u001b[0m \u001b[1m5s\u001b[0m 3ms/step - accuracy: 0.9783 - loss: 0.0717\n",
            "Epoch 6/10\n",
            "\u001b[1m1875/1875\u001b[0m \u001b[32m━━━━━━━━━━━━━━━━━━━━\u001b[0m\u001b[37m\u001b[0m \u001b[1m6s\u001b[0m 3ms/step - accuracy: 0.9821 - loss: 0.0595\n",
            "Epoch 7/10\n",
            "\u001b[1m1875/1875\u001b[0m \u001b[32m━━━━━━━━━━━━━━━━━━━━\u001b[0m\u001b[37m\u001b[0m \u001b[1m10s\u001b[0m 3ms/step - accuracy: 0.9855 - loss: 0.0499\n",
            "Epoch 8/10\n",
            "\u001b[1m1875/1875\u001b[0m \u001b[32m━━━━━━━━━━━━━━━━━━━━\u001b[0m\u001b[37m\u001b[0m \u001b[1m6s\u001b[0m 3ms/step - accuracy: 0.9866 - loss: 0.0441\n",
            "Epoch 9/10\n",
            "\u001b[1m1875/1875\u001b[0m \u001b[32m━━━━━━━━━━━━━━━━━━━━\u001b[0m\u001b[37m\u001b[0m \u001b[1m5s\u001b[0m 3ms/step - accuracy: 0.9884 - loss: 0.0380\n",
            "Epoch 10/10\n",
            "\u001b[1m1875/1875\u001b[0m \u001b[32m━━━━━━━━━━━━━━━━━━━━\u001b[0m\u001b[37m\u001b[0m \u001b[1m10s\u001b[0m 3ms/step - accuracy: 0.9893 - loss: 0.0334\n"
          ]
        },
        {
          "output_type": "execute_result",
          "data": {
            "text/plain": [
              "<keras.src.callbacks.history.History at 0x78ee65d56450>"
            ]
          },
          "metadata": {},
          "execution_count": 19
        }
      ]
    },
    {
      "cell_type": "markdown",
      "source": [
        "Training data accuracy = 98.9%"
      ],
      "metadata": {
        "id": "r08DbsYqF9bC"
      }
    },
    {
      "cell_type": "markdown",
      "source": [
        "Accuracy on Test data"
      ],
      "metadata": {
        "id": "4DrVL_AfGC95"
      }
    },
    {
      "cell_type": "code",
      "source": [
        "loss,accuracy = model.evaluate(X_test,Y_test)\n",
        "print(accuracy)"
      ],
      "metadata": {
        "colab": {
          "base_uri": "https://localhost:8080/"
        },
        "id": "9HozVeKF_Pr8",
        "outputId": "c6960946-9a24-44dc-ba47-33648f997426"
      },
      "execution_count": null,
      "outputs": [
        {
          "output_type": "stream",
          "name": "stdout",
          "text": [
            "\u001b[1m313/313\u001b[0m \u001b[32m━━━━━━━━━━━━━━━━━━━━\u001b[0m\u001b[37m\u001b[0m \u001b[1m1s\u001b[0m 2ms/step - accuracy: 0.9645 - loss: 0.1282\n",
            "0.9693999886512756\n"
          ]
        }
      ]
    },
    {
      "cell_type": "markdown",
      "source": [
        "Test data accuracy =97.1%"
      ],
      "metadata": {
        "id": "PU46gwGjGWX5"
      }
    },
    {
      "cell_type": "code",
      "source": [
        "print(X_test.shape)"
      ],
      "metadata": {
        "colab": {
          "base_uri": "https://localhost:8080/"
        },
        "id": "iSSthSVL-6PS",
        "outputId": "26070fbd-c5f8-4308-c7ba-d0865506db2b"
      },
      "execution_count": null,
      "outputs": [
        {
          "output_type": "stream",
          "name": "stdout",
          "text": [
            "(10000, 28, 28)\n"
          ]
        }
      ]
    },
    {
      "cell_type": "code",
      "source": [
        "#first data point in x_test\n",
        "plt.imshow(X_test[0])\n",
        "plt.show()"
      ],
      "metadata": {
        "colab": {
          "base_uri": "https://localhost:8080/",
          "height": 430
        },
        "id": "pXTpza0IGh5b",
        "outputId": "5966dd3d-11e3-4c34-8098-050c5f0b8737"
      },
      "execution_count": null,
      "outputs": [
        {
          "output_type": "display_data",
          "data": {
            "text/plain": [
              "<Figure size 640x480 with 1 Axes>"
            ],
            "image/png": "[encoded data removed]"
          },
          "metadata": {}
        }
      ]
    },
    {
      "cell_type": "code",
      "source": [
        "print(Y_test[0])"
      ],
      "metadata": {
        "colab": {
          "base_uri": "https://localhost:8080/"
        },
        "id": "YrlUbITGHFEE",
        "outputId": "871f676d-106e-4433-8938-aa79ad91c158"
      },
      "execution_count": null,
      "outputs": [
        {
          "output_type": "stream",
          "name": "stdout",
          "text": [
            "7\n"
          ]
        }
      ]
    },
    {
      "cell_type": "code",
      "source": [
        "y_pred = model.predict(X_test)"
      ],
      "metadata": {
        "colab": {
          "base_uri": "https://localhost:8080/"
        },
        "id": "MqlRyswwHRET",
        "outputId": "c26736a2-bf7a-499b-a37f-961bfa7adbce"
      },
      "execution_count": null,
      "outputs": [
        {
          "output_type": "stream",
          "name": "stdout",
          "text": [
            "\u001b[1m313/313\u001b[0m \u001b[32m━━━━━━━━━━━━━━━━━━━━\u001b[0m\u001b[37m\u001b[0m \u001b[1m1s\u001b[0m 1ms/step\n"
          ]
        }
      ]
    },
    {
      "cell_type": "code",
      "source": [
        "print(y_pred.shape)"
      ],
      "metadata": {
        "colab": {
          "base_uri": "https://localhost:8080/"
        },
        "id": "DFZY7xEDHcTP",
        "outputId": "21ad42d4-ae97-4af9-8025-c71e04ee8820"
      },
      "execution_count": null,
      "outputs": [
        {
          "output_type": "stream",
          "name": "stdout",
          "text": [
            "(10000, 10)\n"
          ]
        }
      ]
    },
    {
      "cell_type": "code",
      "source": [
        "print(y_pred[0])"
      ],
      "metadata": {
        "colab": {
          "base_uri": "https://localhost:8080/"
        },
        "id": "0G00wZHWHlB2",
        "outputId": "b5736464-af6c-46de-c83f-7f1e56e2a904"
      },
      "execution_count": null,
      "outputs": [
        {
          "output_type": "stream",
          "name": "stdout",
          "text": [
            "[3.56914650e-04 1.34180137e-03 1.23889567e-02 8.01034927e-01\n",
            " 3.83376027e-06 1.08475535e-04 1.66608924e-15 9.99998808e-01\n",
            " 2.65166257e-02 9.85156238e-01]\n"
          ]
        }
      ]
    },
    {
      "cell_type": "markdown",
      "source": [
        "model.predict() gives the prediction probability of each class for that data point"
      ],
      "metadata": {
        "id": "LieJNxklIDwv"
      }
    },
    {
      "cell_type": "code",
      "source": [
        "# converting the prediction proablities to class label\n",
        "label_for_first_test_image = np.argmax(y_pred[0])\n",
        "print(label_for_first_test_image)"
      ],
      "metadata": {
        "colab": {
          "base_uri": "https://localhost:8080/"
        },
        "id": "0EHUL0W3Hs2N",
        "outputId": "faeccbc7-b7e5-450d-c1e5-0303670a6ee2"
      },
      "execution_count": null,
      "outputs": [
        {
          "output_type": "stream",
          "name": "stdout",
          "text": [
            "7\n"
          ]
        }
      ]
    },
    {
      "cell_type": "code",
      "source": [
        "# converting the prediction prababilities to class label for all test data points\n",
        "y_pred_labels = [np.argmax(i)for i in y_pred]\n",
        "print(y_pred_labels)"
      ],
      "metadata": {
        "colab": {
          "base_uri": "https://localhost:8080/"
        },
        "id": "MBC2HyUMIzFb",
        "outputId": "c4918dd8-e90e-4a5d-94d9-b0bd30e73ca6"
      },
      "execution_count": null,
      "outputs": [
        {
          "output_type": "stream",
          "name": "stdout",
          "text": [
            "[np.int64(7), np.int64(2), np.int64(1), np.int64(0), np.int64(4), np.int64(1), np.int64(4), np.int64(9), np.int64(5), np.int64(9), np.int64(0), np.int64(6), np.int64(9), np.int64(0), np.int64(1), np.int64(5), np.int64(9), np.int64(7), np.int64(5), np.int64(4), np.int64(9), np.int64(6), np.int64(6), np.int64(5), np.int64(4), np.int64(0), np.int64(7), np.int64(4), np.int64(0), np.int64(1), np.int64(3), np.int64(1), np.int64(3), np.int64(4), np.int64(7), np.int64(2), np.int64(7), np.int64(1), np.int64(3), np.int64(1), np.int64(1), np.int64(7), np.int64(4), np.int64(2), np.int64(3), np.int64(5), np.int64(1), np.int64(2), np.int64(4), np.int64(4), np.int64(6), np.int64(3), np.int64(5), np.int64(5), np.int64(6), np.int64(0), np.int64(4), np.int64(1), np.int64(9), np.int64(5), np.int64(7), np.int64(8), np.int64(9), np.int64(3), np.int64(7), np.int64(4), np.int64(6), np.int64(4), np.int64(3), np.int64(0), np.int64(7), np.int64(0), np.int64(2), np.int64(9), np.int64(1), np.int64(7), np.int64(3), np.int64(2), np.int64(9), np.int64(7), np.int64(7), np.int64(6), np.int64(2), np.int64(7), np.int64(8), np.int64(4), np.int64(7), np.int64(3), np.int64(6), np.int64(1), np.int64(3), np.int64(6), np.int64(9), np.int64(3), np.int64(1), np.int64(4), np.int64(1), np.int64(7), np.int64(6), np.int64(9), np.int64(6), np.int64(0), np.int64(5), np.int64(4), np.int64(5), np.int64(9), np.int64(2), np.int64(1), np.int64(9), np.int64(4), np.int64(8), np.int64(7), np.int64(3), np.int64(9), np.int64(7), np.int64(4), np.int64(4), np.int64(4), np.int64(9), np.int64(8), np.int64(5), np.int64(4), np.int64(7), np.int64(6), np.int64(4), np.int64(9), np.int64(0), np.int64(5), np.int64(8), np.int64(5), np.int64(6), np.int64(6), np.int64(5), np.int64(7), np.int64(8), np.int64(1), np.int64(0), np.int64(1), np.int64(6), np.int64(4), np.int64(6), np.int64(7), np.int64(3), np.int64(1), np.int64(7), np.int64(1), np.int64(8), np.int64(2), np.int64(0), np.int64(4), np.int64(9), np.int64(9), np.int64(5), np.int64(5), np.int64(1), np.int64(5), np.int64(6), np.int64(0), np.int64(3), np.int64(4), np.int64(4), np.int64(6), np.int64(5), np.int64(4), np.int64(6), np.int64(5), np.int64(4), np.int64(5), np.int64(1), np.int64(4), np.int64(4), np.int64(7), np.int64(2), np.int64(3), np.int64(2), np.int64(7), np.int64(1), np.int64(8), np.int64(1), np.int64(8), np.int64(1), np.int64(8), np.int64(5), np.int64(0), np.int64(8), np.int64(9), np.int64(2), np.int64(5), np.int64(0), np.int64(1), np.int64(1), np.int64(1), np.int64(0), np.int64(9), np.int64(0), np.int64(5), np.int64(1), np.int64(6), np.int64(4), np.int64(2), np.int64(3), np.int64(6), np.int64(1), np.int64(1), np.int64(1), np.int64(3), np.int64(9), np.int64(5), np.int64(2), np.int64(9), np.int64(4), np.int64(5), np.int64(9), np.int64(3), np.int64(9), np.int64(0), np.int64(3), np.int64(6), np.int64(5), np.int64(5), np.int64(7), np.int64(2), np.int64(2), np.int64(7), np.int64(1), np.int64(2), np.int64(8), np.int64(4), np.int64(1), np.int64(7), np.int64(3), np.int64(3), np.int64(8), np.int64(8), np.int64(7), np.int64(9), np.int64(2), np.int64(2), np.int64(4), np.int64(1), np.int64(5), np.int64(5), np.int64(8), np.int64(7), np.int64(2), np.int64(3), np.int64(0), np.int64(2), np.int64(4), np.int64(2), np.int64(4), np.int64(1), np.int64(9), np.int64(5), np.int64(7), np.int64(7), np.int64(2), np.int64(8), np.int64(2), np.int64(6), np.int64(8), np.int64(5), np.int64(7), np.int64(7), np.int64(9), np.int64(1), np.int64(8), np.int64(1), np.int64(8), np.int64(0), np.int64(3), np.int64(0), np.int64(1), np.int64(9), np.int64(9), np.int64(4), np.int64(1), np.int64(8), np.int64(2), np.int64(1), np.int64(2), np.int64(9), np.int64(7), np.int64(5), np.int64(9), np.int64(2), np.int64(6), np.int64(4), np.int64(1), np.int64(5), np.int64(8), np.int64(2), np.int64(9), np.int64(2), np.int64(0), np.int64(4), np.int64(0), np.int64(0), np.int64(2), np.int64(8), np.int64(4), np.int64(7), np.int64(1), np.int64(2), np.int64(4), np.int64(0), np.int64(2), np.int64(7), np.int64(4), np.int64(3), np.int64(3), np.int64(0), np.int64(0), np.int64(3), np.int64(1), np.int64(9), np.int64(6), np.int64(5), np.int64(3), np.int64(5), np.int64(9), np.int64(7), np.int64(9), np.int64(3), np.int64(0), np.int64(4), np.int64(2), np.int64(0), np.int64(7), np.int64(1), np.int64(1), np.int64(2), np.int64(1), np.int64(5), np.int64(3), np.int64(3), np.int64(9), np.int64(7), np.int64(8), np.int64(6), np.int64(3), np.int64(6), np.int64(1), np.int64(3), np.int64(8), np.int64(1), np.int64(0), np.int64(5), np.int64(1), np.int64(3), np.int64(1), np.int64(5), np.int64(5), np.int64(6), np.int64(1), np.int64(8), np.int64(5), np.int64(1), np.int64(7), np.int64(9), np.int64(4), np.int64(6), np.int64(2), np.int64(2), np.int64(5), np.int64(0), np.int64(6), np.int64(5), np.int64(6), np.int64(3), np.int64(7), np.int64(2), np.int64(0), np.int64(8), np.int64(8), np.int64(5), np.int64(4), np.int64(1), np.int64(1), np.int64(4), np.int64(0), np.int64(3), np.int64(3), np.int64(7), np.int64(6), np.int64(1), np.int64(6), np.int64(2), np.int64(1), np.int64(9), np.int64(2), np.int64(8), np.int64(6), np.int64(1), np.int64(9), np.int64(5), np.int64(2), np.int64(5), np.int64(4), np.int64(4), np.int64(2), np.int64(8), np.int64(3), np.int64(8), np.int64(2), np.int64(4), np.int64(5), np.int64(0), np.int64(3), np.int64(1), np.int64(7), np.int64(7), np.int64(5), np.int64(7), np.int64(9), np.int64(7), np.int64(1), np.int64(9), np.int64(2), np.int64(1), np.int64(4), np.int64(2), np.int64(9), np.int64(2), np.int64(0), np.int64(2), np.int64(9), np.int64(1), np.int64(4), np.int64(8), np.int64(1), np.int64(8), np.int64(4), np.int64(5), np.int64(9), np.int64(8), np.int64(8), np.int64(3), np.int64(7), np.int64(6), np.int64(0), np.int64(0), np.int64(3), np.int64(0), np.int64(2), np.int64(6), np.int64(6), np.int64(7), np.int64(9), np.int64(3), np.int64(3), np.int64(3), np.int64(2), np.int64(3), np.int64(9), np.int64(1), np.int64(2), np.int64(6), np.int64(8), np.int64(0), np.int64(5), np.int64(6), np.int64(6), np.int64(6), np.int64(3), np.int64(8), np.int64(8), np.int64(2), np.int64(7), np.int64(5), np.int64(8), np.int64(9), np.int64(6), np.int64(1), np.int64(8), np.int64(4), np.int64(1), np.int64(2), np.int64(5), np.int64(9), np.int64(1), np.int64(9), np.int64(7), np.int64(5), np.int64(4), np.int64(0), np.int64(8), np.int64(9), np.int64(9), np.int64(1), np.int64(0), np.int64(5), np.int64(2), np.int64(3), np.int64(7), np.int64(2), np.int64(9), np.int64(4), np.int64(0), np.int64(6), np.int64(3), np.int64(9), np.int64(5), np.int64(2), np.int64(1), np.int64(3), np.int64(1), np.int64(3), np.int64(6), np.int64(5), np.int64(7), np.int64(4), np.int64(2), np.int64(2), np.int64(6), np.int64(3), np.int64(2), np.int64(6), np.int64(5), np.int64(4), np.int64(8), np.int64(9), np.int64(7), np.int64(1), np.int64(3), np.int64(0), np.int64(3), np.int64(3), np.int64(3), np.int64(1), np.int64(9), np.int64(3), np.int64(4), np.int64(4), np.int64(6), np.int64(4), np.int64(2), np.int64(1), np.int64(8), np.int64(2), np.int64(5), np.int64(4), np.int64(8), np.int64(8), np.int64(4), np.int64(0), np.int64(0), np.int64(2), np.int64(3), np.int64(2), np.int64(7), np.int64(7), np.int64(0), np.int64(8), np.int64(7), np.int64(4), np.int64(4), np.int64(7), np.int64(9), np.int64(6), np.int64(9), np.int64(0), np.int64(9), np.int64(8), np.int64(0), np.int64(4), np.int64(6), np.int64(0), np.int64(6), np.int64(3), np.int64(5), np.int64(4), np.int64(8), np.int64(3), np.int64(3), np.int64(9), np.int64(3), np.int64(3), np.int64(3), np.int64(7), np.int64(8), np.int64(0), np.int64(2), np.int64(7), np.int64(1), np.int64(7), np.int64(0), np.int64(6), np.int64(5), np.int64(4), np.int64(3), np.int64(8), np.int64(0), np.int64(9), np.int64(6), np.int64(3), np.int64(8), np.int64(0), np.int64(9), np.int64(9), np.int64(6), np.int64(8), np.int64(6), np.int64(8), np.int64(5), np.int64(7), np.int64(8), np.int64(6), np.int64(0), np.int64(2), np.int64(4), np.int64(0), np.int64(2), np.int64(2), np.int64(3), np.int64(1), np.int64(9), np.int64(7), np.int64(5), np.int64(8), np.int64(0), np.int64(8), np.int64(4), np.int64(6), np.int64(2), np.int64(6), np.int64(7), np.int64(9), np.int64(3), np.int64(2), np.int64(9), np.int64(8), np.int64(2), np.int64(2), np.int64(9), np.int64(2), np.int64(7), np.int64(3), np.int64(5), np.int64(9), np.int64(1), np.int64(8), np.int64(0), np.int64(2), np.int64(0), np.int64(5), np.int64(2), np.int64(1), np.int64(3), np.int64(7), np.int64(6), np.int64(7), np.int64(1), np.int64(2), np.int64(5), np.int64(8), np.int64(0), np.int64(3), np.int64(7), np.int64(1), np.int64(4), np.int64(0), np.int64(9), np.int64(1), np.int64(8), np.int64(6), np.int64(7), np.int64(7), np.int64(4), np.int64(3), np.int64(4), np.int64(9), np.int64(1), np.int64(9), np.int64(3), np.int64(1), np.int64(7), np.int64(3), np.int64(9), np.int64(7), np.int64(6), np.int64(9), np.int64(1), np.int64(3), np.int64(7), np.int64(8), np.int64(3), np.int64(3), np.int64(6), np.int64(7), np.int64(2), np.int64(4), np.int64(5), np.int64(8), np.int64(5), np.int64(1), np.int64(1), np.int64(4), np.int64(4), np.int64(3), np.int64(1), np.int64(0), np.int64(7), np.int64(7), np.int64(0), np.int64(7), np.int64(9), np.int64(9), np.int64(4), np.int64(8), np.int64(5), np.int64(5), np.int64(4), np.int64(0), np.int64(8), np.int64(2), np.int64(1), np.int64(0), np.int64(8), np.int64(4), np.int64(8), np.int64(0), np.int64(4), np.int64(0), np.int64(6), np.int64(1), np.int64(7), np.int64(3), np.int64(2), np.int64(6), np.int64(7), np.int64(2), np.int64(6), np.int64(9), np.int64(3), np.int64(1), np.int64(4), np.int64(6), np.int64(2), np.int64(5), np.int64(9), np.int64(2), np.int64(0), np.int64(6), np.int64(2), np.int64(1), np.int64(7), np.int64(3), np.int64(4), np.int64(1), np.int64(0), np.int64(5), np.int64(4), np.int64(3), np.int64(1), np.int64(1), np.int64(7), np.int64(4), np.int64(9), np.int64(9), np.int64(4), np.int64(8), np.int64(4), np.int64(0), np.int64(2), np.int64(4), np.int64(5), np.int64(1), np.int64(1), np.int64(6), np.int64(4), np.int64(7), np.int64(1), np.int64(9), np.int64(4), np.int64(2), np.int64(4), np.int64(1), np.int64(5), np.int64(5), np.int64(3), np.int64(8), np.int64(3), np.int64(1), np.int64(4), np.int64(5), np.int64(6), np.int64(8), np.int64(9), np.int64(4), np.int64(1), np.int64(5), np.int64(3), np.int64(8), np.int64(0), np.int64(3), np.int64(2), np.int64(5), np.int64(1), np.int64(2), np.int64(8), np.int64(3), np.int64(4), np.int64(4), np.int64(0), np.int64(8), np.int64(8), np.int64(3), np.int64(3), np.int64(1), np.int64(7), np.int64(3), np.int64(5), np.int64(9), np.int64(6), np.int64(3), np.int64(2), np.int64(6), np.int64(1), np.int64(3), np.int64(6), np.int64(0), np.int64(7), np.int64(2), np.int64(1), np.int64(7), np.int64(1), np.int64(4), np.int64(2), np.int64(4), np.int64(2), np.int64(1), np.int64(7), np.int64(9), np.int64(6), np.int64(1), np.int64(1), np.int64(2), np.int64(4), np.int64(8), np.int64(1), np.int64(7), np.int64(7), np.int64(4), np.int64(8), np.int64(0), np.int64(9), np.int64(3), np.int64(1), np.int64(3), np.int64(1), np.int64(0), np.int64(7), np.int64(7), np.int64(0), np.int64(3), np.int64(5), np.int64(5), np.int64(2), np.int64(7), np.int64(6), np.int64(6), np.int64(9), np.int64(2), np.int64(8), np.int64(3), np.int64(5), np.int64(2), np.int64(2), np.int64(5), np.int64(6), np.int64(0), np.int64(8), np.int64(2), np.int64(9), np.int64(2), np.int64(8), np.int64(8), np.int64(8), np.int64(8), np.int64(7), np.int64(4), np.int64(9), np.int64(3), np.int64(0), np.int64(6), np.int64(6), np.int64(3), np.int64(2), np.int64(1), np.int64(3), np.int64(2), np.int64(2), np.int64(9), np.int64(3), np.int64(0), np.int64(0), np.int64(5), np.int64(7), np.int64(8), np.int64(3), np.int64(4), np.int64(4), np.int64(6), np.int64(0), np.int64(2), np.int64(9), np.int64(1), np.int64(4), np.int64(7), np.int64(4), np.int64(7), np.int64(3), np.int64(9), np.int64(8), np.int64(8), np.int64(4), np.int64(7), np.int64(1), np.int64(2), np.int64(1), np.int64(2), np.int64(2), np.int64(3), np.int64(7), np.int64(3), np.int64(2), np.int64(3), np.int64(9), np.int64(1), np.int64(7), np.int64(4), np.int64(0), np.int64(3), np.int64(5), np.int64(5), np.int64(8), np.int64(6), np.int64(5), np.int64(2), np.int64(6), np.int64(7), np.int64(6), np.int64(6), np.int64(3), np.int64(2), np.int64(7), np.int64(9), np.int64(1), np.int64(1), np.int64(7), np.int64(4), np.int64(6), np.int64(4), np.int64(9), np.int64(5), np.int64(6), np.int64(3), np.int64(3), np.int64(4), np.int64(7), np.int64(8), np.int64(9), np.int64(1), np.int64(1), np.int64(5), np.int64(9), np.int64(1), np.int64(4), np.int64(4), np.int64(5), np.int64(4), np.int64(0), np.int64(6), np.int64(2), np.int64(2), np.int64(3), np.int64(1), np.int64(5), np.int64(1), np.int64(2), np.int64(0), np.int64(3), np.int64(8), np.int64(1), np.int64(2), np.int64(6), np.int64(7), np.int64(1), np.int64(6), np.int64(2), np.int64(3), np.int64(9), np.int64(0), np.int64(1), np.int64(2), np.int64(2), np.int64(0), np.int64(8), np.int64(9), np.int64(9), np.int64(0), np.int64(2), np.int64(5), np.int64(1), np.int64(9), np.int64(7), np.int64(8), np.int64(1), np.int64(0), np.int64(4), np.int64(1), np.int64(7), np.int64(9), np.int64(5), np.int64(4), np.int64(2), np.int64(6), np.int64(8), np.int64(1), np.int64(3), np.int64(7), np.int64(5), np.int64(4), np.int64(4), np.int64(1), np.int64(8), np.int64(1), np.int64(3), np.int64(8), np.int64(1), np.int64(2), np.int64(5), np.int64(8), np.int64(0), np.int64(6), np.int64(2), np.int64(1), np.int64(1), np.int64(7), np.int64(1), np.int64(5), np.int64(3), np.int64(4), np.int64(8), np.int64(9), np.int64(5), np.int64(0), np.int64(9), np.int64(2), np.int64(2), np.int64(4), np.int64(8), np.int64(2), np.int64(1), np.int64(7), np.int64(2), np.int64(4), np.int64(9), np.int64(4), np.int64(4), np.int64(0), np.int64(7), np.int64(9), np.int64(2), np.int64(2), np.int64(3), np.int64(3), np.int64(8), np.int64(3), np.int64(5), np.int64(7), np.int64(3), np.int64(5), np.int64(8), np.int64(1), np.int64(2), np.int64(4), np.int64(4), np.int64(6), np.int64(4), np.int64(9), np.int64(3), np.int64(1), np.int64(0), np.int64(6), np.int64(9), np.int64(5), np.int64(9), np.int64(5), np.int64(9), np.int64(7), np.int64(3), np.int64(8), np.int64(0), np.int64(3), np.int64(7), np.int64(1), np.int64(3), np.int64(6), np.int64(7), np.int64(8), np.int64(5), np.int64(9), np.int64(7), np.int64(9), np.int64(6), np.int64(9), np.int64(6), np.int64(3), np.int64(7), np.int64(4), np.int64(6), np.int64(5), np.int64(3), np.int64(5), np.int64(4), np.int64(7), np.int64(8), np.int64(7), np.int64(8), np.int64(0), np.int64(7), np.int64(6), np.int64(8), np.int64(8), np.int64(7), np.int64(3), np.int64(3), np.int64(1), np.int64(9), np.int64(5), np.int64(2), np.int64(7), np.int64(3), np.int64(5), np.int64(1), np.int64(1), np.int64(2), np.int64(1), np.int64(4), np.int64(7), np.int64(4), np.int64(7), np.int64(5), np.int64(4), np.int64(5), np.int64(4), np.int64(0), np.int64(8), np.int64(3), np.int64(6), np.int64(9), np.int64(6), np.int64(0), np.int64(2), np.int64(3), np.int64(4), np.int64(4), np.int64(4), np.int64(4), np.int64(6), np.int64(6), np.int64(4), np.int64(7), np.int64(9), np.int64(3), np.int64(4), np.int64(5), np.int64(5), np.int64(8), np.int64(7), np.int64(3), np.int64(7), np.int64(2), np.int64(7), np.int64(0), np.int64(2), np.int64(4), np.int64(1), np.int64(1), np.int64(6), np.int64(6), np.int64(9), np.int64(2), np.int64(8), np.int64(7), np.int64(2), np.int64(0), np.int64(1), np.int64(5), np.int64(0), np.int64(9), np.int64(1), np.int64(7), np.int64(0), np.int64(6), np.int64(0), np.int64(8), np.int64(6), np.int64(8), np.int64(1), np.int64(8), np.int64(0), np.int64(3), np.int64(3), np.int64(7), np.int64(2), np.int64(3), np.int64(6), np.int64(2), np.int64(1), np.int64(6), np.int64(1), np.int64(1), np.int64(3), np.int64(7), np.int64(9), np.int64(0), np.int64(8), np.int64(0), np.int64(5), np.int64(4), np.int64(0), np.int64(2), np.int64(8), np.int64(2), np.int64(2), np.int64(9), np.int64(8), np.int64(4), np.int64(0), np.int64(4), np.int64(5), np.int64(8), np.int64(5), np.int64(1), np.int64(2), np.int64(1), np.int64(3), np.int64(1), np.int64(7), np.int64(9), np.int64(5), np.int64(7), np.int64(2), np.int64(0), np.int64(5), np.int64(8), np.int64(8), np.int64(6), np.int64(6), np.int64(5), np.int64(6), np.int64(1), np.int64(9), np.int64(2), np.int64(1), np.int64(5), np.int64(8), np.int64(1), np.int64(0), np.int64(2), np.int64(4), np.int64(4), np.int64(3), np.int64(6), np.int64(8), np.int64(8), np.int64(2), np.int64(4), np.int64(0), np.int64(5), np.int64(0), np.int64(4), np.int64(4), np.int64(7), np.int64(9), np.int64(3), np.int64(4), np.int64(1), np.int64(5), np.int64(9), np.int64(7), np.int64(3), np.int64(5), np.int64(8), np.int64(8), np.int64(0), np.int64(5), np.int64(3), np.int64(3), np.int64(6), np.int64(6), np.int64(0), np.int64(1), np.int64(6), np.int64(0), np.int64(3), np.int64(5), np.int64(4), np.int64(4), np.int64(1), np.int64(2), np.int64(9), np.int64(1), np.int64(4), np.int64(6), np.int64(9), np.int64(9), np.int64(3), np.int64(9), np.int64(8), np.int64(4), np.int64(4), np.int64(3), np.int64(1), np.int64(3), np.int64(1), np.int64(0), np.int64(8), np.int64(7), np.int64(9), np.int64(4), np.int64(8), np.int64(6), np.int64(7), np.int64(9), np.int64(9), np.int64(1), np.int64(4), np.int64(5), np.int64(6), np.int64(0), np.int64(5), np.int64(2), np.int64(2), np.int64(6), np.int64(1), np.int64(5), np.int64(5), np.int64(2), np.int64(4), np.int64(9), np.int64(6), np.int64(2), np.int64(7), np.int64(7), np.int64(2), np.int64(2), np.int64(1), np.int64(1), np.int64(2), np.int64(8), np.int64(3), np.int64(7), np.int64(0), np.int64(4), np.int64(1), np.int64(7), np.int64(1), np.int64(7), np.int64(6), np.int64(7), np.int64(2), np.int64(2), np.int64(7), np.int64(3), np.int64(1), np.int64(7), np.int64(5), np.int64(8), np.int64(2), np.int64(6), np.int64(2), np.int64(2), np.int64(5), np.int64(6), np.int64(5), np.int64(0), np.int64(9), np.int64(2), np.int64(4), np.int64(3), np.int64(3), np.int64(9), np.int64(7), np.int64(6), np.int64(6), np.int64(8), np.int64(0), np.int64(4), np.int64(1), np.int64(3), np.int64(8), np.int64(3), np.int64(9), np.int64(1), np.int64(8), np.int64(0), np.int64(6), np.int64(7), np.int64(2), np.int64(1), np.int64(0), np.int64(5), np.int64(5), np.int64(2), np.int64(0), np.int64(2), np.int64(2), np.int64(0), np.int64(2), np.int64(9), np.int64(9), np.int64(8), np.int64(0), np.int64(9), np.int64(9), np.int64(4), np.int64(6), np.int64(5), np.int64(4), np.int64(9), np.int64(1), np.int64(8), np.int64(3), np.int64(4), np.int64(9), np.int64(9), np.int64(1), np.int64(2), np.int64(2), np.int64(8), np.int64(1), np.int64(9), np.int64(6), np.int64(4), np.int64(6), np.int64(9), np.int64(4), np.int64(8), np.int64(3), np.int64(8), np.int64(6), np.int64(0), np.int64(2), np.int64(5), np.int64(1), np.int64(9), np.int64(6), np.int64(2), np.int64(9), np.int64(4), np.int64(0), np.int64(9), np.int64(6), np.int64(0), np.int64(6), np.int64(2), np.int64(5), np.int64(4), np.int64(2), np.int64(3), np.int64(8), np.int64(4), np.int64(5), np.int64(5), np.int64(0), np.int64(3), np.int64(8), np.int64(5), np.int64(3), np.int64(5), np.int64(8), np.int64(6), np.int64(5), np.int64(7), np.int64(6), np.int64(3), np.int64(3), np.int64(9), np.int64(6), np.int64(1), np.int64(1), np.int64(2), np.int64(9), np.int64(0), np.int64(4), np.int64(3), np.int64(3), np.int64(6), np.int64(9), np.int64(5), np.int64(9), np.int64(3), np.int64(7), np.int64(7), np.int64(7), np.int64(8), np.int64(1), np.int64(9), np.int64(8), np.int64(3), np.int64(0), np.int64(7), np.int64(2), np.int64(7), np.int64(9), np.int64(4), np.int64(5), np.int64(4), np.int64(9), np.int64(3), np.int64(2), np.int64(1), np.int64(4), np.int64(0), np.int64(2), np.int64(3), np.int64(2), np.int64(5), np.int64(9), np.int64(8), np.int64(8), np.int64(5), np.int64(0), np.int64(1), np.int64(1), np.int64(4), np.int64(8), np.int64(3), np.int64(9), np.int64(0), np.int64(0), np.int64(0), np.int64(6), np.int64(6), np.int64(2), np.int64(3), np.int64(7), np.int64(8), np.int64(4), np.int64(9), np.int64(7), np.int64(9), np.int64(3), np.int64(4), np.int64(1), np.int64(6), np.int64(5), np.int64(2), np.int64(4), np.int64(9), np.int64(9), np.int64(1), np.int64(8), np.int64(4), np.int64(0), np.int64(9), np.int64(8), np.int64(4), np.int64(8), np.int64(7), np.int64(7), np.int64(0), np.int64(7), np.int64(8), np.int64(8), np.int64(6), np.int64(0), np.int64(4), np.int64(8), np.int64(8), np.int64(2), np.int64(4), np.int64(7), np.int64(6), np.int64(6), np.int64(6), np.int64(4), np.int64(7), np.int64(1), np.int64(8), np.int64(8), np.int64(2), np.int64(3), np.int64(6), np.int64(3), np.int64(0), np.int64(0), np.int64(3), np.int64(7), np.int64(6), np.int64(9), np.int64(7), np.int64(9), np.int64(9), np.int64(5), np.int64(4), np.int64(3), np.int64(3), np.int64(6), np.int64(1), np.int64(2), np.int64(3), np.int64(7), np.int64(3), np.int64(3), np.int64(6), np.int64(0), np.int64(3), np.int64(3), np.int64(8), np.int64(4), np.int64(3), np.int64(6), np.int64(3), np.int64(5), np.int64(0), np.int64(2), np.int64(0), np.int64(9), np.int64(0), np.int64(7), np.int64(4), np.int64(5), np.int64(9), np.int64(3), np.int64(5), np.int64(1), np.int64(9), np.int64(6), np.int64(1), np.int64(4), np.int64(5), np.int64(4), np.int64(5), np.int64(0), np.int64(5), np.int64(9), np.int64(5), np.int64(2), np.int64(1), np.int64(2), np.int64(9), np.int64(1), np.int64(9), np.int64(9), np.int64(4), np.int64(0), np.int64(8), np.int64(4), np.int64(5), np.int64(2), np.int64(9), np.int64(2), np.int64(1), np.int64(2), np.int64(1), np.int64(7), np.int64(3), np.int64(6), np.int64(8), np.int64(8), np.int64(4), np.int64(9), np.int64(1), np.int64(9), np.int64(8), np.int64(3), np.int64(7), np.int64(5), np.int64(1), np.int64(1), np.int64(8), np.int64(6), np.int64(5), np.int64(2), np.int64(4), np.int64(4), np.int64(9), np.int64(2), np.int64(3), np.int64(5), np.int64(6), np.int64(8), np.int64(8), np.int64(6), np.int64(0), np.int64(3), np.int64(1), np.int64(0), np.int64(5), np.int64(8), np.int64(9), np.int64(2), np.int64(9), np.int64(6), np.int64(7), np.int64(0), np.int64(4), np.int64(8), np.int64(7), np.int64(1), np.int64(7), np.int64(4), np.int64(1), np.int64(0), np.int64(5), np.int64(7), np.int64(2), np.int64(0), np.int64(0), np.int64(9), np.int64(1), np.int64(7), np.int64(0), np.int64(7), np.int64(8), np.int64(4), np.int64(7), np.int64(7), np.int64(0), np.int64(4), np.int64(6), np.int64(0), np.int64(3), np.int64(1), np.int64(1), np.int64(3), np.int64(3), np.int64(9), np.int64(6), np.int64(7), np.int64(4), np.int64(1), np.int64(5), np.int64(3), np.int64(0), np.int64(8), np.int64(7), np.int64(3), np.int64(9), np.int64(6), np.int64(9), np.int64(3), np.int64(5), np.int64(0), np.int64(2), np.int64(7), np.int64(4), np.int64(5), np.int64(1), np.int64(7), np.int64(5), np.int64(8), np.int64(0), np.int64(8), np.int64(8), np.int64(1), np.int64(5), np.int64(0), np.int64(3), np.int64(0), np.int64(3), np.int64(1), np.int64(4), np.int64(0), np.int64(3), np.int64(7), np.int64(2), np.int64(7), np.int64(1), np.int64(8), np.int64(0), np.int64(7), np.int64(0), np.int64(4), np.int64(3), np.int64(1), np.int64(9), np.int64(8), np.int64(7), np.int64(7), np.int64(1), np.int64(4), np.int64(9), np.int64(9), np.int64(3), np.int64(7), np.int64(1), np.int64(7), np.int64(9), np.int64(0), np.int64(2), np.int64(0), np.int64(3), np.int64(3), np.int64(7), np.int64(6), np.int64(9), np.int64(2), np.int64(3), np.int64(3), np.int64(7), np.int64(7), np.int64(0), np.int64(0), np.int64(7), np.int64(5), np.int64(2), np.int64(9), np.int64(8), np.int64(7), np.int64(4), np.int64(4), np.int64(2), np.int64(6), np.int64(6), np.int64(1), np.int64(9), np.int64(6), np.int64(8), np.int64(2), np.int64(9), np.int64(0), np.int64(8), np.int64(3), np.int64(1), np.int64(1), np.int64(6), np.int64(3), np.int64(5), np.int64(1), np.int64(1), np.int64(1), np.int64(3), np.int64(1), np.int64(2), np.int64(3), np.int64(0), np.int64(2), np.int64(0), np.int64(1), np.int64(3), np.int64(5), np.int64(5), np.int64(7), np.int64(4), np.int64(3), np.int64(9), np.int64(6), np.int64(9), np.int64(6), np.int64(8), np.int64(3), np.int64(6), np.int64(6), np.int64(8), np.int64(5), np.int64(1), np.int64(4), np.int64(2), np.int64(4), np.int64(4), np.int64(5), np.int64(1), np.int64(1), np.int64(9), np.int64(0), np.int64(2), np.int64(4), np.int64(9), np.int64(5), np.int64(7), np.int64(1), np.int64(8), np.int64(3), np.int64(5), np.int64(6), np.int64(9), np.int64(8), np.int64(9), np.int64(1), np.int64(1), np.int64(6), np.int64(7), np.int64(6), np.int64(3), np.int64(2), np.int64(2), np.int64(0), np.int64(8), np.int64(9), np.int64(2), np.int64(5), np.int64(1), np.int64(0), np.int64(8), np.int64(1), np.int64(4), np.int64(5), np.int64(7), np.int64(9), np.int64(6), np.int64(9), np.int64(0), np.int64(6), np.int64(1), np.int64(5), np.int64(5), np.int64(8), np.int64(3), np.int64(8), np.int64(2), np.int64(6), np.int64(5), np.int64(0), np.int64(7), np.int64(4), np.int64(6), np.int64(1), np.int64(3), np.int64(4), np.int64(7), np.int64(3), np.int64(2), np.int64(3), np.int64(4), np.int64(2), np.int64(5), np.int64(2), np.int64(7), np.int64(1), np.int64(7), np.int64(2), np.int64(6), np.int64(4), np.int64(1), np.int64(5), np.int64(9), np.int64(8), np.int64(6), np.int64(9), np.int64(1), np.int64(8), np.int64(2), np.int64(5), np.int64(7), np.int64(7), np.int64(6), np.int64(9), np.int64(3), np.int64(5), np.int64(8), np.int64(4), np.int64(2), np.int64(4), np.int64(0), np.int64(8), np.int64(8), np.int64(3), np.int64(4), np.int64(9), np.int64(2), np.int64(7), np.int64(5), np.int64(8), np.int64(6), np.int64(5), np.int64(6), np.int64(0), np.int64(8), np.int64(6), np.int64(7), np.int64(3), np.int64(6), np.int64(4), np.int64(9), np.int64(4), np.int64(6), np.int64(5), np.int64(3), np.int64(2), np.int64(4), np.int64(1), np.int64(9), np.int64(1), np.int64(4), np.int64(6), np.int64(2), np.int64(9), np.int64(1), np.int64(1), np.int64(0), np.int64(6), np.int64(3), np.int64(9), np.int64(5), np.int64(6), np.int64(5), np.int64(6), np.int64(5), np.int64(9), np.int64(4), np.int64(6), np.int64(4), np.int64(3), np.int64(9), np.int64(1), np.int64(3), np.int64(4), np.int64(1), np.int64(9), np.int64(1), np.int64(7), np.int64(1), np.int64(1), np.int64(9), np.int64(3), np.int64(5), np.int64(4), np.int64(0), np.int64(7), np.int64(3), np.int64(6), np.int64(1), np.int64(8), np.int64(5), np.int64(5), np.int64(3), np.int64(3), np.int64(0), np.int64(1), np.int64(5), np.int64(7), np.int64(5), np.int64(8), np.int64(6), np.int64(5), np.int64(1), np.int64(0), np.int64(4), np.int64(2), np.int64(3), np.int64(4), np.int64(6), np.int64(7), np.int64(9), np.int64(8), np.int64(1), np.int64(8), np.int64(9), np.int64(9), np.int64(2), np.int64(8), np.int64(6), np.int64(2), np.int64(7), np.int64(0), np.int64(0), np.int64(6), np.int64(7), np.int64(5), np.int64(8), np.int64(6), np.int64(0), np.int64(9), np.int64(3), np.int64(4), np.int64(1), np.int64(3), np.int64(6), np.int64(4), np.int64(3), np.int64(3), np.int64(5), np.int64(5), np.int64(6), np.int64(3), np.int64(0), np.int64(2), np.int64(3), np.int64(4), np.int64(2), np.int64(3), np.int64(0), np.int64(9), np.int64(9), np.int64(4), np.int64(7), np.int64(2), np.int64(8), np.int64(4), np.int64(7), np.int64(0), np.int64(6), np.int64(0), np.int64(8), np.int64(5), np.int64(2), np.int64(8), np.int64(5), np.int64(7), np.int64(3), np.int64(0), np.int64(8), np.int64(2), np.int64(7), np.int64(2), np.int64(8), np.int64(2), np.int64(5), np.int64(5), np.int64(7), np.int64(6), np.int64(4), np.int64(0), np.int64(8), np.int64(4), np.int64(8), np.int64(2), np.int64(7), np.int64(4), np.int64(5), np.int64(2), np.int64(0), np.int64(3), np.int64(8), np.int64(4), np.int64(6), np.int64(7), np.int64(2), np.int64(5), np.int64(1), np.int64(1), np.int64(1), np.int64(2), np.int64(3), np.int64(6), np.int64(7), np.int64(8), np.int64(7), np.int64(6), np.int64(4), np.int64(8), np.int64(9), np.int64(4), np.int64(8), np.int64(6), np.int64(3), np.int64(8), np.int64(3), np.int64(1), np.int64(0), np.int64(6), np.int64(2), np.int64(2), np.int64(5), np.int64(6), np.int64(9), np.int64(5), np.int64(8), np.int64(1), np.int64(4), np.int64(1), np.int64(7), np.int64(8), np.int64(4), np.int64(6), np.int64(1), np.int64(8), np.int64(4), np.int64(3), np.int64(1), np.int64(2), np.int64(8), np.int64(0), np.int64(8), np.int64(5), np.int64(9), np.int64(1), np.int64(4), np.int64(2), np.int64(0), np.int64(3), np.int64(7), np.int64(0), np.int64(9), np.int64(0), np.int64(2), np.int64(5), np.int64(7), np.int64(6), np.int64(7), np.int64(9), np.int64(4), np.int64(2), np.int64(6), np.int64(2), np.int64(4), np.int64(4), np.int64(8), np.int64(0), np.int64(4), np.int64(4), np.int64(5), np.int64(8), np.int64(0), np.int64(6), np.int64(8), np.int64(9), np.int64(8), np.int64(5), np.int64(6), np.int64(9), np.int64(0), np.int64(4), np.int64(8), np.int64(7), np.int64(1), np.int64(3), np.int64(4), np.int64(6), np.int64(8), np.int64(0), np.int64(9), np.int64(1), np.int64(3), np.int64(3), np.int64(6), np.int64(9), np.int64(8), np.int64(7), np.int64(1), np.int64(0), np.int64(5), np.int64(7), np.int64(1), np.int64(7), np.int64(5), np.int64(2), np.int64(7), np.int64(9), np.int64(1), np.int64(8), np.int64(5), np.int64(2), np.int64(4), np.int64(9), np.int64(4), np.int64(7), np.int64(2), np.int64(2), np.int64(3), np.int64(4), np.int64(9), np.int64(1), np.int64(9), np.int64(2), np.int64(1), np.int64(7), np.int64(9), np.int64(4), np.int64(4), np.int64(6), np.int64(6), np.int64(7), np.int64(2), np.int64(7), np.int64(8), np.int64(0), np.int64(1), np.int64(9), np.int64(7), np.int64(1), np.int64(1), np.int64(7), np.int64(5), np.int64(3), np.int64(3), np.int64(5), np.int64(1), np.int64(3), np.int64(7), np.int64(6), np.int64(1), np.int64(3), np.int64(8), np.int64(7), np.int64(3), np.int64(9), np.int64(0), np.int64(0), np.int64(0), np.int64(2), np.int64(8), np.int64(8), np.int64(2), np.int64(3), np.int64(7), np.int64(1), np.int64(3), np.int64(0), np.int64(3), np.int64(4), np.int64(4), np.int64(3), np.int64(8), np.int64(9), np.int64(2), np.int64(3), np.int64(9), np.int64(7), np.int64(1), np.int64(1), np.int64(7), np.int64(0), np.int64(4), np.int64(9), np.int64(6), np.int64(5), np.int64(9), np.int64(1), np.int64(7), np.int64(0), np.int64(2), np.int64(0), np.int64(2), np.int64(4), np.int64(6), np.int64(7), np.int64(0), np.int64(7), np.int64(1), np.int64(4), np.int64(6), np.int64(4), np.int64(5), np.int64(4), np.int64(9), np.int64(9), np.int64(1), np.int64(7), np.int64(9), np.int64(5), np.int64(3), np.int64(3), np.int64(8), np.int64(2), np.int64(3), np.int64(6), np.int64(2), np.int64(2), np.int64(1), np.int64(1), np.int64(1), np.int64(1), np.int64(1), np.int64(6), np.int64(9), np.int64(8), np.int64(4), np.int64(3), np.int64(7), np.int64(1), np.int64(6), np.int64(4), np.int64(5), np.int64(0), np.int64(4), np.int64(7), np.int64(4), np.int64(2), np.int64(4), np.int64(0), np.int64(7), np.int64(0), np.int64(1), np.int64(9), np.int64(8), np.int64(8), np.int64(6), np.int64(0), np.int64(0), np.int64(4), np.int64(9), np.int64(6), np.int64(8), np.int64(2), np.int64(2), np.int64(3), np.int64(8), np.int64(4), np.int64(8), np.int64(2), np.int64(2), np.int64(1), np.int64(7), np.int64(5), np.int64(4), np.int64(4), np.int64(0), np.int64(4), np.int64(3), np.int64(4), np.int64(7), np.int64(3), np.int64(1), np.int64(0), np.int64(1), np.int64(2), np.int64(5), np.int64(4), np.int64(2), np.int64(1), np.int64(0), np.int64(1), np.int64(8), np.int64(9), np.int64(1), np.int64(6), np.int64(8), np.int64(3), np.int64(8), np.int64(4), np.int64(3), np.int64(6), np.int64(2), np.int64(8), np.int64(3), np.int64(2), np.int64(2), np.int64(1), np.int64(0), np.int64(4), np.int64(2), np.int64(9), np.int64(2), np.int64(4), np.int64(3), np.int64(7), np.int64(9), np.int64(1), np.int64(5), np.int64(2), np.int64(4), np.int64(9), np.int64(0), np.int64(3), np.int64(8), np.int64(5), np.int64(3), np.int64(6), np.int64(0), np.int64(9), np.int64(4), np.int64(6), np.int64(2), np.int64(5), np.int64(0), np.int64(2), np.int64(7), np.int64(4), np.int64(6), np.int64(6), np.int64(8), np.int64(6), np.int64(6), np.int64(8), np.int64(6), np.int64(9), np.int64(1), np.int64(7), np.int64(2), np.int64(5), np.int64(9), np.int64(9), np.int64(0), np.int64(7), np.int64(2), np.int64(7), np.int64(6), np.int64(7), np.int64(0), np.int64(6), np.int64(5), np.int64(4), np.int64(4), np.int64(7), np.int64(2), np.int64(0), np.int64(9), np.int64(9), np.int64(2), np.int64(2), np.int64(9), np.int64(4), np.int64(4), np.int64(2), np.int64(3), np.int64(3), np.int64(2), np.int64(1), np.int64(7), np.int64(0), np.int64(7), np.int64(6), np.int64(4), np.int64(1), np.int64(3), np.int64(8), np.int64(7), np.int64(4), np.int64(5), np.int64(9), np.int64(2), np.int64(5), np.int64(1), np.int64(8), np.int64(7), np.int64(3), np.int64(7), np.int64(1), np.int64(5), np.int64(5), np.int64(0), np.int64(9), np.int64(1), np.int64(4), np.int64(0), np.int64(6), np.int64(3), np.int64(3), np.int64(6), np.int64(0), np.int64(4), np.int64(9), np.int64(7), np.int64(5), np.int64(1), np.int64(6), np.int64(8), np.int64(9), np.int64(5), np.int64(5), np.int64(7), np.int64(9), np.int64(3), np.int64(8), np.int64(3), np.int64(8), np.int64(1), np.int64(5), np.int64(3), np.int64(5), np.int64(0), np.int64(5), np.int64(5), np.int64(3), np.int64(8), np.int64(6), np.int64(7), np.int64(7), np.int64(7), np.int64(3), np.int64(7), np.int64(0), np.int64(5), np.int64(9), np.int64(0), np.int64(2), np.int64(5), np.int64(5), np.int64(3), np.int64(1), np.int64(7), np.int64(7), np.int64(8), np.int64(6), np.int64(5), np.int64(9), np.int64(3), np.int64(8), np.int64(9), np.int64(5), np.int64(3), np.int64(7), np.int64(9), np.int64(1), np.int64(7), np.int64(0), np.int64(0), np.int64(3), np.int64(7), np.int64(2), np.int64(5), np.int64(2), np.int64(1), np.int64(8), np.int64(6), np.int64(2), np.int64(9), np.int64(5), np.int64(7), np.int64(5), np.int64(1), np.int64(8), np.int64(6), np.int64(8), np.int64(5), np.int64(1), np.int64(4), np.int64(8), np.int64(4), np.int64(5), np.int64(8), np.int64(3), np.int64(0), np.int64(6), np.int64(2), np.int64(7), np.int64(3), np.int64(3), np.int64(2), np.int64(1), np.int64(0), np.int64(7), np.int64(3), np.int64(4), np.int64(0), np.int64(3), np.int64(9), np.int64(3), np.int64(2), np.int64(8), np.int64(9), np.int64(0), np.int64(3), np.int64(8), np.int64(0), np.int64(7), np.int64(6), np.int64(5), np.int64(4), np.int64(7), np.int64(3), np.int64(9), np.int64(0), np.int64(8), np.int64(6), np.int64(2), np.int64(5), np.int64(1), np.int64(1), np.int64(0), np.int64(0), np.int64(4), np.int64(4), np.int64(0), np.int64(1), np.int64(2), np.int64(3), np.int64(2), np.int64(7), np.int64(7), np.int64(8), np.int64(5), np.int64(2), np.int64(5), np.int64(7), np.int64(6), np.int64(9), np.int64(1), np.int64(4), np.int64(1), np.int64(6), np.int64(4), np.int64(2), np.int64(4), np.int64(3), np.int64(5), np.int64(4), np.int64(3), np.int64(9), np.int64(5), np.int64(0), np.int64(1), np.int64(5), np.int64(3), np.int64(8), np.int64(9), np.int64(1), np.int64(9), np.int64(7), np.int64(9), np.int64(5), np.int64(5), np.int64(2), np.int64(7), np.int64(4), np.int64(6), np.int64(0), np.int64(1), np.int64(1), np.int64(1), np.int64(0), np.int64(4), np.int64(4), np.int64(7), np.int64(6), np.int64(3), np.int64(0), np.int64(0), np.int64(4), np.int64(3), np.int64(0), np.int64(6), np.int64(1), np.int64(9), np.int64(6), np.int64(1), np.int64(3), np.int64(8), np.int64(1), np.int64(2), np.int64(5), np.int64(6), np.int64(2), np.int64(7), np.int64(3), np.int64(6), np.int64(0), np.int64(1), np.int64(9), np.int64(7), np.int64(6), np.int64(6), np.int64(8), np.int64(9), np.int64(2), np.int64(9), np.int64(5), np.int64(8), np.int64(3), np.int64(1), np.int64(0), np.int64(0), np.int64(7), np.int64(6), np.int64(6), np.int64(2), np.int64(1), np.int64(6), np.int64(9), np.int64(3), np.int64(1), np.int64(8), np.int64(6), np.int64(9), np.int64(0), np.int64(6), np.int64(0), np.int64(0), np.int64(0), np.int64(6), np.int64(3), np.int64(5), np.int64(9), np.int64(3), np.int64(9), np.int64(5), np.int64(5), np.int64(8), np.int64(5), np.int64(3), np.int64(0), np.int64(4), np.int64(0), np.int64(2), np.int64(9), np.int64(6), np.int64(8), np.int64(2), np.int64(3), np.int64(1), np.int64(2), np.int64(1), np.int64(1), np.int64(5), np.int64(6), np.int64(9), np.int64(8), np.int64(0), np.int64(6), np.int64(6), np.int64(5), np.int64(5), np.int64(3), np.int64(8), np.int64(6), np.int64(2), np.int64(1), np.int64(4), np.int64(5), np.int64(4), np.int64(3), np.int64(7), np.int64(8), np.int64(5), np.int64(0), np.int64(9), np.int64(3), np.int64(5), np.int64(1), np.int64(1), np.int64(0), np.int64(4), np.int64(4), np.int64(7), np.int64(0), np.int64(1), np.int64(7), np.int64(0), np.int64(1), np.int64(6), np.int64(1), np.int64(4), np.int64(5), np.int64(6), np.int64(6), np.int64(5), np.int64(7), np.int64(8), np.int64(4), np.int64(4), np.int64(7), np.int64(2), np.int64(5), np.int64(3), np.int64(7), np.int64(0), np.int64(7), np.int64(7), np.int64(9), np.int64(6), np.int64(4), np.int64(2), np.int64(8), np.int64(5), np.int64(7), np.int64(8), np.int64(3), np.int64(9), np.int64(5), np.int64(8), np.int64(9), np.int64(9), np.int64(8), np.int64(6), np.int64(2), np.int64(8), np.int64(9), np.int64(2), np.int64(3), np.int64(6), np.int64(1), np.int64(1), np.int64(8), np.int64(9), np.int64(3), np.int64(4), np.int64(0), np.int64(7), np.int64(9), np.int64(6), np.int64(9), np.int64(1), np.int64(4), np.int64(1), np.int64(3), np.int64(4), np.int64(9), np.int64(3), np.int64(1), np.int64(4), np.int64(7), np.int64(7), np.int64(4), np.int64(7), np.int64(2), np.int64(9), np.int64(3), np.int64(0), np.int64(8), np.int64(8), np.int64(8), np.int64(4), np.int64(0), np.int64(4), np.int64(4), np.int64(1), np.int64(5), np.int64(2), np.int64(8), np.int64(3), np.int64(4), np.int64(9), np.int64(5), np.int64(2), np.int64(8), np.int64(1), np.int64(5), np.int64(3), np.int64(3), np.int64(9), np.int64(4), np.int64(2), np.int64(5), np.int64(6), np.int64(3), np.int64(5), np.int64(9), np.int64(3), np.int64(5), np.int64(9), np.int64(2), np.int64(1), np.int64(9), np.int64(7), np.int64(3), np.int64(0), np.int64(6), np.int64(9), np.int64(8), np.int64(4), np.int64(0), np.int64(4), np.int64(5), np.int64(2), np.int64(9), np.int64(0), np.int64(1), np.int64(0), np.int64(3), np.int64(1), np.int64(6), np.int64(5), np.int64(8), np.int64(1), np.int64(5), np.int64(3), np.int64(5), np.int64(0), np.int64(3), np.int64(5), np.int64(5), np.int64(9), np.int64(2), np.int64(8), np.int64(7), np.int64(0), np.int64(4), np.int64(9), np.int64(1), np.int64(9), np.int64(7), np.int64(7), np.int64(5), np.int64(5), np.int64(2), np.int64(0), np.int64(9), np.int64(1), np.int64(8), np.int64(6), np.int64(2), np.int64(3), np.int64(4), np.int64(6), np.int64(2), np.int64(1), np.int64(9), np.int64(1), np.int64(3), np.int64(5), np.int64(5), np.int64(0), np.int64(3), np.int64(8), np.int64(3), np.int64(3), np.int64(7), np.int64(6), np.int64(6), np.int64(0), np.int64(1), np.int64(4), np.int64(0), np.int64(6), np.int64(9), np.int64(8), np.int64(1), np.int64(2), np.int64(9), np.int64(9), np.int64(5), np.int64(9), np.int64(7), np.int64(3), np.int64(7), np.int64(9), np.int64(0), np.int64(1), np.int64(3), np.int64(0), np.int64(4), np.int64(6), np.int64(1), np.int64(0), np.int64(2), np.int64(5), np.int64(8), np.int64(4), np.int64(4), np.int64(1), np.int64(1), np.int64(5), np.int64(4), np.int64(6), np.int64(6), np.int64(0), np.int64(6), np.int64(9), np.int64(2), np.int64(6), np.int64(2), np.int64(7), np.int64(1), np.int64(7), np.int64(9), np.int64(4), np.int64(0), np.int64(0), np.int64(3), np.int64(8), np.int64(2), np.int64(2), np.int64(3), np.int64(1), np.int64(6), np.int64(0), np.int64(5), np.int64(7), np.int64(7), np.int64(9), np.int64(2), np.int64(6), np.int64(7), np.int64(9), np.int64(7), np.int64(8), np.int64(6), np.int64(8), np.int64(8), np.int64(4), np.int64(6), np.int64(8), np.int64(4), np.int64(1), np.int64(2), np.int64(8), np.int64(1), np.int64(3), np.int64(9), np.int64(4), np.int64(0), np.int64(3), np.int64(7), np.int64(3), np.int64(2), np.int64(3), np.int64(3), np.int64(7), np.int64(3), np.int64(4), np.int64(0), np.int64(6), np.int64(2), np.int64(0), np.int64(8), np.int64(1), np.int64(5), np.int64(3), np.int64(5), np.int64(4), np.int64(1), np.int64(7), np.int64(1), np.int64(5), np.int64(7), np.int64(5), np.int64(7), np.int64(3), np.int64(2), np.int64(2), np.int64(7), np.int64(3), np.int64(7), np.int64(3), np.int64(7), np.int64(8), np.int64(5), np.int64(4), np.int64(5), np.int64(2), np.int64(9), np.int64(6), np.int64(5), np.int64(3), np.int64(6), np.int64(7), np.int64(4), np.int64(1), np.int64(7), np.int64(1), np.int64(5), np.int64(2), np.int64(3), np.int64(6), np.int64(3), np.int64(1), np.int64(4), np.int64(2), np.int64(6), np.int64(7), np.int64(4), np.int64(3), np.int64(8), np.int64(0), np.int64(6), np.int64(2), np.int64(1), np.int64(6), np.int64(5), np.int64(3), np.int64(9), np.int64(1), np.int64(9), np.int64(3), np.int64(2), np.int64(1), np.int64(8), np.int64(4), np.int64(4), np.int64(6), np.int64(5), np.int64(8), np.int64(6), np.int64(9), np.int64(7), np.int64(7), np.int64(8), np.int64(6), np.int64(9), np.int64(7), np.int64(3), np.int64(9), np.int64(4), np.int64(0), np.int64(5), np.int64(4), np.int64(6), np.int64(4), np.int64(1), np.int64(2), np.int64(3), np.int64(0), np.int64(0), np.int64(2), np.int64(6), np.int64(6), np.int64(5), np.int64(7), np.int64(0), np.int64(8), np.int64(6), np.int64(4), np.int64(7), np.int64(9), np.int64(0), np.int64(7), np.int64(3), np.int64(4), np.int64(2), np.int64(1), np.int64(8), np.int64(8), np.int64(5), np.int64(9), np.int64(2), np.int64(3), np.int64(1), np.int64(8), np.int64(8), np.int64(8), np.int64(2), np.int64(7), np.int64(6), np.int64(0), np.int64(1), np.int64(2), np.int64(7), np.int64(1), np.int64(0), np.int64(8), np.int64(3), np.int64(6), np.int64(0), np.int64(5), np.int64(3), np.int64(6), np.int64(2), np.int64(8), np.int64(9), np.int64(0), np.int64(1), np.int64(4), np.int64(2), np.int64(1), np.int64(1), np.int64(4), np.int64(4), np.int64(4), np.int64(4), np.int64(7), np.int64(1), np.int64(6), np.int64(2), np.int64(9), np.int64(9), np.int64(0), np.int64(0), np.int64(1), np.int64(8), np.int64(8), np.int64(4), np.int64(3), np.int64(4), np.int64(2), np.int64(9), np.int64(6), np.int64(1), np.int64(6), np.int64(1), np.int64(2), np.int64(2), np.int64(2), np.int64(1), np.int64(2), np.int64(3), np.int64(7), np.int64(8), np.int64(1), np.int64(0), np.int64(0), np.int64(2), np.int64(1), np.int64(6), np.int64(6), np.int64(0), np.int64(1), np.int64(6), np.int64(2), np.int64(5), np.int64(1), np.int64(7), np.int64(4), np.int64(8), np.int64(2), np.int64(1), np.int64(4), np.int64(3), np.int64(8), np.int64(3), np.int64(9), np.int64(9), np.int64(4), np.int64(9), np.int64(3), np.int64(4), np.int64(7), np.int64(2), np.int64(7), np.int64(5), np.int64(7), np.int64(0), np.int64(4), np.int64(3), np.int64(3), np.int64(2), np.int64(6), np.int64(7), np.int64(6), np.int64(0), np.int64(0), np.int64(6), np.int64(7), np.int64(7), np.int64(0), np.int64(5), np.int64(5), np.int64(8), np.int64(1), np.int64(0), np.int64(7), np.int64(0), np.int64(2), np.int64(8), np.int64(1), np.int64(5), np.int64(0), np.int64(8), np.int64(8), np.int64(0), np.int64(3), np.int64(2), np.int64(7), np.int64(7), np.int64(3), np.int64(6), np.int64(4), np.int64(7), np.int64(5), np.int64(5), np.int64(5), np.int64(2), np.int64(9), np.int64(2), np.int64(8), np.int64(4), np.int64(6), np.int64(8), np.int64(6), np.int64(5), np.int64(0), np.int64(0), np.int64(8), np.int64(7), np.int64(6), np.int64(1), np.int64(7), np.int64(1), np.int64(1), np.int64(2), np.int64(7), np.int64(4), np.int64(0), np.int64(0), np.int64(7), np.int64(7), np.int64(6), np.int64(3), np.int64(8), np.int64(6), np.int64(4), np.int64(2), np.int64(0), np.int64(9), np.int64(4), np.int64(0), np.int64(5), np.int64(7), np.int64(8), np.int64(3), np.int64(7), np.int64(6), np.int64(7), np.int64(1), np.int64(1), np.int64(3), np.int64(6), np.int64(6), np.int64(6), np.int64(9), np.int64(1), np.int64(9), np.int64(9), np.int64(8), np.int64(3), np.int64(6), np.int64(9), np.int64(5), np.int64(9), np.int64(6), np.int64(2), np.int64(4), np.int64(6), np.int64(7), np.int64(7), np.int64(0), np.int64(6), np.int64(6), np.int64(9), np.int64(4), np.int64(8), np.int64(3), np.int64(5), np.int64(3), np.int64(4), np.int64(9), np.int64(0), np.int64(0), np.int64(5), np.int64(2), np.int64(5), np.int64(0), np.int64(7), np.int64(1), np.int64(1), np.int64(1), np.int64(6), np.int64(7), np.int64(6), np.int64(7), np.int64(9), np.int64(6), np.int64(6), np.int64(4), np.int64(1), np.int64(4), np.int64(3), np.int64(1), np.int64(1), np.int64(2), np.int64(2), np.int64(4), np.int64(1), np.int64(0), np.int64(8), np.int64(7), np.int64(6), np.int64(3), np.int64(4), np.int64(0), np.int64(0), np.int64(6), np.int64(3), np.int64(3), np.int64(0), np.int64(7), np.int64(1), np.int64(7), np.int64(1), np.int64(1), np.int64(3), np.int64(1), np.int64(0), np.int64(9), np.int64(9), np.int64(7), np.int64(5), np.int64(4), np.int64(1), np.int64(4), np.int64(8), np.int64(9), np.int64(5), np.int64(3), np.int64(5), np.int64(1), np.int64(9), np.int64(8), np.int64(1), np.int64(3), np.int64(3), np.int64(9), np.int64(9), np.int64(0), np.int64(1), np.int64(0), np.int64(2), np.int64(9), np.int64(3), np.int64(9), np.int64(3), np.int64(3), np.int64(6), np.int64(2), np.int64(9), np.int64(9), np.int64(8), np.int64(3), np.int64(7), np.int64(4), np.int64(0), np.int64(4), np.int64(7), np.int64(8), np.int64(4), np.int64(9), np.int64(8), np.int64(8), np.int64(9), np.int64(7), np.int64(5), np.int64(9), np.int64(2), np.int64(8), np.int64(2), np.int64(0), np.int64(0), np.int64(2), np.int64(2), np.int64(3), np.int64(8), np.int64(4), np.int64(6), np.int64(8), np.int64(4), np.int64(8), np.int64(2), np.int64(4), np.int64(6), np.int64(7), np.int64(9), np.int64(3), np.int64(3), np.int64(9), np.int64(4), np.int64(3), np.int64(1), np.int64(4), np.int64(4), np.int64(7), np.int64(0), np.int64(5), np.int64(9), np.int64(6), np.int64(0), np.int64(4), np.int64(4), np.int64(4), np.int64(4), np.int64(6), np.int64(1), np.int64(2), np.int64(3), np.int64(2), np.int64(6), np.int64(4), np.int64(5), np.int64(9), np.int64(6), np.int64(8), np.int64(5), np.int64(6), np.int64(0), np.int64(8), np.int64(6), np.int64(4), np.int64(1), np.int64(8), np.int64(6), np.int64(5), np.int64(2), np.int64(5), np.int64(4), np.int64(5), np.int64(5), np.int64(4), np.int64(7), np.int64(7), np.int64(0), np.int64(7), np.int64(8), np.int64(2), np.int64(2), np.int64(3), np.int64(7), np.int64(0), np.int64(1), np.int64(8), np.int64(0), np.int64(7), np.int64(1), np.int64(9), np.int64(8), np.int64(7), np.int64(5), np.int64(5), np.int64(9), np.int64(1), np.int64(7), np.int64(5), np.int64(4), np.int64(3), np.int64(1), np.int64(2), np.int64(2), np.int64(6), np.int64(6), np.int64(6), np.int64(7), np.int64(1), np.int64(1), np.int64(4), np.int64(0), np.int64(7), np.int64(4), np.int64(2), np.int64(4), np.int64(0), np.int64(6), np.int64(4), np.int64(7), np.int64(6), np.int64(9), np.int64(5), np.int64(3), np.int64(4), np.int64(6), np.int64(5), np.int64(0), np.int64(1), np.int64(8), np.int64(8), np.int64(2), np.int64(8), np.int64(3), np.int64(5), np.int64(7), np.int64(8), np.int64(0), np.int64(8), np.int64(5), np.int64(7), np.int64(1), np.int64(1), np.int64(0), np.int64(1), np.int64(3), np.int64(7), np.int64(8), np.int64(5), np.int64(0), np.int64(7), np.int64(1), np.int64(1), np.int64(0), np.int64(1), np.int64(1), np.int64(4), np.int64(5), np.int64(2), np.int64(7), np.int64(6), np.int64(2), np.int64(3), np.int64(0), np.int64(2), np.int64(6), np.int64(5), np.int64(9), np.int64(6), np.int64(9), np.int64(7), np.int64(2), np.int64(1), np.int64(3), np.int64(6), np.int64(4), np.int64(1), np.int64(8), np.int64(2), np.int64(4), np.int64(0), np.int64(5), np.int64(1), np.int64(0), np.int64(2), np.int64(2), np.int64(6), np.int64(4), np.int64(4), np.int64(3), np.int64(9), np.int64(6), np.int64(1), np.int64(6), np.int64(5), np.int64(7), np.int64(9), np.int64(2), np.int64(0), np.int64(2), np.int64(6), np.int64(0), np.int64(1), np.int64(4), np.int64(3), np.int64(5), np.int64(2), np.int64(8), np.int64(8), np.int64(0), np.int64(8), np.int64(8), np.int64(9), np.int64(9), np.int64(9), np.int64(6), np.int64(7), np.int64(6), np.int64(3), np.int64(9), np.int64(3), np.int64(4), np.int64(7), np.int64(7), np.int64(7), np.int64(4), np.int64(9), np.int64(0), np.int64(6), np.int64(4), np.int64(8), np.int64(4), np.int64(2), np.int64(7), np.int64(2), np.int64(8), np.int64(1), np.int64(0), np.int64(0), np.int64(7), np.int64(8), np.int64(3), np.int64(3), np.int64(3), np.int64(1), np.int64(3), np.int64(7), np.int64(6), np.int64(1), np.int64(3), np.int64(1), np.int64(6), np.int64(0), np.int64(5), np.int64(7), np.int64(4), np.int64(7), np.int64(5), np.int64(9), np.int64(5), np.int64(8), np.int64(4), np.int64(9), np.int64(9), np.int64(1), np.int64(6), np.int64(5), np.int64(0), np.int64(1), np.int64(3), np.int64(7), np.int64(0), np.int64(3), np.int64(4), np.int64(8), np.int64(2), np.int64(3), np.int64(0), np.int64(2), np.int64(5), np.int64(1), np.int64(5), np.int64(1), np.int64(6), np.int64(8), np.int64(8), np.int64(9), np.int64(1), np.int64(2), np.int64(1), np.int64(3), np.int64(5), np.int64(1), np.int64(0), np.int64(9), np.int64(4), np.int64(4), np.int64(8), np.int64(3), np.int64(8), np.int64(5), np.int64(9), np.int64(7), np.int64(6), np.int64(6), np.int64(2), np.int64(0), np.int64(0), np.int64(0), np.int64(5), np.int64(8), np.int64(8), np.int64(1), np.int64(5), np.int64(4), np.int64(3), np.int64(8), np.int64(5), np.int64(1), np.int64(8), np.int64(6), np.int64(4), np.int64(4), np.int64(9), np.int64(9), np.int64(6), np.int64(2), np.int64(3), np.int64(3), np.int64(8), np.int64(6), np.int64(4), np.int64(8), np.int64(0), np.int64(9), np.int64(2), np.int64(8), np.int64(3), np.int64(6), np.int64(5), np.int64(5), np.int64(7), np.int64(2), np.int64(9), np.int64(4), np.int64(9), np.int64(1), np.int64(2), np.int64(8), np.int64(6), np.int64(0), np.int64(7), np.int64(0), np.int64(9), np.int64(1), np.int64(1), np.int64(6), np.int64(7), np.int64(5), np.int64(9), np.int64(9), np.int64(1), np.int64(9), np.int64(5), np.int64(9), np.int64(2), np.int64(5), np.int64(0), np.int64(4), np.int64(1), np.int64(0), np.int64(8), np.int64(4), np.int64(0), np.int64(8), np.int64(9), np.int64(8), np.int64(9), np.int64(4), np.int64(8), np.int64(5), np.int64(7), np.int64(9), np.int64(8), np.int64(9), np.int64(8), np.int64(0), np.int64(9), np.int64(9), np.int64(6), np.int64(8), np.int64(9), np.int64(9), np.int64(5), np.int64(9), np.int64(8), np.int64(6), np.int64(1), np.int64(0), np.int64(3), np.int64(3), np.int64(5), np.int64(2), np.int64(1), np.int64(6), np.int64(3), np.int64(0), np.int64(2), np.int64(8), np.int64(3), np.int64(5), np.int64(6), np.int64(2), np.int64(3), np.int64(0), np.int64(2), np.int64(2), np.int64(6), np.int64(4), np.int64(3), np.int64(5), np.int64(5), np.int64(1), np.int64(7), np.int64(2), np.int64(1), np.int64(6), np.int64(9), np.int64(1), np.int64(3), np.int64(9), np.int64(5), np.int64(5), np.int64(1), np.int64(6), np.int64(2), np.int64(2), np.int64(8), np.int64(6), np.int64(7), np.int64(1), np.int64(4), np.int64(6), np.int64(0), np.int64(2), np.int64(0), np.int64(3), np.int64(3), np.int64(2), np.int64(2), np.int64(3), np.int64(6), np.int64(8), np.int64(9), np.int64(8), np.int64(5), np.int64(3), np.int64(8), np.int64(5), np.int64(4), np.int64(5), np.int64(2), np.int64(0), np.int64(5), np.int64(6), np.int64(3), np.int64(2), np.int64(8), np.int64(3), np.int64(9), np.int64(9), np.int64(5), np.int64(7), np.int64(9), np.int64(4), np.int64(6), np.int64(7), np.int64(1), np.int64(3), np.int64(7), np.int64(3), np.int64(6), np.int64(6), np.int64(0), np.int64(9), np.int64(0), np.int64(1), np.int64(9), np.int64(4), np.int64(2), np.int64(8), np.int64(8), np.int64(0), np.int64(1), np.int64(6), np.int64(9), np.int64(7), np.int64(5), np.int64(3), np.int64(4), np.int64(9), np.int64(4), np.int64(9), np.int64(8), np.int64(4), np.int64(3), np.int64(6), np.int64(3), np.int64(1), np.int64(1), np.int64(7), np.int64(6), np.int64(9), np.int64(1), np.int64(8), np.int64(4), np.int64(1), np.int64(1), np.int64(9), np.int64(9), np.int64(4), np.int64(3), np.int64(6), np.int64(8), np.int64(1), np.int64(6), np.int64(0), np.int64(4), np.int64(1), np.int64(3), np.int64(7), np.int64(7), np.int64(4), np.int64(9), np.int64(5), np.int64(1), np.int64(0), np.int64(0), np.int64(1), np.int64(1), np.int64(6), np.int64(2), np.int64(1), np.int64(9), np.int64(8), np.int64(4), np.int64(0), np.int64(3), np.int64(6), np.int64(4), np.int64(9), np.int64(0), np.int64(7), np.int64(1), np.int64(6), np.int64(5), np.int64(7), np.int64(5), np.int64(2), np.int64(5), np.int64(1), np.int64(8), np.int64(5), np.int64(4), np.int64(7), np.int64(0), np.int64(6), np.int64(7), np.int64(5), np.int64(2), np.int64(5), np.int64(8), np.int64(1), np.int64(0), np.int64(4), np.int64(5), np.int64(7), np.int64(1), np.int64(8), np.int64(5), np.int64(1), np.int64(9), np.int64(0), np.int64(0), np.int64(6), np.int64(0), np.int64(7), np.int64(3), np.int64(1), np.int64(8), np.int64(3), np.int64(9), np.int64(7), np.int64(0), np.int64(0), np.int64(8), np.int64(4), np.int64(5), np.int64(9), np.int64(8), np.int64(3), np.int64(2), np.int64(7), np.int64(2), np.int64(9), np.int64(7), np.int64(2), np.int64(1), np.int64(1), np.int64(3), np.int64(7), np.int64(5), np.int64(3), np.int64(1), np.int64(9), np.int64(8), np.int64(2), np.int64(2), np.int64(2), np.int64(8), np.int64(8), np.int64(5), np.int64(7), np.int64(3), np.int64(8), np.int64(9), np.int64(8), np.int64(8), np.int64(6), np.int64(8), np.int64(2), np.int64(3), np.int64(9), np.int64(7), np.int64(5), np.int64(6), np.int64(2), np.int64(9), np.int64(2), np.int64(8), np.int64(8), np.int64(1), np.int64(6), np.int64(8), np.int64(8), np.int64(7), np.int64(9), np.int64(1), np.int64(8), np.int64(0), np.int64(1), np.int64(7), np.int64(2), np.int64(0), np.int64(7), np.int64(5), np.int64(1), np.int64(9), np.int64(0), np.int64(3), np.int64(0), np.int64(9), np.int64(8), np.int64(6), np.int64(2), np.int64(3), np.int64(0), np.int64(3), np.int64(8), np.int64(0), np.int64(2), np.int64(1), np.int64(1), np.int64(1), np.int64(1), np.int64(4), np.int64(2), np.int64(9), np.int64(7), np.int64(7), np.int64(5), np.int64(1), np.int64(1), np.int64(2), np.int64(1), np.int64(9), np.int64(9), np.int64(9), np.int64(1), np.int64(0), np.int64(2), np.int64(0), np.int64(2), np.int64(1), np.int64(1), np.int64(4), np.int64(6), np.int64(4), np.int64(1), np.int64(5), np.int64(4), np.int64(9), np.int64(9), np.int64(7), np.int64(7), np.int64(5), np.int64(6), np.int64(2), np.int64(2), np.int64(2), np.int64(8), np.int64(0), np.int64(6), np.int64(9), np.int64(6), np.int64(1), np.int64(9), np.int64(7), np.int64(7), np.int64(1), np.int64(4), np.int64(8), np.int64(5), np.int64(3), np.int64(4), np.int64(3), np.int64(4), np.int64(7), np.int64(7), np.int64(5), np.int64(0), np.int64(7), np.int64(4), np.int64(8), np.int64(8), np.int64(1), np.int64(5), np.int64(3), np.int64(9), np.int64(5), np.int64(9), np.int64(7), np.int64(6), np.int64(9), np.int64(0), np.int64(3), np.int64(6), np.int64(3), np.int64(9), np.int64(8), np.int64(2), np.int64(8), np.int64(1), np.int64(2), np.int64(8), np.int64(6), np.int64(8), np.int64(5), np.int64(5), np.int64(3), np.int64(9), np.int64(4), np.int64(9), np.int64(2), np.int64(5), np.int64(1), np.int64(5), np.int64(1), np.int64(4), np.int64(4), np.int64(1), np.int64(4), np.int64(6), np.int64(3), np.int64(3), np.int64(9), np.int64(1), np.int64(2), np.int64(2), np.int64(3), np.int64(3), np.int64(0), np.int64(2), np.int64(9), np.int64(0), np.int64(0), np.int64(9), np.int64(5), np.int64(6), np.int64(0), np.int64(9), np.int64(3), np.int64(8), np.int64(8), np.int64(4), np.int64(1), np.int64(9), np.int64(9), np.int64(7), np.int64(2), np.int64(7), np.int64(9), np.int64(9), np.int64(9), np.int64(9), np.int64(5), np.int64(1), np.int64(1), np.int64(8), np.int64(3), np.int64(5), np.int64(1), np.int64(9), np.int64(5), np.int64(3), np.int64(5), np.int64(4), np.int64(9), np.int64(5), np.int64(9), np.int64(3), np.int64(1), np.int64(9), np.int64(0), np.int64(9), np.int64(7), np.int64(5), np.int64(4), np.int64(9), np.int64(2), np.int64(0), np.int64(1), np.int64(0), np.int64(5), np.int64(1), np.int64(4), np.int64(9), np.int64(3), np.int64(3), np.int64(6), np.int64(1), np.int64(5), np.int64(2), np.int64(5), np.int64(2), np.int64(2), np.int64(0), np.int64(9), np.int64(2), np.int64(6), np.int64(6), np.int64(0), np.int64(1), np.int64(2), np.int64(0), np.int64(3), np.int64(0), np.int64(2), np.int64(5), np.int64(5), np.int64(7), np.int64(9), np.int64(5), np.int64(5), np.int64(0), np.int64(8), np.int64(9), np.int64(5), np.int64(0), np.int64(3), np.int64(2), np.int64(5), np.int64(4), np.int64(0), np.int64(8), np.int64(8), np.int64(4), np.int64(5), np.int64(8), np.int64(8), np.int64(4), np.int64(5), np.int64(4), np.int64(8), np.int64(5), np.int64(4), np.int64(9), np.int64(1), np.int64(2), np.int64(1), np.int64(2), np.int64(6), np.int64(8), np.int64(8), np.int64(7), np.int64(0), np.int64(3), np.int64(6), np.int64(6), np.int64(4), np.int64(3), np.int64(8), np.int64(8), np.int64(7), np.int64(2), np.int64(2), np.int64(0), np.int64(0), np.int64(9), np.int64(3), np.int64(9), np.int64(9), np.int64(1), np.int64(9), np.int64(8), np.int64(6), np.int64(6), np.int64(4), np.int64(2), np.int64(6), np.int64(9), np.int64(2), np.int64(4), np.int64(5), np.int64(4), np.int64(5), np.int64(7), np.int64(9), np.int64(9), np.int64(9), np.int64(2), np.int64(1), np.int64(5), np.int64(3), np.int64(4), np.int64(0), np.int64(7), np.int64(8), np.int64(3), np.int64(9), np.int64(3), np.int64(4), np.int64(6), np.int64(5), np.int64(6), np.int64(2), np.int64(3), np.int64(9), np.int64(2), np.int64(6), np.int64(0), np.int64(0), np.int64(6), np.int64(1), np.int64(2), np.int64(8), np.int64(7), np.int64(9), np.int64(8), np.int64(2), np.int64(0), np.int64(4), np.int64(7), np.int64(7), np.int64(5), np.int64(0), np.int64(5), np.int64(6), np.int64(4), np.int64(6), np.int64(7), np.int64(4), np.int64(3), np.int64(0), np.int64(7), np.int64(5), np.int64(0), np.int64(7), np.int64(4), np.int64(2), np.int64(6), np.int64(8), np.int64(9), np.int64(9), np.int64(4), np.int64(2), np.int64(4), np.int64(6), np.int64(7), np.int64(8), np.int64(7), np.int64(6), np.int64(9), np.int64(4), np.int64(1), np.int64(3), np.int64(7), np.int64(3), np.int64(0), np.int64(8), np.int64(7), np.int64(7), np.int64(6), np.int64(9), np.int64(3), np.int64(9), np.int64(2), np.int64(7), np.int64(9), np.int64(2), np.int64(1), np.int64(8), np.int64(3), np.int64(2), np.int64(9), np.int64(6), np.int64(8), np.int64(4), np.int64(0), np.int64(1), np.int64(2), np.int64(8), np.int64(4), np.int64(5), np.int64(7), np.int64(7), np.int64(8), np.int64(1), np.int64(1), np.int64(3), np.int64(0), np.int64(3), np.int64(5), np.int64(7), np.int64(0), np.int64(3), np.int64(1), np.int64(7), np.int64(3), np.int64(5), np.int64(3), np.int64(1), np.int64(7), np.int64(7), np.int64(3), np.int64(0), np.int64(8), np.int64(4), np.int64(8), np.int64(2), np.int64(2), np.int64(5), np.int64(2), np.int64(9), np.int64(4), np.int64(3), np.int64(9), np.int64(0), np.int64(9), np.int64(9), np.int64(6), np.int64(4), np.int64(2), np.int64(9), np.int64(7), np.int64(2), np.int64(1), np.int64(1), np.int64(6), np.int64(7), np.int64(9), np.int64(7), np.int64(5), np.int64(9), np.int64(6), np.int64(8), np.int64(2), np.int64(1), np.int64(4), np.int64(4), np.int64(5), np.int64(7), np.int64(6), np.int64(1), np.int64(3), np.int64(2), np.int64(5), np.int64(9), np.int64(9), np.int64(3), np.int64(6), np.int64(1), np.int64(1), np.int64(4), np.int64(6), np.int64(9), np.int64(7), np.int64(2), np.int64(1), np.int64(5), np.int64(1), np.int64(4), np.int64(6), np.int64(3), np.int64(8), np.int64(1), np.int64(1), np.int64(0), np.int64(3), np.int64(1), np.int64(6), np.int64(8), np.int64(4), np.int64(9), np.int64(0), np.int64(7), np.int64(3), np.int64(0), np.int64(2), np.int64(9), np.int64(0), np.int64(6), np.int64(6), np.int64(6), np.int64(3), np.int64(6), np.int64(7), np.int64(7), np.int64(2), np.int64(8), np.int64(6), np.int64(0), np.int64(8), np.int64(3), np.int64(0), np.int64(2), np.int64(9), np.int64(8), np.int64(5), np.int64(2), np.int64(5), np.int64(3), np.int64(9), np.int64(8), np.int64(0), np.int64(0), np.int64(1), np.int64(9), np.int64(5), np.int64(1), np.int64(3), np.int64(9), np.int64(6), np.int64(0), np.int64(1), np.int64(4), np.int64(1), np.int64(7), np.int64(1), np.int64(2), np.int64(3), np.int64(7), np.int64(9), np.int64(7), np.int64(4), np.int64(9), np.int64(9), np.int64(3), np.int64(9), np.int64(2), np.int64(8), np.int64(2), np.int64(7), np.int64(1), np.int64(8), np.int64(0), np.int64(9), np.int64(1), np.int64(0), np.int64(1), np.int64(7), np.int64(7), np.int64(9), np.int64(6), np.int64(9), np.int64(9), np.int64(9), np.int64(2), np.int64(1), np.int64(6), np.int64(1), np.int64(3), np.int64(5), np.int64(7), np.int64(1), np.int64(9), np.int64(7), np.int64(6), np.int64(4), np.int64(5), np.int64(7), np.int64(6), np.int64(6), np.int64(9), np.int64(9), np.int64(6), np.int64(3), np.int64(6), np.int64(2), np.int64(9), np.int64(8), np.int64(1), np.int64(2), np.int64(2), np.int64(5), np.int64(5), np.int64(3), np.int64(3), np.int64(7), np.int64(2), np.int64(1), np.int64(0), np.int64(1), np.int64(0), np.int64(4), np.int64(5), np.int64(2), np.int64(8), np.int64(2), np.int64(8), np.int64(3), np.int64(5), np.int64(1), np.int64(7), np.int64(8), np.int64(1), np.int64(1), np.int64(2), np.int64(9), np.int64(7), np.int64(8), np.int64(6), np.int64(0), np.int64(3), np.int64(0), np.int64(7), np.int64(8), np.int64(8), np.int64(4), np.int64(7), np.int64(7), np.int64(8), np.int64(5), np.int64(8), np.int64(6), np.int64(9), np.int64(8), np.int64(1), np.int64(3), np.int64(8), np.int64(0), np.int64(3), np.int64(1), np.int64(7), np.int64(9), np.int64(5), np.int64(6), np.int64(1), np.int64(6), np.int64(5), np.int64(7), np.int64(4), np.int64(9), np.int64(3), np.int64(5), np.int64(4), np.int64(7), np.int64(1), np.int64(2), np.int64(0), np.int64(8), np.int64(1), np.int64(6), np.int64(0), np.int64(7), np.int64(3), np.int64(4), np.int64(7), np.int64(3), np.int64(9), np.int64(6), np.int64(0), np.int64(8), np.int64(6), np.int64(4), np.int64(8), np.int64(7), np.int64(7), np.int64(9), np.int64(3), np.int64(8), np.int64(6), np.int64(9), np.int64(7), np.int64(2), np.int64(3), np.int64(4), np.int64(0), np.int64(2), np.int64(1), np.int64(3), np.int64(3), np.int64(5), np.int64(5), np.int64(7), np.int64(2), np.int64(4), np.int64(0), np.int64(7), np.int64(2), np.int64(8), np.int64(3), np.int64(0), np.int64(8), np.int64(7), np.int64(8), np.int64(9), np.int64(0), np.int64(8), np.int64(4), np.int64(4), np.int64(5), np.int64(8), np.int64(5), np.int64(6), np.int64(6), np.int64(3), np.int64(0), np.int64(9), np.int64(3), np.int64(7), np.int64(6), np.int64(8), np.int64(9), np.int64(3), np.int64(4), np.int64(9), np.int64(5), np.int64(8), np.int64(9), np.int64(1), np.int64(2), np.int64(8), np.int64(8), np.int64(6), np.int64(8), np.int64(1), np.int64(3), np.int64(7), np.int64(9), np.int64(0), np.int64(1), np.int64(1), np.int64(9), np.int64(7), np.int64(0), np.int64(8), np.int64(1), np.int64(7), np.int64(4), np.int64(5), np.int64(7), np.int64(1), np.int64(2), np.int64(1), np.int64(1), np.int64(3), np.int64(9), np.int64(6), np.int64(2), np.int64(1), np.int64(2), np.int64(6), np.int64(5), np.int64(7), np.int64(6), np.int64(6), np.int64(9), np.int64(3), np.int64(7), np.int64(0), np.int64(5), np.int64(2), np.int64(3), np.int64(0), np.int64(5), np.int64(4), np.int64(3), np.int64(8), np.int64(4), np.int64(6), np.int64(6), np.int64(2), np.int64(7), np.int64(9), np.int64(5), np.int64(1), np.int64(3), np.int64(2), np.int64(4), np.int64(3), np.int64(6), np.int64(1), np.int64(9), np.int64(4), np.int64(4), np.int64(7), np.int64(6), np.int64(6), np.int64(4), np.int64(1), np.int64(4), np.int64(9), np.int64(2), np.int64(7), np.int64(8), np.int64(0), np.int64(1), np.int64(3), np.int64(6), np.int64(1), np.int64(3), np.int64(4), np.int64(1), np.int64(1), np.int64(1), np.int64(5), np.int64(6), np.int64(0), np.int64(7), np.int64(0), np.int64(7), np.int64(2), np.int64(3), np.int64(2), np.int64(5), np.int64(8), np.int64(2), np.int64(9), np.int64(4), np.int64(9), np.int64(8), np.int64(1), np.int64(3), np.int64(1), np.int64(6), np.int64(1), np.int64(2), np.int64(7), np.int64(8), np.int64(0), np.int64(0), np.int64(0), np.int64(8), np.int64(2), np.int64(2), np.int64(9), np.int64(2), np.int64(2), np.int64(4), np.int64(9), np.int64(9), np.int64(2), np.int64(7), np.int64(5), np.int64(1), np.int64(3), np.int64(4), np.int64(9), np.int64(4), np.int64(1), np.int64(3), np.int64(5), np.int64(6), np.int64(3), np.int64(8), np.int64(3), np.int64(1), np.int64(2), np.int64(8), np.int64(4), np.int64(9), np.int64(9), np.int64(3), np.int64(7), np.int64(0), np.int64(7), np.int64(7), np.int64(2), np.int64(3), np.int64(2), np.int64(4), np.int64(0), np.int64(3), np.int64(9), np.int64(9), np.int64(8), np.int64(4), np.int64(1), np.int64(0), np.int64(6), np.int64(0), np.int64(9), np.int64(6), np.int64(8), np.int64(6), np.int64(1), np.int64(1), np.int64(9), np.int64(8), np.int64(9), np.int64(2), np.int64(3), np.int64(5), np.int64(5), np.int64(9), np.int64(4), np.int64(2), np.int64(1), np.int64(9), np.int64(4), np.int64(3), np.int64(9), np.int64(6), np.int64(0), np.int64(4), np.int64(0), np.int64(6), np.int64(0), np.int64(1), np.int64(2), np.int64(3), np.int64(4), np.int64(7), np.int64(8), np.int64(9), np.int64(0), np.int64(1), np.int64(2), np.int64(5), np.int64(4), np.int64(7), np.int64(8), np.int64(9), np.int64(0), np.int64(1), np.int64(2), np.int64(3), np.int64(4), np.int64(5), np.int64(6), np.int64(7), np.int64(8), np.int64(9), np.int64(8), np.int64(3), np.int64(4), np.int64(7), np.int64(8), np.int64(6), np.int64(3), np.int64(4), np.int64(0), np.int64(9), np.int64(7), np.int64(1), np.int64(9), np.int64(3), np.int64(8), np.int64(4), np.int64(7), np.int64(3), np.int64(0), np.int64(9), np.int64(1), np.int64(4), np.int64(5), np.int64(4), np.int64(6), np.int64(4), np.int64(0), np.int64(6), np.int64(2), np.int64(1), np.int64(1), np.int64(1), np.int64(1), np.int64(7), np.int64(2), np.int64(4), np.int64(7), np.int64(5), np.int64(2), np.int64(9), np.int64(4), np.int64(5), np.int64(8), np.int64(4), np.int64(2), np.int64(9), np.int64(7), np.int64(0), np.int64(0), np.int64(7), np.int64(5), np.int64(1), np.int64(1), np.int64(7), np.int64(6), np.int64(6), np.int64(6), np.int64(8), np.int64(2), np.int64(2), np.int64(7), np.int64(7), np.int64(4), np.int64(0), np.int64(2), np.int64(4), np.int64(2), np.int64(1), np.int64(8), np.int64(9), np.int64(6), np.int64(1), np.int64(0), np.int64(5), np.int64(9), np.int64(6), np.int64(9), np.int64(8), np.int64(0), np.int64(3), np.int64(0), np.int64(8), np.int64(3), np.int64(9), np.int64(6), np.int64(3), np.int64(0), np.int64(1), np.int64(2), np.int64(3), np.int64(4), np.int64(5), np.int64(6), np.int64(7), np.int64(0), np.int64(1), np.int64(2), np.int64(3), np.int64(4), np.int64(5), np.int64(6), np.int64(7), np.int64(8), np.int64(9), np.int64(0), np.int64(1), np.int64(2), np.int64(3), np.int64(4), np.int64(5), np.int64(6), np.int64(7), np.int64(8), np.int64(5), np.int64(4), np.int64(5), np.int64(7), np.int64(4), np.int64(7), np.int64(7), np.int64(3), np.int64(9), np.int64(8), np.int64(8), np.int64(3), np.int64(1), np.int64(5), np.int64(8), np.int64(2), np.int64(7), np.int64(4), np.int64(2), np.int64(1), np.int64(5), np.int64(4), np.int64(5), np.int64(5), np.int64(8), np.int64(6), np.int64(4), np.int64(4), np.int64(4), np.int64(1), np.int64(8), np.int64(7), np.int64(5), np.int64(5), np.int64(1), np.int64(8), np.int64(9), np.int64(1), np.int64(3), np.int64(6), np.int64(3), np.int64(3), np.int64(2), np.int64(2), np.int64(6), np.int64(9), np.int64(9), np.int64(6), np.int64(5), np.int64(5), np.int64(3), np.int64(3), np.int64(8), np.int64(1), np.int64(6), np.int64(5), np.int64(6), np.int64(8), np.int64(1), np.int64(9), np.int64(7), np.int64(6), np.int64(8), np.int64(3), np.int64(7), np.int64(4), np.int64(7), np.int64(0), np.int64(9), np.int64(0), np.int64(0), np.int64(3), np.int64(7), np.int64(9), np.int64(3), np.int64(0), np.int64(2), np.int64(0), np.int64(1), np.int64(0), np.int64(1), np.int64(0), np.int64(4), np.int64(0), np.int64(1), np.int64(0), np.int64(4), np.int64(7), np.int64(9), np.int64(6), np.int64(2), np.int64(6), np.int64(2), np.int64(2), np.int64(9), np.int64(9), np.int64(0), np.int64(1), np.int64(2), np.int64(3), np.int64(4), np.int64(5), np.int64(6), np.int64(7), np.int64(8), np.int64(9), np.int64(0), np.int64(1), np.int64(2), np.int64(3), np.int64(4), np.int64(5), np.int64(6), np.int64(7), np.int64(8), np.int64(9), np.int64(0), np.int64(1), np.int64(2), np.int64(3), np.int64(4), np.int64(5), np.int64(6), np.int64(7), np.int64(8), np.int64(9), np.int64(8), np.int64(0), np.int64(5), np.int64(6), np.int64(6), np.int64(0), np.int64(8), np.int64(0), np.int64(2), np.int64(3), np.int64(7), np.int64(9), np.int64(4), np.int64(7), np.int64(1), np.int64(9), np.int64(1), np.int64(7), np.int64(1), np.int64(4), np.int64(0), np.int64(0), np.int64(4), np.int64(1), np.int64(7), np.int64(5), np.int64(7), np.int64(1), np.int64(3), np.int64(3), np.int64(3), np.int64(4), np.int64(6), np.int64(9), np.int64(7), np.int64(4), np.int64(3), np.int64(0), np.int64(2), np.int64(5), np.int64(2), np.int64(6), np.int64(0), np.int64(8), np.int64(9), np.int64(4), np.int64(3), np.int64(5), np.int64(4), np.int64(8), np.int64(1), np.int64(5), np.int64(9), np.int64(0), np.int64(6), np.int64(4), np.int64(3), np.int64(6), np.int64(3), np.int64(3), np.int64(8), np.int64(1), np.int64(4), np.int64(7), np.int64(5), np.int64(7), np.int64(2), np.int64(2), np.int64(0), np.int64(0), np.int64(1), np.int64(7), np.int64(7), np.int64(9), np.int64(5), np.int64(9), np.int64(8), np.int64(9), np.int64(6), np.int64(8), np.int64(8), np.int64(2), np.int64(3), np.int64(6), np.int64(1), np.int64(2), np.int64(9), np.int64(8), np.int64(9), np.int64(5), np.int64(2), np.int64(6), np.int64(2), np.int64(4), np.int64(8), np.int64(4), np.int64(6), np.int64(5), np.int64(0), np.int64(1), np.int64(5), np.int64(6), np.int64(7), np.int64(8), np.int64(9), np.int64(0), np.int64(1), np.int64(2), np.int64(3), np.int64(4), np.int64(5), np.int64(6), np.int64(7), np.int64(8), np.int64(9), np.int64(0), np.int64(1), np.int64(2), np.int64(3), np.int64(4), np.int64(5), np.int64(6), np.int64(7), np.int64(8), np.int64(9), np.int64(7), np.int64(4), np.int64(2), np.int64(0), np.int64(9), np.int64(0), np.int64(1), np.int64(5), np.int64(8), np.int64(8), np.int64(0), np.int64(2), np.int64(7), np.int64(8), np.int64(4), np.int64(4), np.int64(6), np.int64(1), np.int64(0), np.int64(4), np.int64(5), np.int64(3), np.int64(9), np.int64(4), np.int64(2), np.int64(0), np.int64(5), np.int64(0), np.int64(1), np.int64(3), np.int64(2), np.int64(9), np.int64(8), np.int64(6), np.int64(0), np.int64(1), np.int64(1), np.int64(8), np.int64(0), np.int64(4), np.int64(7), np.int64(7), np.int64(6), np.int64(3), np.int64(6), np.int64(0), np.int64(7), np.int64(3), np.int64(5), np.int64(4), np.int64(2), np.int64(4), np.int64(1), np.int64(8), np.int64(3), np.int64(5), np.int64(6), np.int64(7), np.int64(0), np.int64(6), np.int64(7), np.int64(1), np.int64(2), np.int64(5), np.int64(8), np.int64(1), np.int64(9), np.int64(3), np.int64(8), np.int64(2), np.int64(3), np.int64(7), np.int64(6), np.int64(7), np.int64(1), np.int64(4), np.int64(6), np.int64(2), np.int64(9), np.int64(3), np.int64(0), np.int64(1), np.int64(2), np.int64(3), np.int64(4), np.int64(5), np.int64(6), np.int64(7), np.int64(0), np.int64(1), np.int64(2), np.int64(3), np.int64(4), np.int64(5), np.int64(0), np.int64(1), np.int64(2), np.int64(8), np.int64(9), np.int64(1), np.int64(4), np.int64(0), np.int64(9), np.int64(5), np.int64(0), np.int64(8), np.int64(0), np.int64(7), np.int64(7), np.int64(1), np.int64(1), np.int64(2), np.int64(9), np.int64(3), np.int64(6), np.int64(7), np.int64(2), np.int64(3), np.int64(8), np.int64(1), np.int64(2), np.int64(9), np.int64(8), np.int64(8), np.int64(7), np.int64(1), np.int64(7), np.int64(1), np.int64(1), np.int64(0), np.int64(3), np.int64(4), np.int64(2), np.int64(6), np.int64(4), np.int64(7), np.int64(4), np.int64(2), np.int64(7), np.int64(4), np.int64(9), np.int64(1), np.int64(0), np.int64(6), np.int64(8), np.int64(5), np.int64(5), np.int64(5), np.int64(3), np.int64(5), np.int64(9), np.int64(7), np.int64(4), np.int64(8), np.int64(5), np.int64(9), np.int64(6), np.int64(9), np.int64(3), np.int64(0), np.int64(3), np.int64(8), np.int64(9), np.int64(1), np.int64(8), np.int64(1), np.int64(6), np.int64(0), np.int64(0), np.int64(1), np.int64(2), np.int64(3), np.int64(4), np.int64(5), np.int64(6), np.int64(7), np.int64(8), np.int64(9), np.int64(0), np.int64(1), np.int64(2), np.int64(3), np.int64(4), np.int64(5), np.int64(6), np.int64(7), np.int64(8), np.int64(9), np.int64(0), np.int64(1), np.int64(2), np.int64(3), np.int64(4), np.int64(5), np.int64(6), np.int64(7), np.int64(8), np.int64(9), np.int64(5), np.int64(5), np.int64(3), np.int64(2), np.int64(9), np.int64(3), np.int64(2), np.int64(1), np.int64(4), np.int64(5), np.int64(5), np.int64(3), np.int64(3), np.int64(2), np.int64(1), np.int64(3), np.int64(9), np.int64(7), np.int64(2), np.int64(5), np.int64(2), np.int64(8), np.int64(9), np.int64(1), np.int64(8), np.int64(8), np.int64(7), np.int64(8), np.int64(1), np.int64(0), np.int64(0), np.int64(9), np.int64(7), np.int64(8), np.int64(7), np.int64(5), np.int64(0), np.int64(6), np.int64(1), np.int64(5), np.int64(7), np.int64(4), np.int64(6), np.int64(1), np.int64(2), np.int64(5), np.int64(0), np.int64(7), np.int64(9), np.int64(9), np.int64(0), np.int64(3), np.int64(8), np.int64(3), np.int64(4), np.int64(8), np.int64(1), np.int64(8), np.int64(6), np.int64(5), np.int64(9), np.int64(0), np.int64(0), np.int64(0), np.int64(3), np.int64(7), np.int64(1), np.int64(6), np.int64(4), np.int64(2), np.int64(6), np.int64(6), np.int64(0), np.int64(4), np.int64(5), np.int64(4), np.int64(1), np.int64(3), np.int64(8), np.int64(6), np.int64(3), np.int64(9), np.int64(9), np.int64(5), np.int64(9), np.int64(3), np.int64(7), np.int64(8), np.int64(5), np.int64(6), np.int64(4), np.int64(7), np.int64(6), np.int64(2), np.int64(2), np.int64(0), np.int64(9), np.int64(4), np.int64(0), np.int64(1), np.int64(2), np.int64(3), np.int64(4), np.int64(5), np.int64(6), np.int64(7), np.int64(8), np.int64(9), np.int64(0), np.int64(1), np.int64(2), np.int64(7), np.int64(5), np.int64(6), np.int64(0), np.int64(1), np.int64(2), np.int64(3), np.int64(4), np.int64(5), np.int64(6), np.int64(8), np.int64(7), np.int64(1), np.int64(3), np.int64(2), np.int64(6), np.int64(0), np.int64(7), np.int64(5), np.int64(9), np.int64(9), np.int64(6), np.int64(0), np.int64(9), np.int64(4), np.int64(1), np.int64(3), np.int64(2), np.int64(1), np.int64(2), np.int64(3), np.int64(8), np.int64(3), np.int64(2), np.int64(6), np.int64(5), np.int64(6), np.int64(8), np.int64(2), np.int64(7), np.int64(4), np.int64(8), np.int64(1), np.int64(8), np.int64(0), np.int64(5), np.int64(3), np.int64(9), np.int64(4), np.int64(1), np.int64(9), np.int64(2), np.int64(1), np.int64(9), np.int64(6), np.int64(7), np.int64(9), np.int64(0), np.int64(4), np.int64(6), np.int64(1), np.int64(7), np.int64(3), np.int64(8), np.int64(7), np.int64(2), np.int64(9), np.int64(6), np.int64(5), np.int64(8), np.int64(3), np.int64(9), np.int64(0), np.int64(5), np.int64(7), np.int64(1), np.int64(6), np.int64(1), np.int64(0), np.int64(9), np.int64(3), np.int64(3), np.int64(4), np.int64(4), np.int64(0), np.int64(6), np.int64(2), np.int64(5), np.int64(4), np.int64(2), np.int64(3), np.int64(4), np.int64(6), np.int64(0), np.int64(0), np.int64(2), np.int64(0), np.int64(1), np.int64(4), np.int64(5), np.int64(6), np.int64(9), np.int64(8), np.int64(9), np.int64(0), np.int64(1), np.int64(2), np.int64(3), np.int64(4), np.int64(5), np.int64(6), np.int64(7), np.int64(8), np.int64(0), np.int64(1), np.int64(2), np.int64(3), np.int64(4), np.int64(5), np.int64(6), np.int64(7), np.int64(8), np.int64(9), np.int64(8), np.int64(7), np.int64(1), np.int64(3), np.int64(7), np.int64(5), np.int64(2), np.int64(8), np.int64(0), np.int64(7), np.int64(5), np.int64(9), np.int64(9), np.int64(0), np.int64(9), np.int64(1), np.int64(1), np.int64(5), np.int64(8), np.int64(8), np.int64(6), np.int64(3), np.int64(2), np.int64(1), np.int64(8), np.int64(3), np.int64(2), np.int64(6), np.int64(5), np.int64(6), np.int64(5), np.int64(4), np.int64(1), np.int64(0), np.int64(5), np.int64(3), np.int64(1), np.int64(9), np.int64(2), np.int64(1), np.int64(9), np.int64(6), np.int64(0), np.int64(4), np.int64(6), np.int64(1), np.int64(7), np.int64(3), np.int64(8), np.int64(7), np.int64(2), np.int64(9), np.int64(6), np.int64(5), np.int64(8), np.int64(3), np.int64(5), np.int64(7), np.int64(1), np.int64(6), np.int64(1), np.int64(0), np.int64(9), np.int64(6), np.int64(2), np.int64(5), np.int64(4), np.int64(2), np.int64(3), np.int64(9), np.int64(4), np.int64(6), np.int64(0), np.int64(0), np.int64(2), np.int64(0), np.int64(1), np.int64(0), np.int64(3), np.int64(9), np.int64(3), np.int64(6), np.int64(7), np.int64(8), np.int64(9), np.int64(0), np.int64(1), np.int64(2), np.int64(3), np.int64(4), np.int64(5), np.int64(6), np.int64(7), np.int64(8), np.int64(9), np.int64(0), np.int64(1), np.int64(2), np.int64(8), np.int64(4), np.int64(5), np.int64(6), np.int64(7), np.int64(8), np.int64(9), np.int64(8), np.int64(6), np.int64(5), np.int64(0), np.int64(6), np.int64(8), np.int64(9), np.int64(4), np.int64(1), np.int64(9), np.int64(5), np.int64(8), np.int64(0), np.int64(4), np.int64(8), np.int64(9), np.int64(1), np.int64(4), np.int64(0), np.int64(5), np.int64(5), np.int64(2), np.int64(1), np.int64(5), np.int64(4), np.int64(0), np.int64(7), np.int64(6), np.int64(0), np.int64(1), np.int64(7), np.int64(0), np.int64(6), np.int64(8), np.int64(9), np.int64(5), np.int64(1), np.int64(7), np.int64(9), np.int64(8), np.int64(6), np.int64(0), np.int64(8), np.int64(1), np.int64(7), np.int64(7), np.int64(1), np.int64(3), np.int64(2), np.int64(3), np.int64(1), np.int64(4), np.int64(2), np.int64(0), np.int64(0), np.int64(7), np.int64(8), np.int64(4), np.int64(6), np.int64(4), np.int64(9), np.int64(5), np.int64(8), np.int64(4), np.int64(3), np.int64(2), np.int64(3), np.int64(6), np.int64(3), np.int64(6), np.int64(9), np.int64(6), np.int64(3), np.int64(0), np.int64(2), np.int64(4), np.int64(6), np.int64(9), np.int64(0), np.int64(2), np.int64(5), np.int64(5), np.int64(1), np.int64(9), np.int64(8), np.int64(9), np.int64(7), np.int64(8), np.int64(7), np.int64(2), np.int64(2), np.int64(5), np.int64(7), np.int64(9), np.int64(8), np.int64(2), np.int64(1), np.int64(9), np.int64(1), np.int64(3), np.int64(0), np.int64(1), np.int64(2), np.int64(3), np.int64(4), np.int64(5), np.int64(6), np.int64(7), np.int64(8), np.int64(9), np.int64(0), np.int64(1), np.int64(2), np.int64(3), np.int64(4), np.int64(5), np.int64(6), np.int64(7), np.int64(8), np.int64(9), np.int64(0), np.int64(1), np.int64(2), np.int64(3), np.int64(4), np.int64(5), np.int64(6), np.int64(7), np.int64(8), np.int64(9), np.int64(1), np.int64(2), np.int64(6), np.int64(5), np.int64(3), np.int64(0), np.int64(7), np.int64(0), np.int64(4), np.int64(1), np.int64(4), np.int64(3), np.int64(6), np.int64(7), np.int64(2), np.int64(3), np.int64(1), np.int64(2), np.int64(1), np.int64(2), np.int64(9), np.int64(6), np.int64(0), np.int64(1), np.int64(3), np.int64(0), np.int64(2), np.int64(7), np.int64(5), np.int64(7), np.int64(6), np.int64(2), np.int64(9), np.int64(1), np.int64(9), np.int64(0), np.int64(6), np.int64(0), np.int64(6), np.int64(0), np.int64(2), np.int64(0), np.int64(6), np.int64(1), np.int64(5), np.int64(8), np.int64(4), np.int64(3), np.int64(0), np.int64(1), np.int64(5), np.int64(4), np.int64(4), np.int64(8), np.int64(5), np.int64(7), np.int64(5), np.int64(7), np.int64(8), np.int64(3), np.int64(4), np.int64(8), np.int64(8), np.int64(5), np.int64(2), np.int64(9), np.int64(7), np.int64(1), np.int64(3), np.int64(8), np.int64(1), np.int64(0), np.int64(7), np.int64(5), np.int64(3), np.int64(6), np.int64(9), np.int64(4), np.int64(7), np.int64(7), np.int64(9), np.int64(9), np.int64(3), np.int64(4), np.int64(4), np.int64(3), np.int64(8), np.int64(6), np.int64(2), np.int64(0), np.int64(1), np.int64(2), np.int64(3), np.int64(4), np.int64(5), np.int64(6), np.int64(7), np.int64(8), np.int64(9), np.int64(0), np.int64(1), np.int64(2), np.int64(3), np.int64(4), np.int64(5), np.int64(6), np.int64(7), np.int64(8), np.int64(9), np.int64(0), np.int64(1), np.int64(2), np.int64(3), np.int64(4), np.int64(5), np.int64(6), np.int64(7), np.int64(8), np.int64(9), np.int64(0), np.int64(8), np.int64(3), np.int64(9), np.int64(5), np.int64(5), np.int64(2), np.int64(6), np.int64(8), np.int64(4), np.int64(9), np.int64(1), np.int64(7), np.int64(1), np.int64(2), np.int64(3), np.int64(5), np.int64(9), np.int64(6), np.int64(9), np.int64(1), np.int64(1), np.int64(1), np.int64(2), np.int64(9), np.int64(5), np.int64(6), np.int64(8), np.int64(1), np.int64(2), np.int64(0), np.int64(7), np.int64(7), np.int64(5), np.int64(8), np.int64(2), np.int64(9), np.int64(8), np.int64(9), np.int64(0), np.int64(4), np.int64(6), np.int64(7), np.int64(1), np.int64(3), np.int64(4), np.int64(5), np.int64(6), np.int64(0), np.int64(3), np.int64(6), np.int64(8), np.int64(7), np.int64(0), np.int64(4), np.int64(2), np.int64(7), np.int64(4), np.int64(7), np.int64(5), np.int64(4), np.int64(3), np.int64(4), np.int64(2), np.int64(8), np.int64(1), np.int64(5), np.int64(1), np.int64(2), np.int64(0), np.int64(2), np.int64(5), np.int64(6), np.int64(4), np.int64(3), np.int64(0), np.int64(0), np.int64(0), np.int64(3), np.int64(3), np.int64(5), np.int64(7), np.int64(0), np.int64(6), np.int64(4), np.int64(8), np.int64(8), np.int64(6), np.int64(3), np.int64(4), np.int64(6), np.int64(9), np.int64(9), np.int64(8), np.int64(2), np.int64(7), np.int64(7), np.int64(1), np.int64(0), np.int64(1), np.int64(2), np.int64(3), np.int64(4), np.int64(5), np.int64(6), np.int64(7), np.int64(8), np.int64(9), np.int64(0), np.int64(1), np.int64(2), np.int64(3), np.int64(4), np.int64(5), np.int64(6), np.int64(7), np.int64(8), np.int64(0), np.int64(1), np.int64(2), np.int64(3), np.int64(4), np.int64(5), np.int64(6), np.int64(7), np.int64(8), np.int64(2), np.int64(1), np.int64(7), np.int64(2), np.int64(5), np.int64(0), np.int64(8), np.int64(0), np.int64(2), np.int64(7), np.int64(8), np.int64(8), np.int64(3), np.int64(6), np.int64(0), np.int64(2), np.int64(7), np.int64(6), np.int64(6), np.int64(1), np.int64(2), np.int64(8), np.int64(8), np.int64(7), np.int64(7), np.int64(4), np.int64(7), np.int64(7), np.int64(3), np.int64(7), np.int64(4), np.int64(5), np.int64(4), np.int64(3), np.int64(3), np.int64(8), np.int64(4), np.int64(1), np.int64(1), np.int64(9), np.int64(7), np.int64(4), np.int64(3), np.int64(7), np.int64(3), np.int64(3), np.int64(0), np.int64(2), np.int64(5), np.int64(5), np.int64(6), np.int64(6), np.int64(3), np.int64(5), np.int64(2), np.int64(5), np.int64(9), np.int64(9), np.int64(8), np.int64(4), np.int64(1), np.int64(0), np.int64(6), np.int64(6), np.int64(9), np.int64(6), np.int64(8), np.int64(8), np.int64(5), np.int64(6), np.int64(1), np.int64(1), np.int64(9), np.int64(8), np.int64(9), np.int64(2), np.int64(3), np.int64(5), np.int64(5), np.int64(9), np.int64(4), np.int64(2), np.int64(1), np.int64(9), np.int64(3), np.int64(9), np.int64(2), np.int64(0), np.int64(6), np.int64(0), np.int64(4), np.int64(0), np.int64(0), np.int64(1), np.int64(2), np.int64(3), np.int64(4), np.int64(7), np.int64(8), np.int64(9), np.int64(0), np.int64(1), np.int64(2), np.int64(3), np.int64(7), np.int64(8), np.int64(9), np.int64(0), np.int64(1), np.int64(2), np.int64(3), np.int64(4), np.int64(7), np.int64(8), np.int64(9), np.int64(7), np.int64(3), np.int64(0), np.int64(3), np.int64(1), np.int64(8), np.int64(7), np.int64(6), np.int64(4), np.int64(0), np.int64(2), np.int64(6), np.int64(8), np.int64(3), np.int64(2), np.int64(8), np.int64(1), np.int64(2), np.int64(0), np.int64(7), np.int64(1), np.int64(0), np.int64(4), np.int64(4), np.int64(5), np.int64(8), np.int64(0), np.int64(6), np.int64(2), np.int64(3), np.int64(1), np.int64(5), np.int64(1), np.int64(8), np.int64(5), np.int64(9), np.int64(4), np.int64(0), np.int64(7), np.int64(5), np.int64(8), np.int64(8), np.int64(3), np.int64(8), np.int64(9), np.int64(2), np.int64(6), np.int64(2), np.int64(5), np.int64(3), np.int64(1), np.int64(7), np.int64(3), np.int64(9), np.int64(1), np.int64(9), np.int64(9), np.int64(6), np.int64(0), np.int64(3), np.int64(9), np.int64(2), np.int64(8), np.int64(1), np.int64(4), np.int64(3), np.int64(5), np.int64(2), np.int64(9), np.int64(2), np.int64(5), np.int64(8), np.int64(9), np.int64(5), np.int64(0), np.int64(1), np.int64(2), np.int64(4), np.int64(5), np.int64(6), np.int64(5), np.int64(1), np.int64(2), np.int64(3), np.int64(4), np.int64(5), np.int64(6), np.int64(7), np.int64(1), np.int64(2), np.int64(3), np.int64(4), np.int64(5), np.int64(1), np.int64(0), np.int64(4), np.int64(5), np.int64(6), np.int64(6), np.int64(3), np.int64(4), np.int64(4), np.int64(2), np.int64(9), np.int64(1), np.int64(0), np.int64(6), np.int64(4), np.int64(9), np.int64(7), np.int64(2), np.int64(3), np.int64(3), np.int64(9), np.int64(2), np.int64(0), np.int64(4), np.int64(3), np.int64(3), np.int64(9), np.int64(8), np.int64(5), np.int64(6), np.int64(3), np.int64(1), np.int64(1), np.int64(8), np.int64(4), np.int64(9), np.int64(2), np.int64(4), np.int64(0), np.int64(2), np.int64(4), np.int64(7), np.int64(8), np.int64(0), np.int64(7), np.int64(0), np.int64(6), np.int64(9), np.int64(3), np.int64(2), np.int64(8), np.int64(6), np.int64(9), np.int64(5), np.int64(7), np.int64(5), np.int64(1), np.int64(0), np.int64(8), np.int64(1), np.int64(6), np.int64(7), np.int64(2), np.int64(9), np.int64(7), np.int64(9), np.int64(5), np.int64(8), np.int64(6), np.int64(2), np.int64(6), np.int64(2), np.int64(8), np.int64(1), np.int64(7), np.int64(5), np.int64(0), np.int64(1), np.int64(1), np.int64(3), np.int64(2), np.int64(4), np.int64(9), np.int64(1), np.int64(3), np.int64(6), np.int64(8), np.int64(5), np.int64(0), np.int64(1), np.int64(2), np.int64(3), np.int64(4), np.int64(5), np.int64(6), np.int64(7), np.int64(8), np.int64(9), np.int64(0), np.int64(1), np.int64(2), np.int64(3), np.int64(4), np.int64(7), np.int64(8), np.int64(9), np.int64(5), np.int64(1), np.int64(7), np.int64(8), np.int64(9), np.int64(9), np.int64(8), np.int64(9), np.int64(8), np.int64(4), np.int64(1), np.int64(7), np.int64(7), np.int64(3), np.int64(3), np.int64(7), np.int64(6), np.int64(6), np.int64(6), np.int64(1), np.int64(9), np.int64(0), np.int64(1), np.int64(7), np.int64(6), np.int64(3), np.int64(2), np.int64(1), np.int64(7), np.int64(1), np.int64(3), np.int64(9), np.int64(1), np.int64(7), np.int64(6), np.int64(8), np.int64(4), np.int64(1), np.int64(4), np.int64(3), np.int64(6), np.int64(9), np.int64(6), np.int64(1), np.int64(4), np.int64(4), np.int64(7), np.int64(2), np.int64(4), np.int64(4), np.int64(0), np.int64(1), np.int64(2), np.int64(3), np.int64(4), np.int64(5), np.int64(6), np.int64(7), np.int64(8), np.int64(9), np.int64(0), np.int64(1), np.int64(2), np.int64(3), np.int64(4), np.int64(5), np.int64(6), np.int64(9), np.int64(0), np.int64(1), np.int64(2), np.int64(3), np.int64(4), np.int64(7), np.int64(8), np.int64(1), np.int64(3), np.int64(5), np.int64(1), np.int64(7), np.int64(7), np.int64(2), np.int64(1), np.int64(4), np.int64(8), np.int64(3), np.int64(4), np.int64(4), np.int64(3), np.int64(9), np.int64(7), np.int64(4), np.int64(1), np.int64(2), np.int64(3), np.int64(5), np.int64(9), np.int64(1), np.int64(6), np.int64(0), np.int64(1), np.int64(0), np.int64(0), np.int64(2), np.int64(9), np.int64(7), np.int64(1), np.int64(1), np.int64(4), np.int64(0), np.int64(4), np.int64(7), np.int64(3), np.int64(6), np.int64(8), np.int64(0), np.int64(3), np.int64(7), np.int64(4), np.int64(0), np.int64(6), np.int64(9), np.int64(2), np.int64(6), np.int64(5), np.int64(8), np.int64(6), np.int64(9), np.int64(0), np.int64(4), np.int64(0), np.int64(6), np.int64(6), np.int64(9), np.int64(2), np.int64(0), np.int64(9), np.int64(5), np.int64(1), np.int64(3), np.int64(7), np.int64(6), np.int64(9), np.int64(3), np.int64(0), np.int64(2), np.int64(2), np.int64(0), np.int64(1), np.int64(2), np.int64(3), np.int64(4), np.int64(5), np.int64(6), np.int64(7), np.int64(8), np.int64(9), np.int64(0), np.int64(1), np.int64(2), np.int64(3), np.int64(4), np.int64(5), np.int64(6), np.int64(7), np.int64(8), np.int64(9), np.int64(0), np.int64(1), np.int64(2), np.int64(3), np.int64(4), np.int64(5), np.int64(6), np.int64(7), np.int64(8), np.int64(9), np.int64(2), np.int64(1), np.int64(7), np.int64(2), np.int64(5), np.int64(0), np.int64(8), np.int64(0), np.int64(2), np.int64(7), np.int64(8), np.int64(8), np.int64(3), np.int64(0), np.int64(6), np.int64(0), np.int64(2), np.int64(7), np.int64(6), np.int64(6), np.int64(1), np.int64(2), np.int64(8), np.int64(8), np.int64(7), np.int64(7), np.int64(4), np.int64(7), np.int64(7), np.int64(3), np.int64(7), np.int64(4), np.int64(5), np.int64(4), np.int64(3), np.int64(3), np.int64(8), np.int64(4), np.int64(5), np.int64(4), np.int64(1), np.int64(1), np.int64(9), np.int64(7), np.int64(4), np.int64(3), np.int64(7), np.int64(3), np.int64(3), np.int64(0), np.int64(2), np.int64(5), np.int64(5), np.int64(6), np.int64(3), np.int64(1), np.int64(5), np.int64(2), np.int64(5), np.int64(9), np.int64(9), np.int64(8), np.int64(4), np.int64(1), np.int64(0), np.int64(6), np.int64(0), np.int64(9), np.int64(6), np.int64(8), np.int64(8), np.int64(5), np.int64(6), np.int64(1), np.int64(1), np.int64(9), np.int64(8), np.int64(9), np.int64(2), np.int64(3), np.int64(5), np.int64(5), np.int64(9), np.int64(4), np.int64(2), np.int64(1), np.int64(9), np.int64(4), np.int64(9), np.int64(1), np.int64(3), np.int64(9), np.int64(2), np.int64(0), np.int64(6), np.int64(0), np.int64(4), np.int64(0), np.int64(6), np.int64(0), np.int64(1), np.int64(2), np.int64(3), np.int64(4), np.int64(5), np.int64(6), np.int64(7), np.int64(8), np.int64(9), np.int64(0), np.int64(1), np.int64(2), np.int64(3), np.int64(4), np.int64(5), np.int64(6), np.int64(7), np.int64(8), np.int64(9), np.int64(0), np.int64(1), np.int64(2), np.int64(3), np.int64(4), np.int64(5), np.int64(6), np.int64(7), np.int64(8), np.int64(9), np.int64(3), np.int64(8), np.int64(0), np.int64(7), np.int64(1), np.int64(0), np.int64(7), np.int64(5), np.int64(5), np.int64(6), np.int64(9), np.int64(0), np.int64(1), np.int64(0), np.int64(0), np.int64(8), np.int64(3), np.int64(4), np.int64(3), np.int64(1), np.int64(5), np.int64(0), np.int64(0), np.int64(9), np.int64(5), np.int64(3), np.int64(4), np.int64(9), np.int64(3), np.int64(7), np.int64(6), np.int64(9), np.int64(2), np.int64(4), np.int64(5), np.int64(7), np.int64(2), np.int64(6), np.int64(4), np.int64(9), np.int64(4), np.int64(9), np.int64(4), np.int64(1), np.int64(2), np.int64(2), np.int64(5), np.int64(8), np.int64(1), np.int64(3), np.int64(2), np.int64(9), np.int64(4), np.int64(3), np.int64(8), np.int64(2), np.int64(2), np.int64(1), np.int64(2), np.int64(8), np.int64(6), np.int64(5), np.int64(1), np.int64(6), np.int64(7), np.int64(2), np.int64(1), np.int64(3), np.int64(9), np.int64(3), np.int64(8), np.int64(7), np.int64(5), np.int64(7), np.int64(0), np.int64(7), np.int64(4), np.int64(8), np.int64(8), np.int64(5), np.int64(0), np.int64(6), np.int64(6), np.int64(3), np.int64(7), np.int64(6), np.int64(9), np.int64(9), np.int64(4), np.int64(8), np.int64(4), np.int64(1), np.int64(6), np.int64(6), np.int64(6), np.int64(0), np.int64(1), np.int64(2), np.int64(3), np.int64(4), np.int64(5), np.int64(6), np.int64(7), np.int64(8), np.int64(9), np.int64(0), np.int64(1), np.int64(2), np.int64(3), np.int64(4), np.int64(5), np.int64(6), np.int64(7), np.int64(8), np.int64(9), np.int64(0), np.int64(1), np.int64(2), np.int64(3), np.int64(4), np.int64(5), np.int64(6), np.int64(7), np.int64(8), np.int64(9), np.int64(7), np.int64(4), np.int64(0), np.int64(4), np.int64(0), np.int64(1), np.int64(7), np.int64(9), np.int64(5), np.int64(1), np.int64(4), np.int64(2), np.int64(8), np.int64(9), np.int64(4), np.int64(3), np.int64(7), np.int64(8), np.int64(2), np.int64(4), np.int64(4), np.int64(3), np.int64(3), np.int64(6), np.int64(9), np.int64(9), np.int64(5), np.int64(8), np.int64(6), np.int64(7), np.int64(0), np.int64(6), np.int64(8), np.int64(2), np.int64(6), np.int64(3), np.int64(9), np.int64(3), np.int64(2), np.int64(9), np.int64(6), np.int64(1), np.int64(7), np.int64(4), np.int64(8), np.int64(8), np.int64(9), np.int64(0), np.int64(3), np.int64(3), np.int64(9), np.int64(0), np.int64(5), np.int64(2), np.int64(9), np.int64(4), np.int64(1), np.int64(0), np.int64(3), np.int64(7), np.int64(5), np.int64(8), np.int64(7), np.int64(7), np.int64(8), np.int64(2), np.int64(9), np.int64(7), np.int64(1), np.int64(2), np.int64(6), np.int64(4), np.int64(2), np.int64(5), np.int64(2), np.int64(3), np.int64(6), np.int64(6), np.int64(5), np.int64(0), np.int64(0), np.int64(2), np.int64(8), np.int64(1), np.int64(6), np.int64(1), np.int64(0), np.int64(4), np.int64(3), np.int64(1), np.int64(6), np.int64(1), np.int64(9), np.int64(0), np.int64(1), np.int64(4), np.int64(5), np.int64(6), np.int64(7), np.int64(8), np.int64(9), np.int64(1), np.int64(2), np.int64(3), np.int64(4), np.int64(5), np.int64(6), np.int64(7), np.int64(0), np.int64(1), np.int64(2), np.int64(3), np.int64(4), np.int64(5), np.int64(6), np.int64(7), np.int64(8), np.int64(9), np.int64(8), np.int64(4), np.int64(0), np.int64(0), np.int64(7), np.int64(2), np.int64(4), np.int64(3), np.int64(8), np.int64(6), np.int64(6), np.int64(3), np.int64(2), np.int64(6), np.int64(3), np.int64(3), np.int64(6), np.int64(1), np.int64(4), np.int64(7), np.int64(8), np.int64(0), np.int64(3), np.int64(1), np.int64(9), np.int64(0), np.int64(1), np.int64(9), np.int64(1), np.int64(2), np.int64(7), np.int64(0), np.int64(1), np.int64(3), np.int64(8), np.int64(2), np.int64(9), np.int64(2), np.int64(7), np.int64(6), np.int64(5), np.int64(5), np.int64(9), np.int64(9), np.int64(8), np.int64(2), np.int64(9), np.int64(1), np.int64(3), np.int64(2), np.int64(3), np.int64(4), np.int64(3), np.int64(1), np.int64(9), np.int64(0), np.int64(9), np.int64(3), np.int64(6), np.int64(8), np.int64(7), np.int64(0), np.int64(1), np.int64(0), np.int64(5), np.int64(8), np.int64(2), np.int64(7), np.int64(9), np.int64(0), np.int64(1), np.int64(2), np.int64(3), np.int64(4), np.int64(5), np.int64(6), np.int64(7), np.int64(8), np.int64(9), np.int64(0), np.int64(1), np.int64(2), np.int64(3), np.int64(4), np.int64(5), np.int64(6), np.int64(7), np.int64(8), np.int64(9), np.int64(0), np.int64(1), np.int64(2), np.int64(3), np.int64(4), np.int64(5), np.int64(6), np.int64(7), np.int64(8), np.int64(9), np.int64(1), np.int64(7), np.int64(4), np.int64(8), np.int64(1), np.int64(5), np.int64(6), np.int64(5), np.int64(7), np.int64(2), np.int64(8), np.int64(6), np.int64(3), np.int64(3), np.int64(8), np.int64(6), np.int64(5), np.int64(4), np.int64(0), np.int64(9), np.int64(1), np.int64(7), np.int64(2), np.int64(9), np.int64(1), np.int64(5), np.int64(1), np.int64(3), np.int64(2), np.int64(2), np.int64(3), np.int64(0), np.int64(6), np.int64(4), np.int64(3), np.int64(7), np.int64(6), np.int64(9), np.int64(0), np.int64(4), np.int64(8), np.int64(1), np.int64(4), np.int64(0), np.int64(6), np.int64(1), np.int64(2), np.int64(6), np.int64(9), np.int64(2), np.int64(2), np.int64(3), np.int64(5), np.int64(5), np.int64(1), np.int64(0), np.int64(7), np.int64(7), np.int64(9), np.int64(6), np.int64(2), np.int64(9), np.int64(4), np.int64(7), np.int64(0), np.int64(2), np.int64(3), np.int64(4), np.int64(0), np.int64(0), np.int64(8), np.int64(8), np.int64(8), np.int64(5), np.int64(1), np.int64(3), np.int64(7), np.int64(4), np.int64(9), np.int64(8), np.int64(8), np.int64(9), np.int64(0), np.int64(9), np.int64(8), np.int64(9), np.int64(0), np.int64(2), np.int64(6), np.int64(5), np.int64(6), np.int64(7), np.int64(4), np.int64(7), np.int64(5), np.int64(4), np.int64(1), np.int64(3), np.int64(5), np.int64(3), np.int64(1), np.int64(2), np.int64(3), np.int64(4), np.int64(5), np.int64(6), np.int64(1), np.int64(2), np.int64(3), np.int64(4), np.int64(6), np.int64(0), np.int64(1), np.int64(2), np.int64(4), np.int64(5), np.int64(6), np.int64(7), np.int64(8), np.int64(1), np.int64(7), np.int64(2), np.int64(4), np.int64(1), np.int64(4), np.int64(1), np.int64(4), np.int64(9), np.int64(6), np.int64(8), np.int64(4), np.int64(5), np.int64(3), np.int64(7), np.int64(8), np.int64(8), np.int64(3), np.int64(3), np.int64(5), np.int64(6), np.int64(7), np.int64(0), np.int64(6), np.int64(1), np.int64(6), np.int64(8), np.int64(7), np.int64(0), np.int64(1), np.int64(5), np.int64(0), np.int64(8), np.int64(5), np.int64(0), np.int64(1), np.int64(5), np.int64(8), np.int64(4), np.int64(2), np.int64(3), np.int64(9), np.int64(7), np.int64(6), np.int64(9), np.int64(1), np.int64(9), np.int64(0), np.int64(6), np.int64(7), np.int64(1), np.int64(2), np.int64(3), np.int64(9), np.int64(7), np.int64(4), np.int64(5), np.int64(5), np.int64(3), np.int64(7), np.int64(5), np.int64(3), np.int64(1), np.int64(8), np.int64(2), np.int64(2), np.int64(3), np.int64(0), np.int64(2), np.int64(9), np.int64(4), np.int64(9), np.int64(7), np.int64(0), np.int64(7), np.int64(7), np.int64(4), np.int64(9), np.int64(9), np.int64(2), np.int64(5), np.int64(9), np.int64(8), np.int64(3), np.int64(8), np.int64(6), np.int64(7), np.int64(0), np.int64(0), np.int64(1), np.int64(2), np.int64(3), np.int64(4), np.int64(5), np.int64(6), np.int64(7), np.int64(8), np.int64(9), np.int64(0), np.int64(1), np.int64(2), np.int64(3), np.int64(4), np.int64(5), np.int64(6), np.int64(7), np.int64(8), np.int64(9), np.int64(0), np.int64(1), np.int64(2), np.int64(3), np.int64(4), np.int64(5), np.int64(6), np.int64(7), np.int64(8), np.int64(9), np.int64(0), np.int64(0), np.int64(7), np.int64(2), np.int64(6), np.int64(5), np.int64(5), np.int64(3), np.int64(7), np.int64(9), np.int64(6), np.int64(6), np.int64(6), np.int64(6), np.int64(4), np.int64(3), np.int64(9), np.int64(8), np.int64(3), np.int64(0), np.int64(1), np.int64(9), np.int64(0), np.int64(5), np.int64(4), np.int64(1), np.int64(9), np.int64(1), np.int64(2), np.int64(7), np.int64(0), np.int64(1), np.int64(3), np.int64(8), np.int64(2), np.int64(9), np.int64(2), np.int64(7), np.int64(4), np.int64(2), np.int64(6), np.int64(5), np.int64(5), np.int64(9), np.int64(9), np.int64(1), np.int64(1), np.int64(5), np.int64(7), np.int64(6), np.int64(8), np.int64(2), np.int64(9), np.int64(4), np.int64(3), np.int64(1), np.int64(9), np.int64(0), np.int64(9), np.int64(3), np.int64(6), np.int64(8), np.int64(7), np.int64(0), np.int64(1), np.int64(0), np.int64(5), np.int64(8), np.int64(2), np.int64(7), np.int64(7), np.int64(0), np.int64(1), np.int64(2), np.int64(3), np.int64(4), np.int64(5), np.int64(6), np.int64(7), np.int64(8), np.int64(9), np.int64(0), np.int64(1), np.int64(3), np.int64(3), np.int64(4), np.int64(5), np.int64(8), np.int64(9), np.int64(0), np.int64(1), np.int64(2), np.int64(3), np.int64(4), np.int64(5), np.int64(6), np.int64(7), np.int64(8), np.int64(9), np.int64(2), np.int64(1), np.int64(2), np.int64(1), np.int64(3), np.int64(9), np.int64(9), np.int64(8), np.int64(5), np.int64(3), np.int64(7), np.int64(0), np.int64(7), np.int64(7), np.int64(5), np.int64(7), np.int64(9), np.int64(9), np.int64(4), np.int64(7), np.int64(0), np.int64(3), np.int64(4), np.int64(1), np.int64(5), np.int64(8), np.int64(1), np.int64(4), np.int64(8), np.int64(4), np.int64(1), np.int64(8), np.int64(6), np.int64(6), np.int64(4), np.int64(6), np.int64(0), np.int64(5), np.int64(5), np.int64(3), np.int64(3), np.int64(5), np.int64(7), np.int64(2), np.int64(5), np.int64(9), np.int64(6), np.int64(9), np.int64(2), np.int64(6), np.int64(2), np.int64(1), np.int64(2), np.int64(0), np.int64(8), np.int64(3), np.int64(8), np.int64(3), np.int64(0), np.int64(8), np.int64(7), np.int64(4), np.int64(9), np.int64(5), np.int64(0), np.int64(9), np.int64(7), np.int64(0), np.int64(0), np.int64(4), np.int64(6), np.int64(0), np.int64(9), np.int64(1), np.int64(6), np.int64(2), np.int64(7), np.int64(6), np.int64(8), np.int64(3), np.int64(5), np.int64(2), np.int64(1), np.int64(8), np.int64(3), np.int64(8), np.int64(6), np.int64(1), np.int64(0), np.int64(2), np.int64(1), np.int64(4), np.int64(0), np.int64(1), np.int64(2), np.int64(3), np.int64(4), np.int64(5), np.int64(6), np.int64(7), np.int64(8), np.int64(9), np.int64(0), np.int64(1), np.int64(2), np.int64(3), np.int64(4), np.int64(5), np.int64(6), np.int64(7), np.int64(8), np.int64(9), np.int64(0), np.int64(1), np.int64(2), np.int64(3), np.int64(4), np.int64(5), np.int64(6), np.int64(7), np.int64(8), np.int64(9), np.int64(7), np.int64(6), np.int64(4), np.int64(7), np.int64(6), np.int64(2), np.int64(3), np.int64(4), np.int64(8), np.int64(7), np.int64(8), np.int64(6), np.int64(9), np.int64(8), np.int64(3), np.int64(2), np.int64(2), np.int64(8), np.int64(4), np.int64(8), np.int64(5), np.int64(6), np.int64(5), np.int64(0), np.int64(2), np.int64(0), np.int64(1), np.int64(1), np.int64(2), np.int64(9), np.int64(6), np.int64(8), np.int64(2), np.int64(1), np.int64(0), np.int64(6), np.int64(5), np.int64(2), np.int64(9), np.int64(7), np.int64(5), np.int64(3), np.int64(9), np.int64(3), np.int64(7), np.int64(1), np.int64(8), np.int64(3), np.int64(8), np.int64(1), np.int64(9), np.int64(5), np.int64(5), np.int64(0), np.int64(1), np.int64(1), np.int64(9), np.int64(8), np.int64(2), np.int64(6), np.int64(0), np.int64(4), np.int64(5), np.int64(0), np.int64(3), np.int64(1), np.int64(8), np.int64(6), np.int64(7), np.int64(5), np.int64(9), np.int64(9), np.int64(3), np.int64(0), np.int64(3), np.int64(1), np.int64(4), np.int64(4), np.int64(0), np.int64(4), np.int64(9), np.int64(0), np.int64(1), np.int64(2), np.int64(3), np.int64(5), np.int64(6), np.int64(7), np.int64(8), np.int64(0), np.int64(1), np.int64(2), np.int64(3), np.int64(5), np.int64(6), np.int64(7), np.int64(8), np.int64(9), np.int64(0), np.int64(1), np.int64(2), np.int64(3), np.int64(5), np.int64(6), np.int64(7), np.int64(8), np.int64(9), np.int64(9), np.int64(7), np.int64(0), np.int64(9), np.int64(0), np.int64(1), np.int64(5), np.int64(8), np.int64(8), np.int64(0), np.int64(9), np.int64(3), np.int64(2), np.int64(7), np.int64(8), np.int64(4), np.int64(6), np.int64(1), np.int64(0), np.int64(4), np.int64(9), np.int64(4), np.int64(4), np.int64(0), np.int64(5), np.int64(0), np.int64(1), np.int64(6), np.int64(9), np.int64(3), np.int64(2), np.int64(9), np.int64(1), np.int64(6), np.int64(0), np.int64(1), np.int64(1), np.int64(8), np.int64(9), np.int64(7), np.int64(6), np.int64(3), np.int64(6), np.int64(0), np.int64(7), np.int64(2), np.int64(4), np.int64(1), np.int64(7), np.int64(0), np.int64(6), np.int64(8), np.int64(1), np.int64(2), np.int64(5), np.int64(8), np.int64(1), np.int64(2), np.int64(2), np.int64(8), np.int64(7), np.int64(6), np.int64(8), np.int64(7), np.int64(1), np.int64(6), np.int64(2), np.int64(9), np.int64(3), np.int64(0), np.int64(1), np.int64(2), np.int64(3), np.int64(4), np.int64(5), np.int64(6), np.int64(7), np.int64(8), np.int64(9), np.int64(0), np.int64(1), np.int64(2), np.int64(3), np.int64(4), np.int64(5), np.int64(6), np.int64(7), np.int64(8), np.int64(9), np.int64(0), np.int64(1), np.int64(2), np.int64(3), np.int64(4), np.int64(5), np.int64(6), np.int64(7), np.int64(8), np.int64(9), np.int64(8), np.int64(9), np.int64(5), np.int64(7), np.int64(0), np.int64(3), np.int64(1), np.int64(6), np.int64(8), np.int64(4), np.int64(1), np.int64(5), np.int64(6), np.int64(4), np.int64(2), np.int64(7), np.int64(8), np.int64(1), np.int64(3), np.int64(4), np.int64(3), np.int64(4), np.int64(7), np.int64(2), np.int64(0), np.int64(5), np.int64(0), np.int64(1), np.int64(9), np.int64(2), np.int64(3), np.int64(2), np.int64(3), np.int64(5), np.int64(5), np.int64(7), np.int64(8), np.int64(4), np.int64(9), np.int64(9), np.int64(7), np.int64(1), np.int64(1), np.int64(9), np.int64(0), np.int64(7), np.int64(8), np.int64(3), np.int64(4), np.int64(8), np.int64(6), np.int64(3), np.int64(8), np.int64(0), np.int64(9), np.int64(6), np.int64(2), np.int64(8), np.int64(0), np.int64(1), np.int64(0), np.int64(6), np.int64(2), np.int64(3), np.int64(8), np.int64(9), np.int64(0), np.int64(7), np.int64(2), np.int64(3), np.int64(4), np.int64(5), np.int64(5), np.int64(2), np.int64(8), np.int64(5), np.int64(4), np.int64(6), np.int64(6), np.int64(6), np.int64(7), np.int64(9), np.int64(1), np.int64(8), np.int64(2), np.int64(1), np.int64(5), np.int64(3), np.int64(4), np.int64(7), np.int64(9), np.int64(4), np.int64(0), np.int64(0), np.int64(0), np.int64(1), np.int64(2), np.int64(3), np.int64(4), np.int64(6), np.int64(6), np.int64(7), np.int64(8), np.int64(9), np.int64(0), np.int64(1), np.int64(2), np.int64(3), np.int64(4), np.int64(5), np.int64(6), np.int64(7), np.int64(8), np.int64(9), np.int64(0), np.int64(1), np.int64(2), np.int64(3), np.int64(4), np.int64(5), np.int64(6), np.int64(9), np.int64(0), np.int64(1), np.int64(3), np.int64(1), np.int64(5), np.int64(1), np.int64(8), np.int64(4), np.int64(9), np.int64(8), np.int64(4), np.int64(6), np.int64(8), np.int64(0), np.int64(1), np.int64(1), np.int64(9), np.int64(2), np.int64(6), np.int64(6), np.int64(8), np.int64(7), np.int64(4), np.int64(2), np.int64(9), np.int64(7), np.int64(0), np.int64(2), np.int64(1), np.int64(0), np.int64(3), np.int64(6), np.int64(0), np.int64(1), np.int64(2), np.int64(3), np.int64(4), np.int64(5), np.int64(6), np.int64(7), np.int64(8), np.int64(9), np.int64(0), np.int64(1), np.int64(2), np.int64(3), np.int64(4), np.int64(5), np.int64(6), np.int64(7), np.int64(8), np.int64(9), np.int64(0), np.int64(1), np.int64(2), np.int64(3), np.int64(4), np.int64(5), np.int64(6), np.int64(7), np.int64(8), np.int64(9), np.int64(8), np.int64(6), np.int64(5), np.int64(9), np.int64(7), np.int64(0), np.int64(2), np.int64(3), np.int64(4), np.int64(3), np.int64(8), np.int64(5), np.int64(1), np.int64(5), np.int64(2), np.int64(3), np.int64(0), np.int64(1), np.int64(2), np.int64(1), np.int64(3), np.int64(2), np.int64(6), np.int64(5), np.int64(3), np.int64(0), np.int64(7), np.int64(2), np.int64(7), np.int64(4), np.int64(6), np.int64(4), np.int64(0), np.int64(5), np.int64(9), np.int64(9), np.int64(5), np.int64(9), np.int64(5), np.int64(3), np.int64(1), np.int64(7), np.int64(4), np.int64(7), np.int64(6), np.int64(5), np.int64(4), np.int64(0), np.int64(0), np.int64(6), np.int64(6), np.int64(2), np.int64(0), np.int64(6), np.int64(3), np.int64(7), np.int64(7), np.int64(4), np.int64(4), np.int64(3), np.int64(9), np.int64(2), np.int64(8), np.int64(9), np.int64(6), np.int64(0), np.int64(9), np.int64(5), np.int64(3), np.int64(8), np.int64(8), np.int64(7), np.int64(1), np.int64(4), np.int64(0), np.int64(4), np.int64(8), np.int64(5), np.int64(2), np.int64(3), np.int64(9), np.int64(0), np.int64(1), np.int64(9), np.int64(1), np.int64(5), np.int64(1), np.int64(7), np.int64(4), np.int64(8), np.int64(6), np.int64(2), np.int64(1), np.int64(6), np.int64(8), np.int64(8), np.int64(0), np.int64(1), np.int64(2), np.int64(9), np.int64(4), np.int64(7), np.int64(8), np.int64(9), np.int64(0), np.int64(1), np.int64(2), np.int64(3), np.int64(4), np.int64(6), np.int64(7), np.int64(8), np.int64(9), np.int64(0), np.int64(1), np.int64(2), np.int64(3), np.int64(4), np.int64(7), np.int64(8), np.int64(9), np.int64(1), np.int64(4), np.int64(5), np.int64(3), np.int64(3), np.int64(9), np.int64(9), np.int64(5), np.int64(4), np.int64(9), np.int64(0), np.int64(4), np.int64(4), np.int64(6), np.int64(7), np.int64(0), np.int64(7), np.int64(7), np.int64(1), np.int64(6), np.int64(9), np.int64(1), np.int64(3), np.int64(6), np.int64(2), np.int64(9), np.int64(8), np.int64(2), np.int64(3), np.int64(8), np.int64(9), np.int64(5), np.int64(8), np.int64(8), np.int64(7), np.int64(1), np.int64(7), np.int64(1), np.int64(1), np.int64(0), np.int64(3), np.int64(4), np.int64(2), np.int64(6), np.int64(4), np.int64(7), np.int64(4), np.int64(2), np.int64(7), np.int64(4), np.int64(2), np.int64(9), np.int64(2), np.int64(7), np.int64(9), np.int64(2), np.int64(1), np.int64(6), np.int64(6), np.int64(5), np.int64(3), np.int64(4), np.int64(8), np.int64(5), np.int64(9), np.int64(6), np.int64(9), np.int64(0), np.int64(6), np.int64(3), np.int64(0), np.int64(8), np.int64(1), np.int64(6), np.int64(0), np.int64(0), np.int64(1), np.int64(2), np.int64(3), np.int64(4), np.int64(5), np.int64(6), np.int64(7), np.int64(0), np.int64(1), np.int64(2), np.int64(3), np.int64(4), np.int64(7), np.int64(8), np.int64(9), np.int64(0), np.int64(1), np.int64(2), np.int64(3), np.int64(4), np.int64(7), np.int64(2), np.int64(5), np.int64(1), np.int64(6), np.int64(4), np.int64(3), np.int64(9), np.int64(9), np.int64(0), np.int64(9), np.int64(7), np.int64(1), np.int64(6), np.int64(4), np.int64(3), np.int64(6), np.int64(2), np.int64(0), np.int64(9), np.int64(8), np.int64(6), np.int64(5), np.int64(7), np.int64(0), np.int64(0), np.int64(1), np.int64(7), np.int64(4), np.int64(3), np.int64(2), np.int64(4), np.int64(1), np.int64(3), np.int64(7), np.int64(6), np.int64(4), np.int64(7), np.int64(7), np.int64(7), np.int64(9), np.int64(8), np.int64(4), np.int64(3), np.int64(8), np.int64(2), np.int64(8), np.int64(3), np.int64(5), np.int64(8), np.int64(0), np.int64(5), np.int64(4), np.int64(7), np.int64(1), np.int64(3), np.int64(1), np.int64(7), np.int64(9), np.int64(6), np.int64(2), np.int64(0), np.int64(9), np.int64(1), np.int64(7), np.int64(3), np.int64(3), np.int64(9), np.int64(1), np.int64(6), np.int64(4), np.int64(3), np.int64(9), np.int64(8), np.int64(2), np.int64(1), np.int64(8), np.int64(6), np.int64(4), np.int64(1), np.int64(5), np.int64(5), np.int64(6), np.int64(5), np.int64(0), np.int64(1), np.int64(2), np.int64(3), np.int64(4), np.int64(5), np.int64(6), np.int64(7), np.int64(8), np.int64(9), np.int64(0), np.int64(1), np.int64(2), np.int64(3), np.int64(4), np.int64(5), np.int64(6), np.int64(7), np.int64(8), np.int64(9), np.int64(0), np.int64(1), np.int64(2), np.int64(3), np.int64(4), np.int64(5), np.int64(6), np.int64(7), np.int64(8), np.int64(9), np.int64(6), np.int64(9), np.int64(7), np.int64(0), np.int64(2), np.int64(3), np.int64(4), np.int64(3), np.int64(8), np.int64(5), np.int64(1), np.int64(3), np.int64(0), np.int64(1), np.int64(2), np.int64(1), np.int64(3), np.int64(2), np.int64(0), np.int64(7), np.int64(2), np.int64(6), np.int64(4), np.int64(0), np.int64(5), np.int64(9), np.int64(9), np.int64(8), np.int64(9), np.int64(5), np.int64(3), np.int64(1), np.int64(7), np.int64(4), np.int64(7), np.int64(0), np.int64(0), np.int64(6), np.int64(6), np.int64(6), np.int64(3), np.int64(3), np.int64(9), np.int64(2), np.int64(6), np.int64(9), np.int64(8), np.int64(7), np.int64(1), np.int64(9), np.int64(0), np.int64(4), np.int64(8), np.int64(5), np.int64(2), np.int64(3), np.int64(9), np.int64(0), np.int64(1), np.int64(9), np.int64(1), np.int64(5), np.int64(1), np.int64(7), np.int64(6), np.int64(1), np.int64(2), np.int64(1), np.int64(6), np.int64(8), np.int64(0), np.int64(1), np.int64(2), np.int64(3), np.int64(4), np.int64(5), np.int64(6), np.int64(7), np.int64(8), np.int64(9), np.int64(0), np.int64(1), np.int64(2), np.int64(3), np.int64(4), np.int64(5), np.int64(6), np.int64(7), np.int64(8), np.int64(0), np.int64(1), np.int64(2), np.int64(3), np.int64(5), np.int64(6), np.int64(7), np.int64(8), np.int64(1), np.int64(0), np.int64(4), np.int64(5), np.int64(6), np.int64(6), np.int64(3), np.int64(4), np.int64(4), np.int64(2), np.int64(8), np.int64(1), np.int64(0), np.int64(6), np.int64(4), np.int64(9), np.int64(7), np.int64(2), np.int64(9), np.int64(2), np.int64(0), np.int64(9), np.int64(3), np.int64(3), np.int64(9), np.int64(1), np.int64(5), np.int64(2), np.int64(3), np.int64(1), np.int64(6), np.int64(7), np.int64(3), np.int64(7), np.int64(8), np.int64(4), np.int64(0), np.int64(2), np.int64(4), np.int64(0), np.int64(2), np.int64(4), np.int64(7), np.int64(8), np.int64(0), np.int64(7), np.int64(0), np.int64(6), np.int64(9), np.int64(3), np.int64(2), np.int64(4), np.int64(8), np.int64(6), np.int64(0), np.int64(5), np.int64(7), np.int64(5), np.int64(1), np.int64(0), np.int64(8), np.int64(1), np.int64(6), np.int64(7), np.int64(2), np.int64(9), np.int64(7), np.int64(9), np.int64(5), np.int64(6), np.int64(5), np.int64(2), np.int64(6), np.int64(2), np.int64(8), np.int64(1), np.int64(7), np.int64(5), np.int64(5), np.int64(7), np.int64(3), np.int64(5), np.int64(0), np.int64(1), np.int64(1), np.int64(3), np.int64(8), np.int64(4), np.int64(9), np.int64(4), np.int64(5), np.int64(1), np.int64(8), np.int64(6), np.int64(8), np.int64(9), np.int64(0), np.int64(1), np.int64(2), np.int64(3), np.int64(4), np.int64(5), np.int64(6), np.int64(7), np.int64(8), np.int64(9), np.int64(0), np.int64(1), np.int64(2), np.int64(3), np.int64(4), np.int64(5), np.int64(6), np.int64(7), np.int64(8), np.int64(9), np.int64(0), np.int64(1), np.int64(2), np.int64(3), np.int64(4), np.int64(5), np.int64(6), np.int64(7), np.int64(8), np.int64(9), np.int64(3), np.int64(5), np.int64(3), np.int64(2), np.int64(9), np.int64(3), np.int64(2), np.int64(1), np.int64(4), np.int64(5), np.int64(5), np.int64(2), np.int64(3), np.int64(2), np.int64(1), np.int64(3), np.int64(9), np.int64(7), np.int64(2), np.int64(1), np.int64(2), np.int64(8), np.int64(9), np.int64(1), np.int64(8), np.int64(8), np.int64(7), np.int64(8), np.int64(1), np.int64(0), np.int64(0), np.int64(6), np.int64(7), np.int64(7), np.int64(8), np.int64(7), np.int64(5), np.int64(0), np.int64(6), np.int64(1), np.int64(5), np.int64(7), np.int64(4), np.int64(6), np.int64(1), np.int64(2), np.int64(5), np.int64(0), np.int64(7), np.int64(9), np.int64(9), np.int64(0), np.int64(3), np.int64(4), np.int64(4), np.int64(8), np.int64(4), np.int64(1), np.int64(8), np.int64(6), np.int64(5), np.int64(9), np.int64(0), np.int64(0), np.int64(0), np.int64(3), np.int64(7), np.int64(1), np.int64(6), np.int64(4), np.int64(6), np.int64(0), np.int64(4), np.int64(5), np.int64(4), np.int64(1), np.int64(3), np.int64(8), np.int64(6), np.int64(3), np.int64(9), np.int64(9), np.int64(5), np.int64(9), np.int64(3), np.int64(7), np.int64(8), np.int64(5), np.int64(6), np.int64(4), np.int64(7), np.int64(6), np.int64(2), np.int64(2), np.int64(0), np.int64(9), np.int64(4), np.int64(0), np.int64(1), np.int64(2), np.int64(3), np.int64(4), np.int64(5), np.int64(6), np.int64(7), np.int64(8), np.int64(9), np.int64(0), np.int64(1), np.int64(2), np.int64(3), np.int64(4), np.int64(5), np.int64(6), np.int64(7), np.int64(8), np.int64(9), np.int64(0), np.int64(1), np.int64(2), np.int64(3), np.int64(4), np.int64(5), np.int64(6), np.int64(7), np.int64(8), np.int64(9), np.int64(6), np.int64(4), np.int64(2), np.int64(6), np.int64(4), np.int64(7), np.int64(5), np.int64(5), np.int64(4), np.int64(7), np.int64(2), np.int64(9), np.int64(3), np.int64(9), np.int64(3), np.int64(8), np.int64(2), np.int64(0), np.int64(9), np.int64(5), np.int64(6), np.int64(0), np.int64(1), np.int64(0), np.int64(6), np.int64(5), np.int64(3), np.int64(5), np.int64(3), np.int64(8), np.int64(0), np.int64(0), np.int64(3), np.int64(4), np.int64(1), np.int64(5), np.int64(3), np.int64(0), np.int64(8), np.int64(3), np.int64(0), np.int64(6), np.int64(2), np.int64(7), np.int64(8), np.int64(1), np.int64(7), np.int64(1), np.int64(3), np.int64(8), np.int64(5), np.int64(4), np.int64(2), np.int64(0), np.int64(9), np.int64(7), np.int64(6), np.int64(7), np.int64(4), np.int64(1), np.int64(6), np.int64(2), np.int64(6), np.int64(7), np.int64(1), np.int64(9), np.int64(8), np.int64(0), np.int64(6), np.int64(9), np.int64(4), np.int64(9), np.int64(9), np.int64(6), np.int64(2), np.int64(3), np.int64(7), np.int64(1), np.int64(9), np.int64(2), np.int64(2), np.int64(5), np.int64(3), np.int64(7), np.int64(8), np.int64(0), np.int64(1), np.int64(2), np.int64(3), np.int64(4), np.int64(7), np.int64(8), np.int64(9), np.int64(0), np.int64(1), np.int64(2), np.int64(3), np.int64(4), np.int64(7), np.int64(8), np.int64(9), np.int64(0), np.int64(1), np.int64(7), np.int64(8), np.int64(9), np.int64(8), np.int64(9), np.int64(2), np.int64(6), np.int64(1), np.int64(3), np.int64(5), np.int64(4), np.int64(8), np.int64(2), np.int64(6), np.int64(4), np.int64(3), np.int64(4), np.int64(5), np.int64(9), np.int64(2), np.int64(0), np.int64(3), np.int64(9), np.int64(4), np.int64(9), np.int64(7), np.int64(3), np.int64(8), np.int64(7), np.int64(4), np.int64(4), np.int64(9), np.int64(8), np.int64(5), np.int64(8), np.int64(2), np.int64(6), np.int64(6), np.int64(2), np.int64(3), np.int64(1), np.int64(3), np.int64(2), np.int64(7), np.int64(3), np.int64(1), np.int64(9), np.int64(0), np.int64(1), np.int64(1), np.int64(3), np.int64(5), np.int64(0), np.int64(7), np.int64(8), np.int64(1), np.int64(5), np.int64(1), np.int64(4), np.int64(6), np.int64(0), np.int64(0), np.int64(4), np.int64(9), np.int64(1), np.int64(6), np.int64(6), np.int64(9), np.int64(0), np.int64(7), np.int64(6), np.int64(1), np.int64(1), np.int64(0), np.int64(1), np.int64(2), np.int64(3), np.int64(4), np.int64(2), np.int64(2), np.int64(3), np.int64(4), np.int64(5), np.int64(6), np.int64(2), np.int64(0), np.int64(1), np.int64(2), np.int64(7), np.int64(8), np.int64(6), np.int64(3), np.int64(9), np.int64(2), np.int64(1), np.int64(9), np.int64(3), np.int64(9), np.int64(6), np.int64(1), np.int64(7), np.int64(2), np.int64(4), np.int64(4), np.int64(5), np.int64(7), np.int64(0), np.int64(0), np.int64(1), np.int64(6), np.int64(6), np.int64(8), np.int64(2), np.int64(7), np.int64(7), np.int64(2), np.int64(4), np.int64(2), np.int64(1), np.int64(6), np.int64(1), np.int64(0), np.int64(6), np.int64(9), np.int64(8), np.int64(3), np.int64(9), np.int64(6), np.int64(3), np.int64(0), np.int64(1), np.int64(2), np.int64(3), np.int64(4), np.int64(5), np.int64(6), np.int64(7), np.int64(8), np.int64(9), np.int64(0), np.int64(8), np.int64(2), np.int64(3), np.int64(4), np.int64(5), np.int64(6), np.int64(7), np.int64(8), np.int64(9), np.int64(0), np.int64(1), np.int64(2), np.int64(3), np.int64(4), np.int64(5), np.int64(6), np.int64(7), np.int64(8), np.int64(9), np.int64(1), np.int64(6), np.int64(8), np.int64(9), np.int64(9), np.int64(0), np.int64(1), np.int64(2), np.int64(4), np.int64(4), np.int64(3), np.int64(7), np.int64(4), np.int64(4), np.int64(4), np.int64(0), np.int64(3), np.int64(8), np.int64(7), np.int64(5), np.int64(8), np.int64(2), np.int64(1), np.int64(7), np.int64(5), np.int64(3), np.int64(8), np.int64(5), np.int64(2), np.int64(5), np.int64(1), np.int64(1), np.int64(6), np.int64(2), np.int64(1), np.int64(3), np.int64(8), np.int64(6), np.int64(4), np.int64(2), np.int64(6), np.int64(2), np.int64(5), np.int64(5), np.int64(0), np.int64(2), np.int64(8), np.int64(0), np.int64(6), np.int64(8), np.int64(1), np.int64(7), np.int64(9), np.int64(1), np.int64(9), np.int64(2), np.int64(6), np.int64(7), np.int64(6), np.int64(6), np.int64(8), np.int64(7), np.int64(4), np.int64(9), np.int64(2), np.int64(1), np.int64(3), np.int64(3), np.int64(0), np.int64(5), np.int64(5), np.int64(8), np.int64(0), np.int64(3), np.int64(7), np.int64(9), np.int64(7), np.int64(0), np.int64(2), np.int64(7), np.int64(9), np.int64(1), np.int64(7), np.int64(8), np.int64(0), np.int64(3), np.int64(5), np.int64(3), np.int64(6), np.int64(0), np.int64(1), np.int64(2), np.int64(3), np.int64(4), np.int64(5), np.int64(6), np.int64(7), np.int64(8), np.int64(9), np.int64(0), np.int64(1), np.int64(2), np.int64(3), np.int64(4), np.int64(5), np.int64(6), np.int64(7), np.int64(8), np.int64(9), np.int64(0), np.int64(1), np.int64(2), np.int64(3), np.int64(4), np.int64(7), np.int64(8), np.int64(9), np.int64(6), np.int64(4), np.int64(2), np.int64(6), np.int64(4), np.int64(7), np.int64(8), np.int64(9), np.int64(2), np.int64(9), np.int64(3), np.int64(9), np.int64(3), np.int64(0), np.int64(0), np.int64(1), np.int64(0), np.int64(4), np.int64(2), np.int64(6), np.int64(3), np.int64(5), np.int64(3), np.int64(0), np.int64(3), np.int64(4), np.int64(1), np.int64(5), np.int64(3), np.int64(0), np.int64(8), np.int64(3), np.int64(0), np.int64(6), np.int64(1), np.int64(7), np.int64(8), np.int64(0), np.int64(9), np.int64(2), np.int64(6), np.int64(7), np.int64(1), np.int64(9), np.int64(6), np.int64(9), np.int64(4), np.int64(9), np.int64(9), np.int64(6), np.int64(7), np.int64(1), np.int64(2), np.int64(5), np.int64(3), np.int64(7), np.int64(8), np.int64(0), np.int64(1), np.int64(2), np.int64(4), np.int64(5), np.int64(6), np.int64(7), np.int64(8), np.int64(9), np.int64(0), np.int64(1), np.int64(3), np.int64(4), np.int64(5), np.int64(6), np.int64(7), np.int64(5), np.int64(0), np.int64(1), np.int64(3), np.int64(4), np.int64(7), np.int64(8), np.int64(9), np.int64(7), np.int64(5), np.int64(5), np.int64(1), np.int64(9), np.int64(9), np.int64(7), np.int64(1), np.int64(0), np.int64(0), np.int64(5), np.int64(9), np.int64(7), np.int64(1), np.int64(7), np.int64(2), np.int64(2), np.int64(3), np.int64(6), np.int64(8), np.int64(3), np.int64(2), np.int64(0), np.int64(0), np.int64(6), np.int64(1), np.int64(7), np.int64(5), np.int64(5), np.int64(6), np.int64(2), np.int64(9), np.int64(4), np.int64(8), np.int64(8), np.int64(7), np.int64(1), np.int64(0), np.int64(8), np.int64(7), np.int64(7), np.int64(5), np.int64(8), np.int64(5), np.int64(3), np.int64(4), np.int64(6), np.int64(1), np.int64(1), np.int64(5), np.int64(5), np.int64(0), np.int64(7), np.int64(2), np.int64(3), np.int64(6), np.int64(4), np.int64(1), np.int64(2), np.int64(4), np.int64(1), np.int64(5), np.int64(4), np.int64(2), np.int64(0), np.int64(4), np.int64(8), np.int64(6), np.int64(1), np.int64(9), np.int64(0), np.int64(2), np.int64(5), np.int64(6), np.int64(9), np.int64(3), np.int64(6), np.int64(3), np.int64(6), np.int64(0), np.int64(1), np.int64(2), np.int64(3), np.int64(4), np.int64(5), np.int64(6), np.int64(7), np.int64(8), np.int64(9), np.int64(0), np.int64(1), np.int64(2), np.int64(3), np.int64(4), np.int64(5), np.int64(6), np.int64(7), np.int64(8), np.int64(9), np.int64(0), np.int64(1), np.int64(2), np.int64(3), np.int64(5), np.int64(6), np.int64(7), np.int64(8), np.int64(1), np.int64(0), np.int64(9), np.int64(5), np.int64(7), np.int64(5), np.int64(1), np.int64(8), np.int64(6), np.int64(9), np.int64(0), np.int64(4), np.int64(1), np.int64(9), np.int64(3), np.int64(8), np.int64(4), np.int64(4), np.int64(7), np.int64(0), np.int64(1), np.int64(9), np.int64(2), np.int64(8), np.int64(7), np.int64(8), np.int64(2), np.int64(5), np.int64(9), np.int64(6), np.int64(0), np.int64(6), np.int64(5), np.int64(5), np.int64(3), np.int64(3), np.int64(3), np.int64(9), np.int64(8), np.int64(1), np.int64(1), np.int64(0), np.int64(6), np.int64(1), np.int64(0), np.int64(0), np.int64(6), np.int64(2), np.int64(1), np.int64(1), np.int64(3), np.int64(2), np.int64(7), np.int64(7), np.int64(8), np.int64(8), np.int64(7), np.int64(8), np.int64(4), np.int64(6), np.int64(0), np.int64(2), np.int64(0), np.int64(7), np.int64(0), np.int64(3), np.int64(6), np.int64(8), np.int64(7), np.int64(1), np.int64(5), np.int64(9), np.int64(9), np.int64(3), np.int64(7), np.int64(2), np.int64(4), np.int64(9), np.int64(4), np.int64(3), np.int64(6), np.int64(2), np.int64(2), np.int64(5), np.int64(3), np.int64(2), np.int64(5), np.int64(3), np.int64(9), np.int64(4), np.int64(1), np.int64(7), np.int64(2), np.int64(0), np.int64(1), np.int64(3), np.int64(3), np.int64(4), np.int64(5), np.int64(6), np.int64(7), np.int64(8), np.int64(9), np.int64(0), np.int64(1), np.int64(7), np.int64(3), np.int64(4), np.int64(5), np.int64(6), np.int64(7), np.int64(8), np.int64(9), np.int64(0), np.int64(1), np.int64(2), np.int64(3), np.int64(4), np.int64(5), np.int64(6), np.int64(7), np.int64(8), np.int64(9), np.int64(1), np.int64(0), np.int64(1), np.int64(2), np.int64(7), np.int64(5), np.int64(3), np.int64(4), np.int64(4), np.int64(0), np.int64(0), np.int64(6), np.int64(9), np.int64(6), np.int64(6), np.int64(5), np.int64(7), np.int64(2), np.int64(3), np.int64(4), np.int64(4), np.int64(9), np.int64(1), np.int64(4), np.int64(0), np.int64(7), np.int64(9), np.int64(5), np.int64(7), np.int64(2), np.int64(3), np.int64(1), np.int64(4), np.int64(4), np.int64(0), np.int64(9), np.int64(9), np.int64(6), np.int64(1), np.int64(8), np.int64(3), np.int64(3), np.int64(7), np.int64(3), np.int64(9), np.int64(8), np.int64(8), np.int64(4), np.int64(7), np.int64(7), np.int64(6), np.int64(2), np.int64(1), np.int64(9), np.int64(8), np.int64(7), np.int64(8), np.int64(8), np.int64(7), np.int64(2), np.int64(2), np.int64(3), np.int64(9), np.int64(3), np.int64(3), np.int64(5), np.int64(5), np.int64(0), np.int64(7), np.int64(4), np.int64(5), np.int64(6), np.int64(5), np.int64(1), np.int64(4), np.int64(1), np.int64(1), np.int64(2), np.int64(8), np.int64(2), np.int64(6), np.int64(1), np.int64(5), np.int64(0), np.int64(1), np.int64(2), np.int64(3), np.int64(4), np.int64(5), np.int64(6), np.int64(7), np.int64(8), np.int64(9), np.int64(0), np.int64(1), np.int64(2), np.int64(3), np.int64(4), np.int64(5), np.int64(6), np.int64(7), np.int64(8), np.int64(9), np.int64(7), np.int64(1), np.int64(2), np.int64(3), np.int64(4), np.int64(5), np.int64(6), np.int64(7), np.int64(8), np.int64(8), np.int64(0), np.int64(6), np.int64(0), np.int64(8), np.int64(2), np.int64(3), np.int64(7), np.int64(9), np.int64(4), np.int64(7), np.int64(1), np.int64(9), np.int64(1), np.int64(7), np.int64(1), np.int64(4), np.int64(0), np.int64(0), np.int64(1), np.int64(7), np.int64(5), np.int64(7), np.int64(1), np.int64(3), np.int64(3), np.int64(3), np.int64(1), np.int64(6), np.int64(9), np.int64(7), np.int64(1), np.int64(3), np.int64(0), np.int64(7), np.int64(6), np.int64(0), np.int64(8), np.int64(9), np.int64(4), np.int64(3), np.int64(5), np.int64(4), np.int64(8), np.int64(1), np.int64(5), np.int64(9), np.int64(0), np.int64(6), np.int64(3), np.int64(3), np.int64(8), np.int64(1), np.int64(4), np.int64(7), np.int64(5), np.int64(2), np.int64(0), np.int64(0), np.int64(1), np.int64(7), np.int64(8), np.int64(7), np.int64(6), np.int64(8), np.int64(8), np.int64(2), np.int64(3), np.int64(5), np.int64(1), np.int64(8), np.int64(9), np.int64(5), np.int64(2), np.int64(0), np.int64(1), np.int64(2), np.int64(3), np.int64(4), np.int64(5), np.int64(6), np.int64(7), np.int64(8), np.int64(9), np.int64(0), np.int64(1), np.int64(3), np.int64(3), np.int64(4), np.int64(5), np.int64(6), np.int64(7), np.int64(8), np.int64(9), np.int64(0), np.int64(1), np.int64(3), np.int64(3), np.int64(4), np.int64(6), np.int64(6), np.int64(7), np.int64(8), np.int64(9), np.int64(7), np.int64(4), np.int64(6), np.int64(1), np.int64(4), np.int64(0), np.int64(9), np.int64(9), np.int64(3), np.int64(7), np.int64(8), np.int64(2), np.int64(7), np.int64(5), np.int64(8), np.int64(5), np.int64(3), np.int64(2), np.int64(2), np.int64(0), np.int64(5), np.int64(8), np.int64(6), np.int64(0), np.int64(3), np.int64(8), np.int64(1), np.int64(0), np.int64(3), np.int64(0), np.int64(4), np.int64(7), np.int64(4), np.int64(9), np.int64(0), np.int64(9), np.int64(5), np.int64(7), np.int64(1), np.int64(7), np.int64(1), np.int64(6), np.int64(6), np.int64(5), np.int64(6), np.int64(2), np.int64(8), np.int64(7), np.int64(6), np.int64(4), np.int64(9), np.int64(9), np.int64(5), np.int64(3), np.int64(7), np.int64(4), np.int64(3), np.int64(0), np.int64(1), np.int64(6), np.int64(6), np.int64(1), np.int64(1), np.int64(3), np.int64(2), np.int64(1), np.int64(0), np.int64(0), np.int64(1), np.int64(2), np.int64(3), np.int64(4), np.int64(7), np.int64(8), np.int64(4), np.int64(0), np.int64(1), np.int64(2), np.int64(3), np.int64(4), np.int64(5), np.int64(6), np.int64(7), np.int64(8), np.int64(0), np.int64(1), np.int64(2), np.int64(3), np.int64(4), np.int64(7), np.int64(8), np.int64(9), np.int64(0), np.int64(8), np.int64(3), np.int64(9), np.int64(5), np.int64(5), np.int64(2), np.int64(6), np.int64(8), np.int64(4), np.int64(1), np.int64(7), np.int64(1), np.int64(3), np.int64(3), np.int64(5), np.int64(6), np.int64(9), np.int64(1), np.int64(1), np.int64(1), np.int64(2), np.int64(1), np.int64(2), np.int64(6), np.int64(7), np.int64(7), np.int64(5), np.int64(8), np.int64(2), np.int64(9), np.int64(8), np.int64(8), np.int64(7), np.int64(3), np.int64(4), np.int64(6), np.int64(8), np.int64(7), np.int64(0), np.int64(4), np.int64(2), np.int64(7), np.int64(7), np.int64(5), np.int64(4), np.int64(3), np.int64(4), np.int64(2), np.int64(8), np.int64(1), np.int64(5), np.int64(1), np.int64(0), np.int64(2), np.int64(3), np.int64(3), np.int64(5), np.int64(7), np.int64(0), np.int64(6), np.int64(8), np.int64(6), np.int64(3), np.int64(9), np.int64(9), np.int64(8), np.int64(2), np.int64(7), np.int64(7), np.int64(1), np.int64(0), np.int64(1), np.int64(7), np.int64(8), np.int64(9), np.int64(0), np.int64(1), np.int64(2), np.int64(3), np.int64(4), np.int64(5), np.int64(6), np.int64(7), np.int64(8), np.int64(0), np.int64(1), np.int64(2), np.int64(3), np.int64(4), np.int64(9), np.int64(8), np.int64(9), np.int64(7), np.int64(8), np.int64(6), np.int64(4), np.int64(1), np.int64(9), np.int64(3), np.int64(8), np.int64(4), np.int64(4), np.int64(9), np.int64(0), np.int64(1), np.int64(9), np.int64(2), np.int64(8), np.int64(7), np.int64(8), np.int64(2), np.int64(6), np.int64(0), np.int64(6), np.int64(5), np.int64(3), np.int64(3), np.int64(5), np.int64(9), np.int64(1), np.int64(4), np.int64(0), np.int64(6), np.int64(1), np.int64(0), np.int64(0), np.int64(6), np.int64(2), np.int64(1), np.int64(1), np.int64(7), np.int64(7), np.int64(8), np.int64(4), np.int64(6), np.int64(0), np.int64(7), np.int64(0), np.int64(3), np.int64(6), np.int64(8), np.int64(7), np.int64(1), np.int64(5), np.int64(2), np.int64(4), np.int64(9), np.int64(4), np.int64(3), np.int64(6), np.int64(4), np.int64(1), np.int64(7), np.int64(2), np.int64(6), np.int64(5), np.int64(0), np.int64(1), np.int64(2), np.int64(3), np.int64(4), np.int64(5), np.int64(6), np.int64(7), np.int64(8), np.int64(9), np.int64(0), np.int64(1), np.int64(2), np.int64(3), np.int64(4), np.int64(5), np.int64(6)]\n"
          ]
        }
      ]
    },
    {
      "cell_type": "markdown",
      "source": [
        "y_test   ---.>True labels\n",
        "y_pred_labels->"
      ],
      "metadata": {
        "id": "MM_RvY8MJi4W"
      }
    },
    {
      "cell_type": "markdown",
      "source": [
        "Confusion matrix"
      ],
      "metadata": {
        "id": "i18biY21W4TM"
      }
    },
    {
      "cell_type": "code",
      "source": [
        "conf_mat = confusion_matrix(Y_test,y_pred_labels)"
      ],
      "metadata": {
        "id": "sLouzeOBJbj8"
      },
      "execution_count": null,
      "outputs": []
    },
    {
      "cell_type": "code",
      "source": [
        "print(conf_mat)"
      ],
      "metadata": {
        "colab": {
          "base_uri": "https://localhost:8080/"
        },
        "id": "V7SMZmGQX4Pz",
        "outputId": "072d6926-105e-4a48-9003-cc13c912c8e6"
      },
      "execution_count": null,
      "outputs": [
        {
          "output_type": "stream",
          "name": "stdout",
          "text": [
            "tf.Tensor(\n",
            "[[ 958    0    1    0    1    4    7    1    1    7]\n",
            " [   0 1121    0    2    1    1    4    1    5    0]\n",
            " [   7    3  971   18    5    0    6   12   10    0]\n",
            " [   0    0    2  987    0    9    0    3    3    6]\n",
            " [   0    1    4    1  951    0    8    1    1   15]\n",
            " [   1    0    0   11    1  867    7    1    2    2]\n",
            " [   3    2    1    1    1    6  942    0    2    0]\n",
            " [   0    5    5    5    4    2    0  988    3   16]\n",
            " [   3    0    6    8    3    6    5    1  932   10]\n",
            " [   2    0    0    3   14    7    0    3    3  977]], shape=(10, 10), dtype=int32)\n"
          ]
        }
      ]
    },
    {
      "cell_type": "code",
      "source": [
        "plt.figure(figsize=(15,7))\n",
        "sns.heatmap(conf_mat, annot=True,fmt='d',cmap='Blues')\n",
        "plt.ylabel('True Labels')\n",
        "plt.xlabel('prediicted Labels')"
      ],
      "metadata": {
        "colab": {
          "base_uri": "https://localhost:8080/",
          "height": 539
        },
        "id": "IhN6o3EJYEqo",
        "outputId": "cfa30e9f-6b86-4b20-d7a7-a4cda475016d"
      },
      "execution_count": null,
      "outputs": [
        {
          "output_type": "execute_result",
          "data": {
            "text/plain": [
              "Text(0.5, 47.7222222222222, 'prediicted Labels')"
            ]
          },
          "metadata": {},
          "execution_count": 34
        },
        {
          "output_type": "display_data",
          "data": {
            "text/plain": [
              "<Figure size 1500x700 with 2 Axes>"
            ],
            "image/png": "[encoded data removed]"
          },
          "metadata": {}
        }
      ]
    },
    {
      "cell_type": "code",
      "source": [
        "input_image_path = '/content/MNIST_digit.png'\n",
        "input_image = cv2.imread(input_image_path)"
      ],
      "metadata": {
        "id": "P1nE1LQcYqFz"
      },
      "execution_count": null,
      "outputs": []
    },
    {
      "cell_type": "code",
      "source": [
        "type(input_image)"
      ],
      "metadata": {
        "colab": {
          "base_uri": "https://localhost:8080/"
        },
        "id": "KabB8kB-aPtg",
        "outputId": "72484dea-fed3-4b5d-df09-e717f7142125"
      },
      "execution_count": null,
      "outputs": [
        {
          "output_type": "execute_result",
          "data": {
            "text/plain": [
              "numpy.ndarray"
            ]
          },
          "metadata": {},
          "execution_count": 37
        }
      ]
    },
    {
      "cell_type": "code",
      "source": [
        "print(input_image)"
      ],
      "metadata": {
        "colab": {
          "base_uri": "https://localhost:8080/"
        },
        "id": "_3DzdxNSaWy1",
        "outputId": "10b7cb01-7185-4df0-88da-4692ab82374b"
      },
      "execution_count": null,
      "outputs": [
        {
          "output_type": "stream",
          "name": "stdout",
          "text": [
            "[[[0 0 0]\n",
            "  [0 0 0]\n",
            "  [0 0 0]\n",
            "  ...\n",
            "  [0 0 0]\n",
            "  [0 0 0]\n",
            "  [0 0 0]]\n",
            "\n",
            " [[0 0 0]\n",
            "  [0 0 0]\n",
            "  [0 0 0]\n",
            "  ...\n",
            "  [0 0 0]\n",
            "  [0 0 0]\n",
            "  [0 0 0]]\n",
            "\n",
            " [[0 0 0]\n",
            "  [0 0 0]\n",
            "  [0 0 0]\n",
            "  ...\n",
            "  [0 0 0]\n",
            "  [0 0 0]\n",
            "  [0 0 0]]\n",
            "\n",
            " ...\n",
            "\n",
            " [[0 0 0]\n",
            "  [0 0 0]\n",
            "  [0 0 0]\n",
            "  ...\n",
            "  [0 0 0]\n",
            "  [0 0 0]\n",
            "  [0 0 0]]\n",
            "\n",
            " [[0 0 0]\n",
            "  [0 0 0]\n",
            "  [0 0 0]\n",
            "  ...\n",
            "  [0 0 0]\n",
            "  [0 0 0]\n",
            "  [0 0 0]]\n",
            "\n",
            " [[0 0 0]\n",
            "  [0 0 0]\n",
            "  [0 0 0]\n",
            "  ...\n",
            "  [0 0 0]\n",
            "  [0 0 0]\n",
            "  [0 0 0]]]\n"
          ]
        }
      ]
    },
    {
      "cell_type": "code",
      "source": [
        "cv2_imshow(input_image)"
      ],
      "metadata": {
        "colab": {
          "base_uri": "https://localhost:8080/",
          "height": 335
        },
        "id": "vzIAn_n4adH-",
        "outputId": "dc41d6bb-9551-484f-e300-88790f840487"
      },
      "execution_count": null,
      "outputs": [
        {
          "output_type": "display_data",
          "data": {
            "text/plain": [
              "<PIL.Image.Image image mode=RGB size=318x318>"
            ],
            "image/png": "[encoded data removed]",
            "image/jpeg": "[encoded data removed]"
          },
          "metadata": {}
        }
      ]
    },
    {
      "cell_type": "code",
      "source": [
        "input_image.shape"
      ],
      "metadata": {
        "colab": {
          "base_uri": "https://localhost:8080/"
        },
        "id": "Uv8zKSe5amnM",
        "outputId": "32123a02-ea27-486b-faf5-141a137ba935"
      },
      "execution_count": null,
      "outputs": [
        {
          "output_type": "execute_result",
          "data": {
            "text/plain": [
              "(318, 318, 3)"
            ]
          },
          "metadata": {},
          "execution_count": 40
        }
      ]
    },
    {
      "cell_type": "code",
      "source": [
        "grayscale =cv2.cvtColor(input_image,cv2.COLOR_RGB2GRAY)"
      ],
      "metadata": {
        "id": "4PvYA5r-avYd"
      },
      "execution_count": null,
      "outputs": []
    },
    {
      "cell_type": "code",
      "source": [
        "grayscale.shape"
      ],
      "metadata": {
        "colab": {
          "base_uri": "https://localhost:8080/"
        },
        "id": "ikf2rz1IbH7S",
        "outputId": "63efeea1-335e-413a-d004-87ee5d753158"
      },
      "execution_count": null,
      "outputs": [
        {
          "output_type": "execute_result",
          "data": {
            "text/plain": [
              "(318, 318)"
            ]
          },
          "metadata": {},
          "execution_count": 42
        }
      ]
    },
    {
      "cell_type": "code",
      "source": [
        "input_image_resize = cv2.resize(grayscale,(28,28))"
      ],
      "metadata": {
        "id": "E1Wm7_pwbNuS"
      },
      "execution_count": null,
      "outputs": []
    },
    {
      "cell_type": "code",
      "source": [
        "input_image_resize.shape"
      ],
      "metadata": {
        "colab": {
          "base_uri": "https://localhost:8080/"
        },
        "id": "SYVGLfSCbjWq",
        "outputId": "4afb17c6-9eba-4e5d-da9d-dc33b745c2b4"
      },
      "execution_count": null,
      "outputs": [
        {
          "output_type": "execute_result",
          "data": {
            "text/plain": [
              "(28, 28)"
            ]
          },
          "metadata": {},
          "execution_count": 45
        }
      ]
    },
    {
      "cell_type": "code",
      "source": [
        "cv2_imshow(input_image_resize)"
      ],
      "metadata": {
        "colab": {
          "base_uri": "https://localhost:8080/",
          "height": 45
        },
        "id": "BYbzvb1bbpIq",
        "outputId": "f571c0c0-56b9-4cd0-a55a-076ca12e3785"
      },
      "execution_count": null,
      "outputs": [
        {
          "output_type": "display_data",
          "data": {
            "text/plain": [
              "<PIL.Image.Image image mode=L size=28x28>"
            ],
            "image/png": "[encoded data removed]",
            "image/jpeg": "[encoded data removed]"
          },
          "metadata": {}
        }
      ]
    },
    {
      "cell_type": "code",
      "source": [
        "input_image_resize=input_image_resize/255"
      ],
      "metadata": {
        "id": "iY3JwQ5GbvUW"
      },
      "execution_count": null,
      "outputs": []
    },
    {
      "cell_type": "code",
      "source": [
        "type(input_image_resize)"
      ],
      "metadata": {
        "colab": {
          "base_uri": "https://localhost:8080/"
        },
        "id": "B5LVg_NBcO9P",
        "outputId": "3086d514-7814-4c81-d681-6112ddafebec"
      },
      "execution_count": null,
      "outputs": [
        {
          "output_type": "execute_result",
          "data": {
            "text/plain": [
              "numpy.ndarray"
            ]
          },
          "metadata": {},
          "execution_count": 50
        }
      ]
    },
    {
      "cell_type": "code",
      "source": [
        "image_reshaped = np.reshape(input_image_resize,[1,28,28])"
      ],
      "metadata": {
        "id": "ouEoEDJhb86q"
      },
      "execution_count": null,
      "outputs": []
    },
    {
      "cell_type": "code",
      "source": [
        "input_prediction = model.predict(image_reshaped)\n",
        "print(input_prediction)"
      ],
      "metadata": {
        "colab": {
          "base_uri": "https://localhost:8080/"
        },
        "id": "2QATJ_kMcXKK",
        "outputId": "d0435d7b-1bcb-4c82-a713-ceba6bfced36"
      },
      "execution_count": null,
      "outputs": [
        {
          "output_type": "stream",
          "name": "stdout",
          "text": [
            "\u001b[1m1/1\u001b[0m \u001b[32m━━━━━━━━━━━━━━━━━━━━\u001b[0m\u001b[37m\u001b[0m \u001b[1m0s\u001b[0m 36ms/step\n",
            "[[3.8996012e-15 2.1720104e-01 2.9276936e-07 1.0000000e+00 1.5826541e-14\n",
            "  5.2691378e-02 3.7851154e-25 1.0214226e-01 4.7551682e-03 6.8571651e-01]]\n"
          ]
        }
      ]
    },
    {
      "cell_type": "code",
      "source": [
        "input_pred_label  = np.argmax(input_prediction)"
      ],
      "metadata": {
        "id": "fH86F04Jcxpc"
      },
      "execution_count": null,
      "outputs": []
    },
    {
      "cell_type": "code",
      "source": [
        "print(input_pred_label)"
      ],
      "metadata": {
        "colab": {
          "base_uri": "https://localhost:8080/"
        },
        "id": "_3xQzNgHc8G7",
        "outputId": "94138454-05cb-4a61-d8a9-9b5d79a66a2a"
      },
      "execution_count": null,
      "outputs": [
        {
          "output_type": "stream",
          "name": "stdout",
          "text": [
            "3\n"
          ]
        }
      ]
    },
    {
      "cell_type": "markdown",
      "source": [
        "predictive system"
      ],
      "metadata": {
        "id": "oyWKz8wldEjO"
      }
    },
    {
      "cell_type": "code",
      "source": [
        "input_image_path = input('path of the image to e predicting')\n",
        "input_image = cv2.imread(input_image_path)\n",
        "grayscale = cv2.cvtColor(input_image,cv2.COLOR_RGB2GRAY)\n",
        "input_image_resize = cv2.resize(grayscale,(28,28))\n",
        "input_image_resize = input_image_resize/255\n",
        "image_reshaped = np.reshape(input_image_resize,[1,28,28])\n",
        "input_prediction = model.predict(image_reshaped)\n",
        "input_pred_label = np.argmax(input_prediction)\n",
        "print('The handwritten digit is recognised',input_pred_labe)"
      ],
      "metadata": {
        "id": "AALZoihRdDSV"
      },
      "execution_count": null,
      "outputs": []
    },
    {
      "cell_type": "code",
      "source": [],
      "metadata": {
        "id": "v5NHMJPocIXA"
      },
      "execution_count": null,
      "outputs": []
    }
  ]
}