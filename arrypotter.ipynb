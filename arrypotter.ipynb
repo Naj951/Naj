{
  "nbformat": 4,
  "nbformat_minor": 0,
  "metadata": {
    "colab": {
      "provenance": [],
      "authorship_tag": "ABX9TyMtrqRDGpE0lTeCb9hOF6KF",
      "include_colab_link": true
    },
    "kernelspec": {
      "name": "python3",
      "display_name": "Python 3"
    },
    "language_info": {
      "name": "python"
    }
  },
  "cells": [
    {
      "cell_type": "markdown",
      "metadata": {
        "id": "view-in-github",
        "colab_type": "text"
      },
      "source": [
        "<a href=\"https://colab.research.google.com/github/Naj951/Naj/blob/main/arrypotter.ipynb\" target=\"_parent\"><img src=\"https://colab.research.google.com/assets/colab-badge.svg\" alt=\"Open In Colab\"/></a>"
      ]
    },
    {
      "cell_type": "code",
      "execution_count": 12,
      "metadata": {
        "id": "L-NBbgbSPsRu"
      },
      "outputs": [],
      "source": [
        "import cv2\n",
        "import numpy as np"
      ]
    },
    {
      "cell_type": "markdown",
      "source": [
        "#initial function for the callng of the trackbar\n",
        "\n",
        "\n",
        "\n",
        "\n",
        "\n"
      ],
      "metadata": {
        "id": "YWlCNYKDQ5jl"
      }
    },
    {
      "cell_type": "code",
      "source": [
        "def hello(x):\n",
        "  print(\"\")"
      ],
      "metadata": {
        "id": "oc4_7pLXSgCM"
      },
      "execution_count": 16,
      "outputs": []
    },
    {
      "cell_type": "markdown",
      "source": [
        "#initialisation of the camera"
      ],
      "metadata": {
        "id": "FFTWS7rpS1Hh"
      }
    },
    {
      "cell_type": "code",
      "source": [
        "\n",
        "\n",
        "cap = cv2.VideoCapture(0)\n",
        "bars = cv2.namedWindow(\"bars\")\n",
        "\n",
        "cv2.createTrackbar(\"upper_hue\",\"bars\",110,180,hello)\n",
        "cv2.createTrackbar(\"upper_saturation\",\"bars\",255,255,hello)\n",
        "cv2.createTrackbar(\"upper_value\",\"bars\",255,255,hello)\n",
        "cv2.createTrackbar(\"lower_hue\",\"bars\",68,180,hello)\n",
        "cv2.createTrackbar(\"lower_saturation\",\"bars\",55,255,hello)\n",
        "cv2.createTrackbar(\"lower_value\",\"bars\",54,255,hello)"
      ],
      "metadata": {
        "id": "lFdboyfVS7nE",
        "colab": {
          "base_uri": "https://localhost:8080/",
          "height": 217
        },
        "outputId": "42f11f39-3b31-456c-c094-8284b94b1ad8"
      },
      "execution_count": 1,
      "outputs": [
        {
          "output_type": "error",
          "ename": "NameError",
          "evalue": "name 'cv2' is not defined",
          "traceback": [
            "\u001b[0;31m---------------------------------------------------------------------------\u001b[0m",
            "\u001b[0;31mNameError\u001b[0m                                 Traceback (most recent call last)",
            "\u001b[0;32m/tmp/ipython-input-504895618.py\u001b[0m in \u001b[0;36m<cell line: 0>\u001b[0;34m()\u001b[0m\n\u001b[0;32m----> 1\u001b[0;31m \u001b[0mcap\u001b[0m \u001b[0;34m=\u001b[0m \u001b[0mcv2\u001b[0m\u001b[0;34m.\u001b[0m\u001b[0mVideoCapture\u001b[0m\u001b[0;34m(\u001b[0m\u001b[0;36m0\u001b[0m\u001b[0;34m)\u001b[0m\u001b[0;34m\u001b[0m\u001b[0;34m\u001b[0m\u001b[0m\n\u001b[0m\u001b[1;32m      2\u001b[0m \u001b[0mbars\u001b[0m \u001b[0;34m=\u001b[0m \u001b[0mcv2\u001b[0m\u001b[0;34m.\u001b[0m\u001b[0mnamedWindow\u001b[0m\u001b[0;34m(\u001b[0m\u001b[0;34m\"bars\"\u001b[0m\u001b[0;34m)\u001b[0m\u001b[0;34m\u001b[0m\u001b[0;34m\u001b[0m\u001b[0m\n\u001b[1;32m      3\u001b[0m \u001b[0;34m\u001b[0m\u001b[0m\n\u001b[1;32m      4\u001b[0m \u001b[0mcv2\u001b[0m\u001b[0;34m.\u001b[0m\u001b[0mcreateTrackbar\u001b[0m\u001b[0;34m(\u001b[0m\u001b[0;34m\"upper_hue\"\u001b[0m\u001b[0;34m,\u001b[0m\u001b[0;34m\"bars\"\u001b[0m\u001b[0;34m,\u001b[0m\u001b[0;36m110\u001b[0m\u001b[0;34m,\u001b[0m\u001b[0;36m180\u001b[0m\u001b[0;34m,\u001b[0m\u001b[0mhello\u001b[0m\u001b[0;34m)\u001b[0m\u001b[0;34m\u001b[0m\u001b[0;34m\u001b[0m\u001b[0m\n\u001b[1;32m      5\u001b[0m \u001b[0mcv2\u001b[0m\u001b[0;34m.\u001b[0m\u001b[0mcreateTrackbar\u001b[0m\u001b[0;34m(\u001b[0m\u001b[0;34m\"upper_saturation\"\u001b[0m\u001b[0;34m,\u001b[0m\u001b[0;34m\"bars\"\u001b[0m\u001b[0;34m,\u001b[0m\u001b[0;36m255\u001b[0m\u001b[0;34m,\u001b[0m\u001b[0;36m255\u001b[0m\u001b[0;34m,\u001b[0m\u001b[0mhello\u001b[0m\u001b[0;34m)\u001b[0m\u001b[0;34m\u001b[0m\u001b[0;34m\u001b[0m\u001b[0m\n",
            "\u001b[0;31mNameError\u001b[0m: name 'cv2' is not defined"
          ]
        }
      ]
    },
    {
      "cell_type": "markdown",
      "source": [
        "capturing the initial frame for. feation of background"
      ],
      "metadata": {
        "id": "3ZyC9Pb5ZI6z"
      }
    },
    {
      "cell_type": "code",
      "source": [
        "while(true):\n",
        "  cv2.waitKey(1000)\n",
        "  ret.init_frame = cap.read()\n"
      ],
      "metadata": {
        "id": "dJY_EQwaZSxm",
        "colab": {
          "base_uri": "https://localhost:8080/",
          "height": 181
        },
        "outputId": "603bd251-44cb-4681-e59c-42893627a804"
      },
      "execution_count": 18,
      "outputs": [
        {
          "output_type": "error",
          "ename": "NameError",
          "evalue": "name 'true' is not defined",
          "traceback": [
            "\u001b[0;31m---------------------------------------------------------------------------\u001b[0m",
            "\u001b[0;31mNameError\u001b[0m                                 Traceback (most recent call last)",
            "\u001b[0;32m/tmp/ipython-input-559272220.py\u001b[0m in \u001b[0;36m<cell line: 0>\u001b[0;34m()\u001b[0m\n\u001b[0;32m----> 1\u001b[0;31m \u001b[0;32mwhile\u001b[0m\u001b[0;34m(\u001b[0m\u001b[0mtrue\u001b[0m\u001b[0;34m)\u001b[0m\u001b[0;34m:\u001b[0m\u001b[0;34m\u001b[0m\u001b[0;34m\u001b[0m\u001b[0m\n\u001b[0m\u001b[1;32m      2\u001b[0m   \u001b[0mcv2\u001b[0m\u001b[0;34m.\u001b[0m\u001b[0mwaitKey\u001b[0m\u001b[0;34m(\u001b[0m\u001b[0;36m1000\u001b[0m\u001b[0;34m)\u001b[0m\u001b[0;34m\u001b[0m\u001b[0;34m\u001b[0m\u001b[0m\n\u001b[1;32m      3\u001b[0m   \u001b[0mret\u001b[0m\u001b[0;34m.\u001b[0m\u001b[0minit_frame\u001b[0m \u001b[0;34m=\u001b[0m \u001b[0mcap\u001b[0m\u001b[0;34m.\u001b[0m\u001b[0mread\u001b[0m\u001b[0;34m(\u001b[0m\u001b[0;34m)\u001b[0m\u001b[0;34m\u001b[0m\u001b[0;34m\u001b[0m\u001b[0m\n",
            "\u001b[0;31mNameError\u001b[0m: name 'true' is not defined"
          ]
        }
      ]
    },
    {
      "cell_type": "markdown",
      "source": [
        "#check if the frame is returned or brake"
      ],
      "metadata": {
        "id": "uiJUX-mdZzDp"
      }
    },
    {
      "cell_type": "code",
      "source": [
        "if(ret):\n",
        "  break;"
      ],
      "metadata": {
        "id": "pvAZHJ7vZ7xk",
        "colab": {
          "base_uri": "https://localhost:8080/",
          "height": 109
        },
        "outputId": "288b0456-b16f-4685-81e8-8c5a5b676088"
      },
      "execution_count": 19,
      "outputs": [
        {
          "output_type": "error",
          "ename": "SyntaxError",
          "evalue": "'break' outside loop (ipython-input-2799223265.py, line 2)",
          "traceback": [
            "\u001b[0;36m  File \u001b[0;32m\"/tmp/ipython-input-2799223265.py\"\u001b[0;36m, line \u001b[0;32m2\u001b[0m\n\u001b[0;31m    break\u001b[0m\n\u001b[0m    ^\u001b[0m\n\u001b[0;31mSyntaxError\u001b[0m\u001b[0;31m:\u001b[0m 'break' outside loop\n"
          ]
        }
      ]
    },
    {
      "cell_type": "markdown",
      "source": [
        "#start capturing the frames for actual magic"
      ],
      "metadata": {
        "id": "OpAcyOLlaVi6"
      }
    },
    {
      "cell_type": "code",
      "source": [
        "while(true):\n",
        "  ret,frame = cap.read()\n",
        "  inspect =cv2.cvtcolor(frame,cv2.COLOR_BGR2HSV)"
      ],
      "metadata": {
        "id": "D5FZOWoWaZfx"
      },
      "execution_count": null,
      "outputs": []
    },
    {
      "cell_type": "markdown",
      "source": [
        "#getting the hsv value for masking the cloak"
      ],
      "metadata": {
        "id": "rDdjfdDUaKoE"
      }
    },
    {
      "cell_type": "code",
      "source": [
        "\n",
        "upper_hue = cv2.getTrackbarPos(\"upper_hue\",\"bars\")\n",
        "upper_saturation = cv2.getTrackbarPos(\"upper_saturation\",\"bars\")\n",
        "upper_value = cv2.getTrackbarPosh(\"upper_value\",\"bars\")\n",
        "lower_value = cv2.getTrackbarPos(\"lower_value\",\"bars\")\n",
        "lower_hue = cv2.getTrackbarPos(\"lower_hue\",\"bars\")\n",
        "\n",
        "lower_saturation = cv2.getTrackbarPos(\"lower_saturation\",\"bars\")"
      ],
      "metadata": {
        "id": "3sjYm5yTaQq0",
        "colab": {
          "base_uri": "https://localhost:8080/",
          "height": 217
        },
        "outputId": "3588f75d-cb43-4261-ee06-cf210fe4bd09"
      },
      "execution_count": 2,
      "outputs": [
        {
          "output_type": "error",
          "ename": "NameError",
          "evalue": "name 'cv2' is not defined",
          "traceback": [
            "\u001b[0;31m---------------------------------------------------------------------------\u001b[0m",
            "\u001b[0;31mNameError\u001b[0m                                 Traceback (most recent call last)",
            "\u001b[0;32m/tmp/ipython-input-629897379.py\u001b[0m in \u001b[0;36m<cell line: 0>\u001b[0;34m()\u001b[0m\n\u001b[0;32m----> 1\u001b[0;31m \u001b[0mupper_hue\u001b[0m \u001b[0;34m=\u001b[0m \u001b[0mcv2\u001b[0m\u001b[0;34m.\u001b[0m\u001b[0mgetTrackbarPos\u001b[0m\u001b[0;34m(\u001b[0m\u001b[0;34m\"upper_hue\"\u001b[0m\u001b[0;34m,\u001b[0m\u001b[0;34m\"bars\"\u001b[0m\u001b[0;34m)\u001b[0m\u001b[0;34m\u001b[0m\u001b[0;34m\u001b[0m\u001b[0m\n\u001b[0m\u001b[1;32m      2\u001b[0m \u001b[0mupper_saturation\u001b[0m \u001b[0;34m=\u001b[0m \u001b[0mcv2\u001b[0m\u001b[0;34m.\u001b[0m\u001b[0mgetTrackbarPos\u001b[0m\u001b[0;34m(\u001b[0m\u001b[0;34m\"upper_saturation\"\u001b[0m\u001b[0;34m,\u001b[0m\u001b[0;34m\"bars\"\u001b[0m\u001b[0;34m)\u001b[0m\u001b[0;34m\u001b[0m\u001b[0;34m\u001b[0m\u001b[0m\n\u001b[1;32m      3\u001b[0m \u001b[0mupper_value\u001b[0m \u001b[0;34m=\u001b[0m \u001b[0mcv2\u001b[0m\u001b[0;34m.\u001b[0m\u001b[0mgetTrackbarPosh\u001b[0m\u001b[0;34m(\u001b[0m\u001b[0;34m\"upper_value\"\u001b[0m\u001b[0;34m,\u001b[0m\u001b[0;34m\"bars\"\u001b[0m\u001b[0;34m)\u001b[0m\u001b[0;34m\u001b[0m\u001b[0;34m\u001b[0m\u001b[0m\n\u001b[1;32m      4\u001b[0m \u001b[0mlower_value\u001b[0m \u001b[0;34m=\u001b[0m \u001b[0mcv2\u001b[0m\u001b[0;34m.\u001b[0m\u001b[0mgetTrackbarPos\u001b[0m\u001b[0;34m(\u001b[0m\u001b[0;34m\"lower_value\"\u001b[0m\u001b[0;34m,\u001b[0m\u001b[0;34m\"bars\"\u001b[0m\u001b[0;34m)\u001b[0m\u001b[0;34m\u001b[0m\u001b[0;34m\u001b[0m\u001b[0m\n\u001b[1;32m      5\u001b[0m \u001b[0mlower_hue\u001b[0m \u001b[0;34m=\u001b[0m \u001b[0mcv2\u001b[0m\u001b[0;34m.\u001b[0m\u001b[0mgetTrackbarPos\u001b[0m\u001b[0;34m(\u001b[0m\u001b[0;34m\"lower_hue\"\u001b[0m\u001b[0;34m,\u001b[0m\u001b[0;34m\"bars\"\u001b[0m\u001b[0;34m)\u001b[0m\u001b[0;34m\u001b[0m\u001b[0;34m\u001b[0m\u001b[0m\n",
            "\u001b[0;31mNameError\u001b[0m: name 'cv2' is not defined"
          ]
        }
      ]
    },
    {
      "cell_type": "markdown",
      "source": [
        "#kernel to be used for dilation"
      ],
      "metadata": {
        "id": "7o0oRZkBCQpr"
      }
    },
    {
      "cell_type": "code",
      "source": [
        "\n",
        "kernel = numpy.ones((3,3),numpy.uint8)\n",
        "upper_hsv = numpy.array([upper_hue,upper_saturation,upper_value])\n",
        "lower_hsv = numpy.array([lower_hue,lower_saturation,lower_value])\n",
        "\n",
        "mask = cv2.inRange(inspect,lower_hsv,upper_hsv)\n",
        "mask = cv2.medianBlur(mask,3)\n",
        "mask_inv = 255-mask\n",
        "mask = cv2.dilate(mask,kernel,5)"
      ],
      "metadata": {
        "id": "MzMeXyWxCV8Q"
      },
      "execution_count": null,
      "outputs": []
    },
    {
      "cell_type": "markdown",
      "source": [
        "#The mixing of frames in combination to achieve the required frame"
      ],
      "metadata": {
        "id": "fKa9JEHoD3dU"
      }
    },
    {
      "cell_type": "code",
      "source": [
        "b= frame[:,:,0]\n",
        "g= frame[:,:,1]\n",
        "r= frame[:,:,2]\n",
        "b = cv2.bitwise_and(mask_inv,b)\n",
        "g = cv2.bitwise_and(mask_inv,g)\n",
        "r = cv2.bitwise_and(mask_inv,r)\n",
        "frame_inv = cv2.merge(b,g,r)\n",
        "\n",
        "\n",
        "b= init_frame[:,:,0]\n",
        "g= init_frame[:,:,1]\n",
        "r = init_frame[:,:,2]\n",
        "b = cv2.bitwise_and(b,mask)\n",
        "g = cv2.bitwise_and(g,mask)\n",
        "r = cv2.bitwise_and(r,mask)\n",
        "blanket_area = cv2.merge(b,g,r)\n",
        "\n",
        "\n",
        "final = cv2.bitwise_or(frame_inv,blanket_area)\n",
        "cv2.imshow(\"Harry's Cloak\",final)\n",
        "cv2.imshow(\"original\",frame)\n",
        "\n",
        "if(cv2.waitKey(3)== ord('q')):\n",
        "  break;\n",
        "\n",
        "\n",
        "  cv2.destroyAllwindows()\n",
        "  cap.release()\n"
      ],
      "metadata": {
        "colab": {
          "base_uri": "https://localhost:8080/",
          "height": 217
        },
        "id": "sgIawmjZECgj",
        "outputId": "82277120-0e68-4bde-d280-92f31b60e92e"
      },
      "execution_count": 6,
      "outputs": [
        {
          "output_type": "error",
          "ename": "NameError",
          "evalue": "name 'frame' is not defined",
          "traceback": [
            "\u001b[0;31m---------------------------------------------------------------------------\u001b[0m",
            "\u001b[0;31mNameError\u001b[0m                                 Traceback (most recent call last)",
            "\u001b[0;32m/tmp/ipython-input-1100765607.py\u001b[0m in \u001b[0;36m<cell line: 0>\u001b[0;34m()\u001b[0m\n\u001b[0;32m----> 1\u001b[0;31m \u001b[0mb\u001b[0m\u001b[0;34m=\u001b[0m \u001b[0mframe\u001b[0m\u001b[0;34m[\u001b[0m\u001b[0;34m:\u001b[0m\u001b[0;34m,\u001b[0m\u001b[0;34m:\u001b[0m\u001b[0;34m,\u001b[0m\u001b[0;36m0\u001b[0m\u001b[0;34m]\u001b[0m\u001b[0;34m\u001b[0m\u001b[0;34m\u001b[0m\u001b[0m\n\u001b[0m\u001b[1;32m      2\u001b[0m \u001b[0mg\u001b[0m\u001b[0;34m=\u001b[0m \u001b[0mframe\u001b[0m\u001b[0;34m[\u001b[0m\u001b[0;34m:\u001b[0m\u001b[0;34m,\u001b[0m\u001b[0;34m:\u001b[0m\u001b[0;34m,\u001b[0m\u001b[0;36m1\u001b[0m\u001b[0;34m]\u001b[0m\u001b[0;34m\u001b[0m\u001b[0;34m\u001b[0m\u001b[0m\n\u001b[1;32m      3\u001b[0m \u001b[0mr\u001b[0m\u001b[0;34m=\u001b[0m \u001b[0mframe\u001b[0m\u001b[0;34m[\u001b[0m\u001b[0;34m:\u001b[0m\u001b[0;34m,\u001b[0m\u001b[0;34m:\u001b[0m\u001b[0;34m,\u001b[0m\u001b[0;36m2\u001b[0m\u001b[0;34m]\u001b[0m\u001b[0;34m\u001b[0m\u001b[0;34m\u001b[0m\u001b[0m\n\u001b[1;32m      4\u001b[0m \u001b[0mb\u001b[0m \u001b[0;34m=\u001b[0m \u001b[0mcv2\u001b[0m\u001b[0;34m.\u001b[0m\u001b[0mbitwise_and\u001b[0m\u001b[0;34m(\u001b[0m\u001b[0mmask_inv\u001b[0m\u001b[0;34m,\u001b[0m\u001b[0mb\u001b[0m\u001b[0;34m)\u001b[0m\u001b[0;34m\u001b[0m\u001b[0;34m\u001b[0m\u001b[0m\n\u001b[1;32m      5\u001b[0m \u001b[0mg\u001b[0m \u001b[0;34m=\u001b[0m \u001b[0mcv2\u001b[0m\u001b[0;34m.\u001b[0m\u001b[0mbitwise_and\u001b[0m\u001b[0;34m(\u001b[0m\u001b[0mmask_inv\u001b[0m\u001b[0;34m,\u001b[0m\u001b[0mg\u001b[0m\u001b[0;34m)\u001b[0m\u001b[0;34m\u001b[0m\u001b[0;34m\u001b[0m\u001b[0m\n",
            "\u001b[0;31mNameError\u001b[0m: name 'frame' is not defined"
          ]
        }
      ]
    },
    {
      "cell_type": "markdown",
      "source": [],
      "metadata": {
        "id": "eUU4Xr4HDxkC"
      }
    }
  ]
}